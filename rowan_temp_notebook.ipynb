{
 "cells": [
  {
   "cell_type": "code",
   "execution_count": 5,
   "metadata": {},
   "outputs": [],
   "source": [
    "from langchain.llms import OpenAI\n",
    "from langchain.prompts import PromptTemplate\n",
    "\n",
    "# Example with Hugging Face Hub:\n",
    "llm = OpenAI(model_name=\"EleutherAI/gpt-neox-20b\",  # Or any other LLM from Hugging Face\n",
    "             openai_api_key=\"sk-YOUR_HUGGING_FACE_API_KEY\")\n",
    "\n",
    "# Example with EleutherAI Models:\n",
    "# llm = OpenAI(model_name=\"EleutherAI/gpt-j-6b\",\n",
    "#              openai_api_key=\"sk-YOUR_ELEUTHERAI_API_KEY\")\n",
    "\n",
    "llm.set_llm(llm)"
   ]
  },
  {
   "cell_type": "code",
   "execution_count": 6,
   "metadata": {},
   "outputs": [],
   "source": [
    "import pandas as pd"
   ]
  }
 ],
 "metadata": {
  "kernelspec": {
   "display_name": "llm-plotting",
   "language": "python",
   "name": "python3"
  },
  "language_info": {
   "codemirror_mode": {
    "name": "ipython",
    "version": 3
   },
   "file_extension": ".py",
   "mimetype": "text/x-python",
   "name": "python",
   "nbconvert_exporter": "python",
   "pygments_lexer": "ipython3",
   "version": "3.10.0"
  },
  "orig_nbformat": 4
 },
 "nbformat": 4,
 "nbformat_minor": 2
}
