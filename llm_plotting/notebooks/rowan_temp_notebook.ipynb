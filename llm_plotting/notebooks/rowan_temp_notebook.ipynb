{
 "cells": [
  {
   "cell_type": "code",
   "execution_count": 2,
   "metadata": {},
   "outputs": [
    {
     "data": {
      "text/plain": [
       "True"
      ]
     },
     "execution_count": 2,
     "metadata": {},
     "output_type": "execute_result"
    }
   ],
   "source": [
    "from dotenv import load_dotenv\n",
    "import os\n",
    "load_dotenv()\n"
   ]
  },
  {
   "cell_type": "code",
   "execution_count": 3,
   "metadata": {},
   "outputs": [],
   "source": [
    "OPENAI_API_KEY = os.getenv(\"OPENAI_API_KEY\")"
   ]
  },
  {
   "cell_type": "markdown",
   "metadata": {},
   "source": [
    "## Schema Extraction"
   ]
  },
  {
   "cell_type": "code",
   "execution_count": 4,
   "metadata": {},
   "outputs": [
    {
     "name": "stderr",
     "output_type": "stream",
     "text": [
      "/tmp/ipykernel_494/1177998677.py:1: DeprecationWarning: \n",
      "Pyarrow will become a required dependency of pandas in the next major release of pandas (pandas 3.0),\n",
      "(to allow more performant data types, such as the Arrow string type, and better interoperability with other libraries)\n",
      "but was not found to be installed on your system.\n",
      "If this would cause problems for you,\n",
      "please provide us feedback at https://github.com/pandas-dev/pandas/issues/54466\n",
      "        \n",
      "  import pandas as pd\n"
     ]
    }
   ],
   "source": [
    "import pandas as pd\n",
    "import json"
   ]
  },
  {
   "cell_type": "code",
   "execution_count": 5,
   "metadata": {},
   "outputs": [],
   "source": [
    "df = pd.read_csv('jobs_in_data.csv')"
   ]
  },
  {
   "cell_type": "code",
   "execution_count": 6,
   "metadata": {},
   "outputs": [],
   "source": [
    "def extract_metadata(df: pd.DataFrame, col_limit=150):\n",
    "    if df.shape[1] > col_limit:\n",
    "        raise ValueError(f\"Dataframe exceeds col limit of {col_limit}\")\n",
    "    \n",
    "    df = df.copy()\n",
    "    metadata_dict = {\n",
    "        'column_names': df.columns.tolist(),\n",
    "        'data_dimensions': df.shape,\n",
    "        'data_types_per_column': df.dtypes.apply(lambda x: x.name).to_dict(),\n",
    "        'statistical_summary': df.describe().to_dict(),\n",
    "        'missing_values_per_column': df.isnull().sum().to_dict()\n",
    "    }\n",
    "    return json.dumps(metadata_dict)"
   ]
  },
  {
   "cell_type": "code",
   "execution_count": 7,
   "metadata": {},
   "outputs": [],
   "source": [
    "metadata_json = extract_metadata(df)"
   ]
  },
  {
   "cell_type": "markdown",
   "metadata": {},
   "source": [
    "## Code Generation LLM"
   ]
  },
  {
   "cell_type": "code",
   "execution_count": 8,
   "metadata": {},
   "outputs": [],
   "source": [
    "from langchain_openai import ChatOpenAI\n",
    "from langchain_core.pydantic_v1 import BaseModel, Field, validator\n",
    "from langchain.output_parsers import PydanticOutputParser\n",
    "from langchain.prompts.chat import ChatPromptTemplate\n",
    "\n"
   ]
  },
  {
   "cell_type": "code",
   "execution_count": 9,
   "metadata": {},
   "outputs": [],
   "source": [
    "class CodeAndDescription(BaseModel):\n",
    "    code: str = Field(description=\"code to generate the plots\")\n",
    "    description: str = Field(description=\"brief description of the code and plots\")\n",
    "\n",
    "    # @validator(\"code\")\n",
    "    # def code_must_be_python(cls, v):\n",
    "    #     if not v.startswith(\"```python\"):\n",
    "    #         raise ValueError(\"code must be python\")\n",
    "    #     return v\n",
    "    \n",
    "\n",
    "parser = PydanticOutputParser(pydantic_object=CodeAndDescription)"
   ]
  },
  {
   "cell_type": "code",
   "execution_count": 11,
   "metadata": {},
   "outputs": [
    {
     "name": "stdout",
     "output_type": "stream",
     "text": [
      "The output should be formatted as a JSON instance that conforms to the JSON schema below.\n",
      "\n",
      "As an example, for the schema {\"properties\": {\"foo\": {\"title\": \"Foo\", \"description\": \"a list of strings\", \"type\": \"array\", \"items\": {\"type\": \"string\"}}}, \"required\": [\"foo\"]}\n",
      "the object {\"foo\": [\"bar\", \"baz\"]} is a well-formatted instance of the schema. The object {\"properties\": {\"foo\": [\"bar\", \"baz\"]}} is not well-formatted.\n",
      "\n",
      "Here is the output schema:\n",
      "```\n",
      "{\"properties\": {\"code\": {\"title\": \"Code\", \"description\": \"code to generate the plots\", \"type\": \"string\"}, \"description\": {\"title\": \"Description\", \"description\": \"brief description of the code and plots\", \"type\": \"string\"}}, \"required\": [\"code\", \"description\"]}\n",
      "```\n"
     ]
    }
   ],
   "source": [
    "print(parser.get_format_instructions())"
   ]
  },
  {
   "cell_type": "code",
   "execution_count": 9,
   "metadata": {},
   "outputs": [],
   "source": [
    "\n",
    "system_template_1 = \"You are a coding assistant designed to create code to plot graphs in python in plotly.You should return a breif description and the code to plot the graph\"\n",
    "system_template_2 = \"Here is some metadata about the data: {metadata_json}\"\n",
    "human_message_template = \"{human_message} /n {format_instructions}\"\n",
    "\n",
    "chat_prompt = ChatPromptTemplate.from_messages(\n",
    "    [\n",
    "        (\"system\", system_template_1),\n",
    "        (\"system\", system_template_2),\n",
    "        (\"human\", human_message_template),\n",
    "    ]\n",
    ")\n",
    "\n",
    "messages = chat_prompt.format_messages(\n",
    "    metadata_json=metadata_json,\n",
    "    human_message=\"Make a plot of the average salary of every job.\",\n",
    "    format_instructions=parser.get_format_instructions(),\n",
    ")"
   ]
  },
  {
   "cell_type": "code",
   "execution_count": 10,
   "metadata": {},
   "outputs": [],
   "source": [
    "llm = ChatOpenAI(model_name=\"gpt-3.5-turbo\", api_key=OPENAI_API_KEY, temperature=1)"
   ]
  },
  {
   "cell_type": "code",
   "execution_count": 11,
   "metadata": {},
   "outputs": [],
   "source": [
    "response = llm.invoke(messages)"
   ]
  },
  {
   "cell_type": "code",
   "execution_count": 12,
   "metadata": {},
   "outputs": [],
   "source": [
    "formatted_response = parser.parse(response.content)\n"
   ]
  },
  {
   "cell_type": "code",
   "execution_count": 13,
   "metadata": {},
   "outputs": [
    {
     "name": "stdout",
     "output_type": "stream",
     "text": [
      "This code calculates the average salary for each job category and creates a bar plot using Plotly Express. The x-axis represents the job categories, the y-axis represents the average salary, and each bar is color-coded by job category. The plot shows the average salary for each job category.\n",
      "--------------------------------------------------\n",
      "import plotly.express as px\n",
      "\n",
      "# Group the data by job_category and calculate the average salary\n",
      "avg_salary_by_job = data.groupby('job_category')['salary'].mean().reset_index()\n",
      "\n",
      "# Use plotly express to create a bar plot\n",
      "fig = px.bar(avg_salary_by_job, x='job_category', y='salary', color='job_category', title='Average Salary by Job Category')\n",
      "\n",
      "# Display the plot\n",
      "def plot_average_salary_by_job():\n",
      "    fig.show()\n",
      "\n",
      "plot_average_salary_by_job()\n"
     ]
    }
   ],
   "source": [
    "formatted_response = parser.parse(response.content)\n",
    "\n",
    "print(formatted_response.description)\n",
    "print('-'*50)\n",
    "print(formatted_response.code)\n"
   ]
  },
  {
   "cell_type": "markdown",
   "metadata": {},
   "source": [
    "## Code Execution and Visualisation\n"
   ]
  },
  {
   "cell_type": "code",
   "execution_count": 15,
   "metadata": {},
   "outputs": [
    {
     "data": {
      "application/vnd.plotly.v1+json": {
       "config": {
        "plotlyServerURL": "https://plot.ly"
       },
       "data": [
        {
         "alignmentgroup": "True",
         "hovertemplate": "job_title=%{x}<br>salary=%{y}<extra></extra>",
         "legendgroup": "",
         "marker": {
          "color": "#636efa",
          "pattern": {
           "shape": ""
          }
         },
         "name": "",
         "offsetgroup": "",
         "orientation": "v",
         "showlegend": false,
         "textposition": "auto",
         "type": "bar",
         "x": [
          "AI Architect",
          "AI Developer",
          "AI Engineer",
          "AI Programmer",
          "AI Research Engineer",
          "AI Scientist",
          "AWS Data Architect",
          "Analytics Engineer",
          "Analytics Engineering Manager",
          "Applied Data Scientist",
          "Applied Machine Learning Engineer",
          "Applied Machine Learning Scientist",
          "Applied Scientist",
          "Autonomous Vehicle Technician",
          "Azure Data Engineer",
          "BI Analyst",
          "BI Data Analyst",
          "BI Data Engineer",
          "BI Developer",
          "Big Data Architect",
          "Big Data Engineer",
          "Business Data Analyst",
          "Business Intelligence Analyst",
          "Business Intelligence Data Analyst",
          "Business Intelligence Developer",
          "Business Intelligence Engineer",
          "Business Intelligence Manager",
          "Business Intelligence Specialist",
          "Cloud Data Architect",
          "Cloud Data Engineer",
          "Cloud Database Engineer",
          "Compliance Data Analyst",
          "Computer Vision Engineer",
          "Computer Vision Software Engineer",
          "Consultant Data Engineer",
          "Data Analyst",
          "Data Analytics Consultant",
          "Data Analytics Engineer",
          "Data Analytics Lead",
          "Data Analytics Manager",
          "Data Analytics Specialist",
          "Data Architect",
          "Data DevOps Engineer",
          "Data Developer",
          "Data Engineer",
          "Data Infrastructure Engineer",
          "Data Integration Engineer",
          "Data Integration Specialist",
          "Data Lead",
          "Data Management Analyst",
          "Data Management Specialist",
          "Data Manager",
          "Data Modeler",
          "Data Modeller",
          "Data Operations Analyst",
          "Data Operations Engineer",
          "Data Operations Manager",
          "Data Operations Specialist",
          "Data Product Manager",
          "Data Product Owner",
          "Data Quality Analyst",
          "Data Quality Engineer",
          "Data Science Consultant",
          "Data Science Director",
          "Data Science Engineer",
          "Data Science Lead",
          "Data Science Manager",
          "Data Science Practitioner",
          "Data Science Tech Lead",
          "Data Scientist",
          "Data Scientist Lead",
          "Data Specialist",
          "Data Strategist",
          "Data Strategy Manager",
          "Data Visualization Analyst",
          "Data Visualization Engineer",
          "Data Visualization Specialist",
          "Decision Scientist",
          "Deep Learning Engineer",
          "Deep Learning Researcher",
          "Director of Data Science",
          "ETL Developer",
          "ETL Engineer",
          "Finance Data Analyst",
          "Financial Data Analyst",
          "Head of Data",
          "Head of Data Science",
          "Head of Machine Learning",
          "Insight Analyst",
          "Lead Data Analyst",
          "Lead Data Engineer",
          "Lead Data Scientist",
          "Lead Machine Learning Engineer",
          "ML Engineer",
          "MLOps Engineer",
          "Machine Learning Developer",
          "Machine Learning Engineer",
          "Machine Learning Infrastructure Engineer",
          "Machine Learning Manager",
          "Machine Learning Modeler",
          "Machine Learning Operations Engineer",
          "Machine Learning Research Engineer",
          "Machine Learning Researcher",
          "Machine Learning Scientist",
          "Machine Learning Software Engineer",
          "Machine Learning Specialist",
          "Manager Data Management",
          "Managing Director Data Science",
          "Marketing Data Analyst",
          "Marketing Data Engineer",
          "NLP Engineer",
          "Power BI Developer",
          "Principal Data Analyst",
          "Principal Data Engineer",
          "Principal Data Scientist",
          "Principal Machine Learning Engineer",
          "Product Data Analyst",
          "Research Analyst",
          "Research Engineer",
          "Research Scientist",
          "Sales Data Analyst",
          "Software Data Engineer",
          "Staff Data Analyst",
          "Staff Data Scientist",
          "Staff Machine Learning Engineer"
         ],
         "xaxis": "x",
         "y": [
          249000,
          140500,
          169208.41666666666,
          74000,
          67275,
          112277.77777777778,
          258000,
          154036.515625,
          325000,
          110863.63636363637,
          140000,
          113983.33333333333,
          190171.60661764705,
          82777.5,
          100000,
          138991.0344827586,
          72812.5,
          60000,
          114335.57692307692,
          124999.5,
          89750,
          78333.33333333333,
          125127.79629629629,
          95000,
          111825.58823529411,
          151292.91666666666,
          135000,
          144153,
          250000,
          131000,
          155000,
          45000,
          174336,
          94200,
          160000,
          109210.40778097983,
          81500,
          76400,
          196666.66666666666,
          145519.47368421053,
          95000,
          163568.35211267605,
          69000,
          103738.16666666667,
          145969.5854214123,
          201375.41666666666,
          118000,
          96605,
          184642.85714285713,
          56000,
          106218.6,
          109565.76515151515,
          126181.81818181818,
          67500,
          92899,
          133431.25,
          136000,
          55355,
          142750,
          72500,
          84409,
          95000,
          102906.81818181818,
          201000,
          141117.85714285713,
          167594.55,
          202311.86363636365,
          144480,
          375000,
          156411.67068878835,
          134000,
          103102.5,
          95833.88888888889,
          138750,
          120000,
          122975,
          122275,
          164639.47368421053,
          200445,
          115000,
          216846.2068965517,
          127470.55555555556,
          58750,
          128333.33333333333,
          90375,
          206651.51515151514,
          183233.18181818182,
          259000,
          40125,
          108333.33333333333,
          140333.33333333334,
          116546,
          87000,
          197946.179245283,
          129800,
          78500,
          184386.01009081735,
          155020,
          156750,
          173350,
          60000,
          58250,
          140852.9411764706,
          175361.68421052632,
          212907.6923076923,
          55000,
          125000,
          300000,
          137500,
          90000,
          141725,
          60000,
          122500,
          156666.66666666666,
          188200,
          181666.66666666666,
          80040,
          92653.2564102564,
          182483.45833333334,
          184225.9814126394,
          60000,
          120000,
          84999.33333333333,
          134500,
          185000
         ],
         "yaxis": "y"
        }
       ],
       "layout": {
        "barmode": "relative",
        "font": {
         "size": 40
        },
        "legend": {
         "tracegroupgap": 0
        },
        "template": {
         "data": {
          "bar": [
           {
            "error_x": {
             "color": "#2a3f5f"
            },
            "error_y": {
             "color": "#2a3f5f"
            },
            "marker": {
             "line": {
              "color": "#E5ECF6",
              "width": 0.5
             },
             "pattern": {
              "fillmode": "overlay",
              "size": 10,
              "solidity": 0.2
             }
            },
            "type": "bar"
           }
          ],
          "barpolar": [
           {
            "marker": {
             "line": {
              "color": "#E5ECF6",
              "width": 0.5
             },
             "pattern": {
              "fillmode": "overlay",
              "size": 10,
              "solidity": 0.2
             }
            },
            "type": "barpolar"
           }
          ],
          "carpet": [
           {
            "aaxis": {
             "endlinecolor": "#2a3f5f",
             "gridcolor": "white",
             "linecolor": "white",
             "minorgridcolor": "white",
             "startlinecolor": "#2a3f5f"
            },
            "baxis": {
             "endlinecolor": "#2a3f5f",
             "gridcolor": "white",
             "linecolor": "white",
             "minorgridcolor": "white",
             "startlinecolor": "#2a3f5f"
            },
            "type": "carpet"
           }
          ],
          "choropleth": [
           {
            "colorbar": {
             "outlinewidth": 0,
             "ticks": ""
            },
            "type": "choropleth"
           }
          ],
          "contour": [
           {
            "colorbar": {
             "outlinewidth": 0,
             "ticks": ""
            },
            "colorscale": [
             [
              0,
              "#0d0887"
             ],
             [
              0.1111111111111111,
              "#46039f"
             ],
             [
              0.2222222222222222,
              "#7201a8"
             ],
             [
              0.3333333333333333,
              "#9c179e"
             ],
             [
              0.4444444444444444,
              "#bd3786"
             ],
             [
              0.5555555555555556,
              "#d8576b"
             ],
             [
              0.6666666666666666,
              "#ed7953"
             ],
             [
              0.7777777777777778,
              "#fb9f3a"
             ],
             [
              0.8888888888888888,
              "#fdca26"
             ],
             [
              1,
              "#f0f921"
             ]
            ],
            "type": "contour"
           }
          ],
          "contourcarpet": [
           {
            "colorbar": {
             "outlinewidth": 0,
             "ticks": ""
            },
            "type": "contourcarpet"
           }
          ],
          "heatmap": [
           {
            "colorbar": {
             "outlinewidth": 0,
             "ticks": ""
            },
            "colorscale": [
             [
              0,
              "#0d0887"
             ],
             [
              0.1111111111111111,
              "#46039f"
             ],
             [
              0.2222222222222222,
              "#7201a8"
             ],
             [
              0.3333333333333333,
              "#9c179e"
             ],
             [
              0.4444444444444444,
              "#bd3786"
             ],
             [
              0.5555555555555556,
              "#d8576b"
             ],
             [
              0.6666666666666666,
              "#ed7953"
             ],
             [
              0.7777777777777778,
              "#fb9f3a"
             ],
             [
              0.8888888888888888,
              "#fdca26"
             ],
             [
              1,
              "#f0f921"
             ]
            ],
            "type": "heatmap"
           }
          ],
          "heatmapgl": [
           {
            "colorbar": {
             "outlinewidth": 0,
             "ticks": ""
            },
            "colorscale": [
             [
              0,
              "#0d0887"
             ],
             [
              0.1111111111111111,
              "#46039f"
             ],
             [
              0.2222222222222222,
              "#7201a8"
             ],
             [
              0.3333333333333333,
              "#9c179e"
             ],
             [
              0.4444444444444444,
              "#bd3786"
             ],
             [
              0.5555555555555556,
              "#d8576b"
             ],
             [
              0.6666666666666666,
              "#ed7953"
             ],
             [
              0.7777777777777778,
              "#fb9f3a"
             ],
             [
              0.8888888888888888,
              "#fdca26"
             ],
             [
              1,
              "#f0f921"
             ]
            ],
            "type": "heatmapgl"
           }
          ],
          "histogram": [
           {
            "marker": {
             "pattern": {
              "fillmode": "overlay",
              "size": 10,
              "solidity": 0.2
             }
            },
            "type": "histogram"
           }
          ],
          "histogram2d": [
           {
            "colorbar": {
             "outlinewidth": 0,
             "ticks": ""
            },
            "colorscale": [
             [
              0,
              "#0d0887"
             ],
             [
              0.1111111111111111,
              "#46039f"
             ],
             [
              0.2222222222222222,
              "#7201a8"
             ],
             [
              0.3333333333333333,
              "#9c179e"
             ],
             [
              0.4444444444444444,
              "#bd3786"
             ],
             [
              0.5555555555555556,
              "#d8576b"
             ],
             [
              0.6666666666666666,
              "#ed7953"
             ],
             [
              0.7777777777777778,
              "#fb9f3a"
             ],
             [
              0.8888888888888888,
              "#fdca26"
             ],
             [
              1,
              "#f0f921"
             ]
            ],
            "type": "histogram2d"
           }
          ],
          "histogram2dcontour": [
           {
            "colorbar": {
             "outlinewidth": 0,
             "ticks": ""
            },
            "colorscale": [
             [
              0,
              "#0d0887"
             ],
             [
              0.1111111111111111,
              "#46039f"
             ],
             [
              0.2222222222222222,
              "#7201a8"
             ],
             [
              0.3333333333333333,
              "#9c179e"
             ],
             [
              0.4444444444444444,
              "#bd3786"
             ],
             [
              0.5555555555555556,
              "#d8576b"
             ],
             [
              0.6666666666666666,
              "#ed7953"
             ],
             [
              0.7777777777777778,
              "#fb9f3a"
             ],
             [
              0.8888888888888888,
              "#fdca26"
             ],
             [
              1,
              "#f0f921"
             ]
            ],
            "type": "histogram2dcontour"
           }
          ],
          "mesh3d": [
           {
            "colorbar": {
             "outlinewidth": 0,
             "ticks": ""
            },
            "type": "mesh3d"
           }
          ],
          "parcoords": [
           {
            "line": {
             "colorbar": {
              "outlinewidth": 0,
              "ticks": ""
             }
            },
            "type": "parcoords"
           }
          ],
          "pie": [
           {
            "automargin": true,
            "type": "pie"
           }
          ],
          "scatter": [
           {
            "fillpattern": {
             "fillmode": "overlay",
             "size": 10,
             "solidity": 0.2
            },
            "type": "scatter"
           }
          ],
          "scatter3d": [
           {
            "line": {
             "colorbar": {
              "outlinewidth": 0,
              "ticks": ""
             }
            },
            "marker": {
             "colorbar": {
              "outlinewidth": 0,
              "ticks": ""
             }
            },
            "type": "scatter3d"
           }
          ],
          "scattercarpet": [
           {
            "marker": {
             "colorbar": {
              "outlinewidth": 0,
              "ticks": ""
             }
            },
            "type": "scattercarpet"
           }
          ],
          "scattergeo": [
           {
            "marker": {
             "colorbar": {
              "outlinewidth": 0,
              "ticks": ""
             }
            },
            "type": "scattergeo"
           }
          ],
          "scattergl": [
           {
            "marker": {
             "colorbar": {
              "outlinewidth": 0,
              "ticks": ""
             }
            },
            "type": "scattergl"
           }
          ],
          "scattermapbox": [
           {
            "marker": {
             "colorbar": {
              "outlinewidth": 0,
              "ticks": ""
             }
            },
            "type": "scattermapbox"
           }
          ],
          "scatterpolar": [
           {
            "marker": {
             "colorbar": {
              "outlinewidth": 0,
              "ticks": ""
             }
            },
            "type": "scatterpolar"
           }
          ],
          "scatterpolargl": [
           {
            "marker": {
             "colorbar": {
              "outlinewidth": 0,
              "ticks": ""
             }
            },
            "type": "scatterpolargl"
           }
          ],
          "scatterternary": [
           {
            "marker": {
             "colorbar": {
              "outlinewidth": 0,
              "ticks": ""
             }
            },
            "type": "scatterternary"
           }
          ],
          "surface": [
           {
            "colorbar": {
             "outlinewidth": 0,
             "ticks": ""
            },
            "colorscale": [
             [
              0,
              "#0d0887"
             ],
             [
              0.1111111111111111,
              "#46039f"
             ],
             [
              0.2222222222222222,
              "#7201a8"
             ],
             [
              0.3333333333333333,
              "#9c179e"
             ],
             [
              0.4444444444444444,
              "#bd3786"
             ],
             [
              0.5555555555555556,
              "#d8576b"
             ],
             [
              0.6666666666666666,
              "#ed7953"
             ],
             [
              0.7777777777777778,
              "#fb9f3a"
             ],
             [
              0.8888888888888888,
              "#fdca26"
             ],
             [
              1,
              "#f0f921"
             ]
            ],
            "type": "surface"
           }
          ],
          "table": [
           {
            "cells": {
             "fill": {
              "color": "#EBF0F8"
             },
             "line": {
              "color": "white"
             }
            },
            "header": {
             "fill": {
              "color": "#C8D4E3"
             },
             "line": {
              "color": "white"
             }
            },
            "type": "table"
           }
          ]
         },
         "layout": {
          "annotationdefaults": {
           "arrowcolor": "#2a3f5f",
           "arrowhead": 0,
           "arrowwidth": 1
          },
          "autotypenumbers": "strict",
          "coloraxis": {
           "colorbar": {
            "outlinewidth": 0,
            "ticks": ""
           }
          },
          "colorscale": {
           "diverging": [
            [
             0,
             "#8e0152"
            ],
            [
             0.1,
             "#c51b7d"
            ],
            [
             0.2,
             "#de77ae"
            ],
            [
             0.3,
             "#f1b6da"
            ],
            [
             0.4,
             "#fde0ef"
            ],
            [
             0.5,
             "#f7f7f7"
            ],
            [
             0.6,
             "#e6f5d0"
            ],
            [
             0.7,
             "#b8e186"
            ],
            [
             0.8,
             "#7fbc41"
            ],
            [
             0.9,
             "#4d9221"
            ],
            [
             1,
             "#276419"
            ]
           ],
           "sequential": [
            [
             0,
             "#0d0887"
            ],
            [
             0.1111111111111111,
             "#46039f"
            ],
            [
             0.2222222222222222,
             "#7201a8"
            ],
            [
             0.3333333333333333,
             "#9c179e"
            ],
            [
             0.4444444444444444,
             "#bd3786"
            ],
            [
             0.5555555555555556,
             "#d8576b"
            ],
            [
             0.6666666666666666,
             "#ed7953"
            ],
            [
             0.7777777777777778,
             "#fb9f3a"
            ],
            [
             0.8888888888888888,
             "#fdca26"
            ],
            [
             1,
             "#f0f921"
            ]
           ],
           "sequentialminus": [
            [
             0,
             "#0d0887"
            ],
            [
             0.1111111111111111,
             "#46039f"
            ],
            [
             0.2222222222222222,
             "#7201a8"
            ],
            [
             0.3333333333333333,
             "#9c179e"
            ],
            [
             0.4444444444444444,
             "#bd3786"
            ],
            [
             0.5555555555555556,
             "#d8576b"
            ],
            [
             0.6666666666666666,
             "#ed7953"
            ],
            [
             0.7777777777777778,
             "#fb9f3a"
            ],
            [
             0.8888888888888888,
             "#fdca26"
            ],
            [
             1,
             "#f0f921"
            ]
           ]
          },
          "colorway": [
           "#636efa",
           "#EF553B",
           "#00cc96",
           "#ab63fa",
           "#FFA15A",
           "#19d3f3",
           "#FF6692",
           "#B6E880",
           "#FF97FF",
           "#FECB52"
          ],
          "font": {
           "color": "#2a3f5f"
          },
          "geo": {
           "bgcolor": "white",
           "lakecolor": "white",
           "landcolor": "#E5ECF6",
           "showlakes": true,
           "showland": true,
           "subunitcolor": "white"
          },
          "hoverlabel": {
           "align": "left"
          },
          "hovermode": "closest",
          "mapbox": {
           "style": "light"
          },
          "paper_bgcolor": "white",
          "plot_bgcolor": "#E5ECF6",
          "polar": {
           "angularaxis": {
            "gridcolor": "white",
            "linecolor": "white",
            "ticks": ""
           },
           "bgcolor": "#E5ECF6",
           "radialaxis": {
            "gridcolor": "white",
            "linecolor": "white",
            "ticks": ""
           }
          },
          "scene": {
           "xaxis": {
            "backgroundcolor": "#E5ECF6",
            "gridcolor": "white",
            "gridwidth": 2,
            "linecolor": "white",
            "showbackground": true,
            "ticks": "",
            "zerolinecolor": "white"
           },
           "yaxis": {
            "backgroundcolor": "#E5ECF6",
            "gridcolor": "white",
            "gridwidth": 2,
            "linecolor": "white",
            "showbackground": true,
            "ticks": "",
            "zerolinecolor": "white"
           },
           "zaxis": {
            "backgroundcolor": "#E5ECF6",
            "gridcolor": "white",
            "gridwidth": 2,
            "linecolor": "white",
            "showbackground": true,
            "ticks": "",
            "zerolinecolor": "white"
           }
          },
          "shapedefaults": {
           "line": {
            "color": "#2a3f5f"
           }
          },
          "ternary": {
           "aaxis": {
            "gridcolor": "white",
            "linecolor": "white",
            "ticks": ""
           },
           "baxis": {
            "gridcolor": "white",
            "linecolor": "white",
            "ticks": ""
           },
           "bgcolor": "#E5ECF6",
           "caxis": {
            "gridcolor": "white",
            "linecolor": "white",
            "ticks": ""
           }
          },
          "title": {
           "x": 0.05
          },
          "xaxis": {
           "automargin": true,
           "gridcolor": "white",
           "linecolor": "white",
           "ticks": "",
           "title": {
            "standoff": 15
           },
           "zerolinecolor": "white",
           "zerolinewidth": 2
          },
          "yaxis": {
           "automargin": true,
           "gridcolor": "white",
           "linecolor": "white",
           "ticks": "",
           "title": {
            "standoff": 15
           },
           "zerolinecolor": "white",
           "zerolinewidth": 2
          }
         }
        },
        "title": {
         "text": "Average Salary by Job Title"
        },
        "xaxis": {
         "anchor": "y",
         "domain": [
          0,
          1
         ],
         "title": {
          "text": "job_title"
         }
        },
        "yaxis": {
         "anchor": "x",
         "domain": [
          0,
          1
         ],
         "title": {
          "text": "salary"
         }
        }
       }
      },
      "text/html": [
       "<div>                            <div id=\"bec2b1b3-7b56-4286-af20-da80b2b66a9a\" class=\"plotly-graph-div\" style=\"height:525px; width:100%;\"></div>            <script type=\"text/javascript\">                require([\"plotly\"], function(Plotly) {                    window.PLOTLYENV=window.PLOTLYENV || {};                                    if (document.getElementById(\"bec2b1b3-7b56-4286-af20-da80b2b66a9a\")) {                    Plotly.newPlot(                        \"bec2b1b3-7b56-4286-af20-da80b2b66a9a\",                        [{\"alignmentgroup\":\"True\",\"hovertemplate\":\"job_title=%{x}\\u003cbr\\u003esalary=%{y}\\u003cextra\\u003e\\u003c\\u002fextra\\u003e\",\"legendgroup\":\"\",\"marker\":{\"color\":\"#636efa\",\"pattern\":{\"shape\":\"\"}},\"name\":\"\",\"offsetgroup\":\"\",\"orientation\":\"v\",\"showlegend\":false,\"textposition\":\"auto\",\"x\":[\"AI Architect\",\"AI Developer\",\"AI Engineer\",\"AI Programmer\",\"AI Research Engineer\",\"AI Scientist\",\"AWS Data Architect\",\"Analytics Engineer\",\"Analytics Engineering Manager\",\"Applied Data Scientist\",\"Applied Machine Learning Engineer\",\"Applied Machine Learning Scientist\",\"Applied Scientist\",\"Autonomous Vehicle Technician\",\"Azure Data Engineer\",\"BI Analyst\",\"BI Data Analyst\",\"BI Data Engineer\",\"BI Developer\",\"Big Data Architect\",\"Big Data Engineer\",\"Business Data Analyst\",\"Business Intelligence Analyst\",\"Business Intelligence Data Analyst\",\"Business Intelligence Developer\",\"Business Intelligence Engineer\",\"Business Intelligence Manager\",\"Business Intelligence Specialist\",\"Cloud Data Architect\",\"Cloud Data Engineer\",\"Cloud Database Engineer\",\"Compliance Data Analyst\",\"Computer Vision Engineer\",\"Computer Vision Software Engineer\",\"Consultant Data Engineer\",\"Data Analyst\",\"Data Analytics Consultant\",\"Data Analytics Engineer\",\"Data Analytics Lead\",\"Data Analytics Manager\",\"Data Analytics Specialist\",\"Data Architect\",\"Data DevOps Engineer\",\"Data Developer\",\"Data Engineer\",\"Data Infrastructure Engineer\",\"Data Integration Engineer\",\"Data Integration Specialist\",\"Data Lead\",\"Data Management Analyst\",\"Data Management Specialist\",\"Data Manager\",\"Data Modeler\",\"Data Modeller\",\"Data Operations Analyst\",\"Data Operations Engineer\",\"Data Operations Manager\",\"Data Operations Specialist\",\"Data Product Manager\",\"Data Product Owner\",\"Data Quality Analyst\",\"Data Quality Engineer\",\"Data Science Consultant\",\"Data Science Director\",\"Data Science Engineer\",\"Data Science Lead\",\"Data Science Manager\",\"Data Science Practitioner\",\"Data Science Tech Lead\",\"Data Scientist\",\"Data Scientist Lead\",\"Data Specialist\",\"Data Strategist\",\"Data Strategy Manager\",\"Data Visualization Analyst\",\"Data Visualization Engineer\",\"Data Visualization Specialist\",\"Decision Scientist\",\"Deep Learning Engineer\",\"Deep Learning Researcher\",\"Director of Data Science\",\"ETL Developer\",\"ETL Engineer\",\"Finance Data Analyst\",\"Financial Data Analyst\",\"Head of Data\",\"Head of Data Science\",\"Head of Machine Learning\",\"Insight Analyst\",\"Lead Data Analyst\",\"Lead Data Engineer\",\"Lead Data Scientist\",\"Lead Machine Learning Engineer\",\"ML Engineer\",\"MLOps Engineer\",\"Machine Learning Developer\",\"Machine Learning Engineer\",\"Machine Learning Infrastructure Engineer\",\"Machine Learning Manager\",\"Machine Learning Modeler\",\"Machine Learning Operations Engineer\",\"Machine Learning Research Engineer\",\"Machine Learning Researcher\",\"Machine Learning Scientist\",\"Machine Learning Software Engineer\",\"Machine Learning Specialist\",\"Manager Data Management\",\"Managing Director Data Science\",\"Marketing Data Analyst\",\"Marketing Data Engineer\",\"NLP Engineer\",\"Power BI Developer\",\"Principal Data Analyst\",\"Principal Data Engineer\",\"Principal Data Scientist\",\"Principal Machine Learning Engineer\",\"Product Data Analyst\",\"Research Analyst\",\"Research Engineer\",\"Research Scientist\",\"Sales Data Analyst\",\"Software Data Engineer\",\"Staff Data Analyst\",\"Staff Data Scientist\",\"Staff Machine Learning Engineer\"],\"xaxis\":\"x\",\"y\":[249000.0,140500.0,169208.41666666666,74000.0,67275.0,112277.77777777778,258000.0,154036.515625,325000.0,110863.63636363637,140000.0,113983.33333333333,190171.60661764705,82777.5,100000.0,138991.0344827586,72812.5,60000.0,114335.57692307692,124999.5,89750.0,78333.33333333333,125127.79629629629,95000.0,111825.58823529411,151292.91666666666,135000.0,144153.0,250000.0,131000.0,155000.0,45000.0,174336.0,94200.0,160000.0,109210.40778097983,81500.0,76400.0,196666.66666666666,145519.47368421053,95000.0,163568.35211267605,69000.0,103738.16666666667,145969.5854214123,201375.41666666666,118000.0,96605.0,184642.85714285713,56000.0,106218.6,109565.76515151515,126181.81818181818,67500.0,92899.0,133431.25,136000.0,55355.0,142750.0,72500.0,84409.0,95000.0,102906.81818181818,201000.0,141117.85714285713,167594.55,202311.86363636365,144480.0,375000.0,156411.67068878835,134000.0,103102.5,95833.88888888889,138750.0,120000.0,122975.0,122275.0,164639.47368421053,200445.0,115000.0,216846.2068965517,127470.55555555556,58750.0,128333.33333333333,90375.0,206651.51515151514,183233.18181818182,259000.0,40125.0,108333.33333333333,140333.33333333334,116546.0,87000.0,197946.179245283,129800.0,78500.0,184386.01009081735,155020.0,156750.0,173350.0,60000.0,58250.0,140852.9411764706,175361.68421052632,212907.6923076923,55000.0,125000.0,300000.0,137500.0,90000.0,141725.0,60000.0,122500.0,156666.66666666666,188200.0,181666.66666666666,80040.0,92653.2564102564,182483.45833333334,184225.9814126394,60000.0,120000.0,84999.33333333333,134500.0,185000.0],\"yaxis\":\"y\",\"type\":\"bar\"}],                        {\"template\":{\"data\":{\"histogram2dcontour\":[{\"type\":\"histogram2dcontour\",\"colorbar\":{\"outlinewidth\":0,\"ticks\":\"\"},\"colorscale\":[[0.0,\"#0d0887\"],[0.1111111111111111,\"#46039f\"],[0.2222222222222222,\"#7201a8\"],[0.3333333333333333,\"#9c179e\"],[0.4444444444444444,\"#bd3786\"],[0.5555555555555556,\"#d8576b\"],[0.6666666666666666,\"#ed7953\"],[0.7777777777777778,\"#fb9f3a\"],[0.8888888888888888,\"#fdca26\"],[1.0,\"#f0f921\"]]}],\"choropleth\":[{\"type\":\"choropleth\",\"colorbar\":{\"outlinewidth\":0,\"ticks\":\"\"}}],\"histogram2d\":[{\"type\":\"histogram2d\",\"colorbar\":{\"outlinewidth\":0,\"ticks\":\"\"},\"colorscale\":[[0.0,\"#0d0887\"],[0.1111111111111111,\"#46039f\"],[0.2222222222222222,\"#7201a8\"],[0.3333333333333333,\"#9c179e\"],[0.4444444444444444,\"#bd3786\"],[0.5555555555555556,\"#d8576b\"],[0.6666666666666666,\"#ed7953\"],[0.7777777777777778,\"#fb9f3a\"],[0.8888888888888888,\"#fdca26\"],[1.0,\"#f0f921\"]]}],\"heatmap\":[{\"type\":\"heatmap\",\"colorbar\":{\"outlinewidth\":0,\"ticks\":\"\"},\"colorscale\":[[0.0,\"#0d0887\"],[0.1111111111111111,\"#46039f\"],[0.2222222222222222,\"#7201a8\"],[0.3333333333333333,\"#9c179e\"],[0.4444444444444444,\"#bd3786\"],[0.5555555555555556,\"#d8576b\"],[0.6666666666666666,\"#ed7953\"],[0.7777777777777778,\"#fb9f3a\"],[0.8888888888888888,\"#fdca26\"],[1.0,\"#f0f921\"]]}],\"heatmapgl\":[{\"type\":\"heatmapgl\",\"colorbar\":{\"outlinewidth\":0,\"ticks\":\"\"},\"colorscale\":[[0.0,\"#0d0887\"],[0.1111111111111111,\"#46039f\"],[0.2222222222222222,\"#7201a8\"],[0.3333333333333333,\"#9c179e\"],[0.4444444444444444,\"#bd3786\"],[0.5555555555555556,\"#d8576b\"],[0.6666666666666666,\"#ed7953\"],[0.7777777777777778,\"#fb9f3a\"],[0.8888888888888888,\"#fdca26\"],[1.0,\"#f0f921\"]]}],\"contourcarpet\":[{\"type\":\"contourcarpet\",\"colorbar\":{\"outlinewidth\":0,\"ticks\":\"\"}}],\"contour\":[{\"type\":\"contour\",\"colorbar\":{\"outlinewidth\":0,\"ticks\":\"\"},\"colorscale\":[[0.0,\"#0d0887\"],[0.1111111111111111,\"#46039f\"],[0.2222222222222222,\"#7201a8\"],[0.3333333333333333,\"#9c179e\"],[0.4444444444444444,\"#bd3786\"],[0.5555555555555556,\"#d8576b\"],[0.6666666666666666,\"#ed7953\"],[0.7777777777777778,\"#fb9f3a\"],[0.8888888888888888,\"#fdca26\"],[1.0,\"#f0f921\"]]}],\"surface\":[{\"type\":\"surface\",\"colorbar\":{\"outlinewidth\":0,\"ticks\":\"\"},\"colorscale\":[[0.0,\"#0d0887\"],[0.1111111111111111,\"#46039f\"],[0.2222222222222222,\"#7201a8\"],[0.3333333333333333,\"#9c179e\"],[0.4444444444444444,\"#bd3786\"],[0.5555555555555556,\"#d8576b\"],[0.6666666666666666,\"#ed7953\"],[0.7777777777777778,\"#fb9f3a\"],[0.8888888888888888,\"#fdca26\"],[1.0,\"#f0f921\"]]}],\"mesh3d\":[{\"type\":\"mesh3d\",\"colorbar\":{\"outlinewidth\":0,\"ticks\":\"\"}}],\"scatter\":[{\"fillpattern\":{\"fillmode\":\"overlay\",\"size\":10,\"solidity\":0.2},\"type\":\"scatter\"}],\"parcoords\":[{\"type\":\"parcoords\",\"line\":{\"colorbar\":{\"outlinewidth\":0,\"ticks\":\"\"}}}],\"scatterpolargl\":[{\"type\":\"scatterpolargl\",\"marker\":{\"colorbar\":{\"outlinewidth\":0,\"ticks\":\"\"}}}],\"bar\":[{\"error_x\":{\"color\":\"#2a3f5f\"},\"error_y\":{\"color\":\"#2a3f5f\"},\"marker\":{\"line\":{\"color\":\"#E5ECF6\",\"width\":0.5},\"pattern\":{\"fillmode\":\"overlay\",\"size\":10,\"solidity\":0.2}},\"type\":\"bar\"}],\"scattergeo\":[{\"type\":\"scattergeo\",\"marker\":{\"colorbar\":{\"outlinewidth\":0,\"ticks\":\"\"}}}],\"scatterpolar\":[{\"type\":\"scatterpolar\",\"marker\":{\"colorbar\":{\"outlinewidth\":0,\"ticks\":\"\"}}}],\"histogram\":[{\"marker\":{\"pattern\":{\"fillmode\":\"overlay\",\"size\":10,\"solidity\":0.2}},\"type\":\"histogram\"}],\"scattergl\":[{\"type\":\"scattergl\",\"marker\":{\"colorbar\":{\"outlinewidth\":0,\"ticks\":\"\"}}}],\"scatter3d\":[{\"type\":\"scatter3d\",\"line\":{\"colorbar\":{\"outlinewidth\":0,\"ticks\":\"\"}},\"marker\":{\"colorbar\":{\"outlinewidth\":0,\"ticks\":\"\"}}}],\"scattermapbox\":[{\"type\":\"scattermapbox\",\"marker\":{\"colorbar\":{\"outlinewidth\":0,\"ticks\":\"\"}}}],\"scatterternary\":[{\"type\":\"scatterternary\",\"marker\":{\"colorbar\":{\"outlinewidth\":0,\"ticks\":\"\"}}}],\"scattercarpet\":[{\"type\":\"scattercarpet\",\"marker\":{\"colorbar\":{\"outlinewidth\":0,\"ticks\":\"\"}}}],\"carpet\":[{\"aaxis\":{\"endlinecolor\":\"#2a3f5f\",\"gridcolor\":\"white\",\"linecolor\":\"white\",\"minorgridcolor\":\"white\",\"startlinecolor\":\"#2a3f5f\"},\"baxis\":{\"endlinecolor\":\"#2a3f5f\",\"gridcolor\":\"white\",\"linecolor\":\"white\",\"minorgridcolor\":\"white\",\"startlinecolor\":\"#2a3f5f\"},\"type\":\"carpet\"}],\"table\":[{\"cells\":{\"fill\":{\"color\":\"#EBF0F8\"},\"line\":{\"color\":\"white\"}},\"header\":{\"fill\":{\"color\":\"#C8D4E3\"},\"line\":{\"color\":\"white\"}},\"type\":\"table\"}],\"barpolar\":[{\"marker\":{\"line\":{\"color\":\"#E5ECF6\",\"width\":0.5},\"pattern\":{\"fillmode\":\"overlay\",\"size\":10,\"solidity\":0.2}},\"type\":\"barpolar\"}],\"pie\":[{\"automargin\":true,\"type\":\"pie\"}]},\"layout\":{\"autotypenumbers\":\"strict\",\"colorway\":[\"#636efa\",\"#EF553B\",\"#00cc96\",\"#ab63fa\",\"#FFA15A\",\"#19d3f3\",\"#FF6692\",\"#B6E880\",\"#FF97FF\",\"#FECB52\"],\"font\":{\"color\":\"#2a3f5f\"},\"hovermode\":\"closest\",\"hoverlabel\":{\"align\":\"left\"},\"paper_bgcolor\":\"white\",\"plot_bgcolor\":\"#E5ECF6\",\"polar\":{\"bgcolor\":\"#E5ECF6\",\"angularaxis\":{\"gridcolor\":\"white\",\"linecolor\":\"white\",\"ticks\":\"\"},\"radialaxis\":{\"gridcolor\":\"white\",\"linecolor\":\"white\",\"ticks\":\"\"}},\"ternary\":{\"bgcolor\":\"#E5ECF6\",\"aaxis\":{\"gridcolor\":\"white\",\"linecolor\":\"white\",\"ticks\":\"\"},\"baxis\":{\"gridcolor\":\"white\",\"linecolor\":\"white\",\"ticks\":\"\"},\"caxis\":{\"gridcolor\":\"white\",\"linecolor\":\"white\",\"ticks\":\"\"}},\"coloraxis\":{\"colorbar\":{\"outlinewidth\":0,\"ticks\":\"\"}},\"colorscale\":{\"sequential\":[[0.0,\"#0d0887\"],[0.1111111111111111,\"#46039f\"],[0.2222222222222222,\"#7201a8\"],[0.3333333333333333,\"#9c179e\"],[0.4444444444444444,\"#bd3786\"],[0.5555555555555556,\"#d8576b\"],[0.6666666666666666,\"#ed7953\"],[0.7777777777777778,\"#fb9f3a\"],[0.8888888888888888,\"#fdca26\"],[1.0,\"#f0f921\"]],\"sequentialminus\":[[0.0,\"#0d0887\"],[0.1111111111111111,\"#46039f\"],[0.2222222222222222,\"#7201a8\"],[0.3333333333333333,\"#9c179e\"],[0.4444444444444444,\"#bd3786\"],[0.5555555555555556,\"#d8576b\"],[0.6666666666666666,\"#ed7953\"],[0.7777777777777778,\"#fb9f3a\"],[0.8888888888888888,\"#fdca26\"],[1.0,\"#f0f921\"]],\"diverging\":[[0,\"#8e0152\"],[0.1,\"#c51b7d\"],[0.2,\"#de77ae\"],[0.3,\"#f1b6da\"],[0.4,\"#fde0ef\"],[0.5,\"#f7f7f7\"],[0.6,\"#e6f5d0\"],[0.7,\"#b8e186\"],[0.8,\"#7fbc41\"],[0.9,\"#4d9221\"],[1,\"#276419\"]]},\"xaxis\":{\"gridcolor\":\"white\",\"linecolor\":\"white\",\"ticks\":\"\",\"title\":{\"standoff\":15},\"zerolinecolor\":\"white\",\"automargin\":true,\"zerolinewidth\":2},\"yaxis\":{\"gridcolor\":\"white\",\"linecolor\":\"white\",\"ticks\":\"\",\"title\":{\"standoff\":15},\"zerolinecolor\":\"white\",\"automargin\":true,\"zerolinewidth\":2},\"scene\":{\"xaxis\":{\"backgroundcolor\":\"#E5ECF6\",\"gridcolor\":\"white\",\"linecolor\":\"white\",\"showbackground\":true,\"ticks\":\"\",\"zerolinecolor\":\"white\",\"gridwidth\":2},\"yaxis\":{\"backgroundcolor\":\"#E5ECF6\",\"gridcolor\":\"white\",\"linecolor\":\"white\",\"showbackground\":true,\"ticks\":\"\",\"zerolinecolor\":\"white\",\"gridwidth\":2},\"zaxis\":{\"backgroundcolor\":\"#E5ECF6\",\"gridcolor\":\"white\",\"linecolor\":\"white\",\"showbackground\":true,\"ticks\":\"\",\"zerolinecolor\":\"white\",\"gridwidth\":2}},\"shapedefaults\":{\"line\":{\"color\":\"#2a3f5f\"}},\"annotationdefaults\":{\"arrowcolor\":\"#2a3f5f\",\"arrowhead\":0,\"arrowwidth\":1},\"geo\":{\"bgcolor\":\"white\",\"landcolor\":\"#E5ECF6\",\"subunitcolor\":\"white\",\"showland\":true,\"showlakes\":true,\"lakecolor\":\"white\"},\"title\":{\"x\":0.05},\"mapbox\":{\"style\":\"light\"}}},\"xaxis\":{\"anchor\":\"y\",\"domain\":[0.0,1.0],\"title\":{\"text\":\"job_title\"}},\"yaxis\":{\"anchor\":\"x\",\"domain\":[0.0,1.0],\"title\":{\"text\":\"salary\"}},\"legend\":{\"tracegroupgap\":0},\"title\":{\"text\":\"Average Salary by Job Title\"},\"barmode\":\"relative\",\"font\":{\"size\":40}},                        {\"responsive\": true}                    ).then(function(){\n",
       "                            \n",
       "var gd = document.getElementById('bec2b1b3-7b56-4286-af20-da80b2b66a9a');\n",
       "var x = new MutationObserver(function (mutations, observer) {{\n",
       "        var display = window.getComputedStyle(gd).display;\n",
       "        if (!display || display === 'none') {{\n",
       "            console.log([gd, 'removed!']);\n",
       "            Plotly.purge(gd);\n",
       "            observer.disconnect();\n",
       "        }}\n",
       "}});\n",
       "\n",
       "// Listen for the removal of the full notebook cells\n",
       "var notebookContainer = gd.closest('#notebook-container');\n",
       "if (notebookContainer) {{\n",
       "    x.observe(notebookContainer, {childList: true});\n",
       "}}\n",
       "\n",
       "// Listen for the clearing of the current output cell\n",
       "var outputEl = gd.closest('.output');\n",
       "if (outputEl) {{\n",
       "    x.observe(outputEl, {childList: true});\n",
       "}}\n",
       "\n",
       "                        })                };                });            </script>        </div>"
      ]
     },
     "metadata": {},
     "output_type": "display_data"
    }
   ],
   "source": [
    "import plotly.express as px\n",
    "\n",
    "# Group the data by job title and calculate the average salary\n",
    "average_salary = df.groupby('job_title')['salary'].mean().reset_index()\n",
    "\n",
    "# Plot the data\n",
    "fig = px.bar(average_salary, x='job_title', y='salary', title='Average Salary by Job Title')\n",
    "# make label text larger\n",
    "fig.update_layout(\n",
    "    font=dict(\n",
    "        size=40\n",
    "    )\n",
    ")\n",
    "fig.show()\n",
    "# save image as jpg\n",
    "fig.write_image(\"average_salary.jpg\")"
   ]
  },
  {
   "cell_type": "code",
   "execution_count": 16,
   "metadata": {},
   "outputs": [
    {
     "name": "stdout",
     "output_type": "stream",
     "text": [
      "{'id': 'chatcmpl-8mqUK67W6UZdzR2PpZhp8pimXqpZg', 'object': 'chat.completion', 'created': 1706652200, 'model': 'gpt-4-1106-vision-preview', 'usage': {'prompt_tokens': 443, 'completion_tokens': 300, 'total_tokens': 743}, 'choices': [{'message': {'role': 'assistant', 'content': 'To make the plot clearer, consider the following suggestions:\\n\\n1. Axis Labels: Make sure that both the y-axis and x-axis have clear, legible labels that describe what they represent. For example, the y-axis could be labeled \"Average Salary (USD)\" if that is appropriate, and the x-axis could be labeled \"Job Title\".\\n\\n2. Scale and Ticks: Adjust the scale of the y-axis so that it fits the range of the data more closely, which could help in differentiating the salaries among different job titles. Also, ensure that the tick marks on the axes are appropriately spaced and labeled for easy reading.\\n\\n3. Increase Text Size: Increase the size of the text for the job titles so they are more readable. Avoid overlapping text if possible.\\n\\n4. Rotate or Diagonalize Labels: If the job title labels are too long and overlap, consider rotating them (e.g., to 45 or 90 degrees) to make them more readable.\\n\\n5. Legend and Title: If there\\'s a legend, ensure it\\'s clear and well-positioned. The title \"Average Salary by Job Title\" is already descriptive, but make sure it stands out and is legible.\\n\\n6. Bar Colors: If color is not already meaningful in this plot, consider using a single, contrasting color for the bars to make them stand out against the background.\\n\\n7. Gridlines: Add light horizontal gridlines to make it easier to track the salary values across the plot.\\n\\n8.'}, 'finish_reason': 'length', 'index': 0}]}\n"
     ]
    }
   ],
   "source": [
    "import base64\n",
    "import requests\n",
    "\n",
    "# Function to encode the image\n",
    "def encode_image(image_path):\n",
    "  with open(image_path, \"rb\") as image_file:\n",
    "    return base64.b64encode(image_file.read()).decode('utf-8')\n",
    "\n",
    "# Path to your image\n",
    "image_path = \"average_salary.jpg\"\n",
    "\n",
    "# Getting the base64 string\n",
    "base64_image = encode_image(image_path)\n",
    "\n",
    "headers = {\n",
    "  \"Content-Type\": \"application/json\",\n",
    "  \"Authorization\": f\"Bearer {OPENAI_API_KEY}\"\n",
    "}\n",
    "\n",
    "payload = {\n",
    "  \"model\": \"gpt-4-vision-preview\",\n",
    "  \"messages\": [\n",
    "    {\n",
    "      \"role\": \"system\",\n",
    "      \"content\": \"\"\"You are a highly skilled validation agent who will be examining plots genreated from pythons plotly library.\n",
    "      You should validate if the plot is legible any anything is majorly wrong with it. such examples could be:\n",
    "      - The plot is not legible\n",
    "      - axis labels read to read\n",
    "      - Something is obviously wrong with the plot\n",
    "      If you find anything wrong with the plot, please provide feedback on how to fix it in plain english. If the plot is sufficently legible, please return \"The plot is legible\".\n",
    "      \"\"\"\n",
    "    },\n",
    "    # TODO: insert the code description in here?\n",
    "    {\n",
    "      \"role\": \"user\",\n",
    "      \"content\": [\n",
    "        {\n",
    "          \"type\": \"text\",\n",
    "          \"text\": \"Please validate this plot I made using the plotly library\"\n",
    "        },\n",
    "        {\n",
    "          \"type\": \"image_url\",\n",
    "          \"image_url\": {\n",
    "            \"url\": f\"data:image/jpeg;base64,{base64_image}\"\n",
    "          }\n",
    "        }\n",
    "      ]\n",
    "    }\n",
    "  ],\n",
    "  \"max_tokens\": 300\n",
    "}\n",
    "\n",
    "response = requests.post(\"https://api.openai.com/v1/chat/completions\", headers=headers, json=payload)\n",
    "\n",
    "print(response.json())"
   ]
  },
  {
   "cell_type": "code",
   "execution_count": 19,
   "metadata": {},
   "outputs": [
    {
     "data": {
      "text/plain": [
       "{'id': 'chatcmpl-8mqUK67W6UZdzR2PpZhp8pimXqpZg',\n",
       " 'object': 'chat.completion',\n",
       " 'created': 1706652200,\n",
       " 'model': 'gpt-4-1106-vision-preview',\n",
       " 'usage': {'prompt_tokens': 443,\n",
       "  'completion_tokens': 300,\n",
       "  'total_tokens': 743},\n",
       " 'choices': [{'message': {'role': 'assistant',\n",
       "    'content': 'To make the plot clearer, consider the following suggestions:\\n\\n1. Axis Labels: Make sure that both the y-axis and x-axis have clear, legible labels that describe what they represent. For example, the y-axis could be labeled \"Average Salary (USD)\" if that is appropriate, and the x-axis could be labeled \"Job Title\".\\n\\n2. Scale and Ticks: Adjust the scale of the y-axis so that it fits the range of the data more closely, which could help in differentiating the salaries among different job titles. Also, ensure that the tick marks on the axes are appropriately spaced and labeled for easy reading.\\n\\n3. Increase Text Size: Increase the size of the text for the job titles so they are more readable. Avoid overlapping text if possible.\\n\\n4. Rotate or Diagonalize Labels: If the job title labels are too long and overlap, consider rotating them (e.g., to 45 or 90 degrees) to make them more readable.\\n\\n5. Legend and Title: If there\\'s a legend, ensure it\\'s clear and well-positioned. The title \"Average Salary by Job Title\" is already descriptive, but make sure it stands out and is legible.\\n\\n6. Bar Colors: If color is not already meaningful in this plot, consider using a single, contrasting color for the bars to make them stand out against the background.\\n\\n7. Gridlines: Add light horizontal gridlines to make it easier to track the salary values across the plot.\\n\\n8.'},\n",
       "   'finish_reason': 'length',\n",
       "   'index': 0}]}"
      ]
     },
     "execution_count": 19,
     "metadata": {},
     "output_type": "execute_result"
    }
   ],
   "source": [
    "response.json()"
   ]
  }
 ],
 "metadata": {
  "kernelspec": {
   "display_name": "llm-plotting",
   "language": "python",
   "name": "python3"
  },
  "language_info": {
   "codemirror_mode": {
    "name": "ipython",
    "version": 3
   },
   "file_extension": ".py",
   "mimetype": "text/x-python",
   "name": "python",
   "nbconvert_exporter": "python",
   "pygments_lexer": "ipython3",
   "version": "3.10.0"
  },
  "orig_nbformat": 4
 },
 "nbformat": 4,
 "nbformat_minor": 2
}
