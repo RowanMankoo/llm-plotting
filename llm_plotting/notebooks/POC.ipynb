{
 "cells": [
  {
   "cell_type": "code",
   "execution_count": 1,
   "metadata": {},
   "outputs": [
    {
     "name": "stderr",
     "output_type": "stream",
     "text": [
      "/tmp/ipykernel_20025/1868981330.py:4: DeprecationWarning: \n",
      "Pyarrow will become a required dependency of pandas in the next major release of pandas (pandas 3.0),\n",
      "(to allow more performant data types, such as the Arrow string type, and better interoperability with other libraries)\n",
      "but was not found to be installed on your system.\n",
      "If this would cause problems for you,\n",
      "please provide us feedback at https://github.com/pandas-dev/pandas/issues/54466\n",
      "        \n",
      "  import pandas as pd\n"
     ]
    },
    {
     "data": {
      "text/plain": [
       "True"
      ]
     },
     "execution_count": 1,
     "metadata": {},
     "output_type": "execute_result"
    }
   ],
   "source": [
    "from dotenv import load_dotenv\n",
    "import os\n",
    "from langchain_openai import ChatOpenAI\n",
    "import pandas as pd\n",
    "from io import StringIO\n",
    "\n",
    "load_dotenv()"
   ]
  },
  {
   "cell_type": "code",
   "execution_count": 3,
   "metadata": {},
   "outputs": [],
   "source": [
    "from langchain_core.prompts import (\n",
    "    ChatPromptTemplate,\n",
    "    MessagesPlaceholder,\n",
    "    HumanMessagePromptTemplate,\n",
    ")\n",
    "import pandas as pd\n",
    "import json\n"
   ]
  },
  {
   "cell_type": "code",
   "execution_count": 10,
   "metadata": {},
   "outputs": [
    {
     "data": {
      "text/plain": [
       "[SystemMessage(content=\"\\nYou are very powerful code generation assistant who specalises in generating code to visualise graphs. You should always\\nvalidate the code, but you are no good at validating this code yourself so you must use the CodeValidationTool.\\nHere are some assumptions you should always follow:\\n\\n- Should always plot using python and with the plotly library\\n- The df is stored under df.csv\\n- Save the figure via `pio.write_image(fig, 'figure.png')` and import plotly.io as pio at the top of the script \\n- Provide a brief description of what the plot is about in context of the data\\n\\nHere is some metadata about the data:\\nsd\\n\"),\n",
       " HumanMessage(content='I want to plot a graph of the data')]"
      ]
     },
     "execution_count": 10,
     "metadata": {},
     "output_type": "execute_result"
    }
   ],
   "source": [
    "\n",
    "# TODO: add functionaility to use other libs\n",
    "system_template_1 = \"\"\"\n",
    "You are very powerful code generation assistant who specalises in generating code to visualise graphs. You should always\n",
    "validate the code, but you are no good at validating this code yourself so you must use the CodeValidationTool.\n",
    "Here are some assumptions you should always follow:\n",
    "\n",
    "- Should always plot using python and with the plotly library\n",
    "- The df is stored under df.csv\n",
    "- Save the figure via `pio.write_image(fig, 'figure.png')` and import plotly.io as pio at the top of the script \n",
    "- Provide a brief description of what the plot is about in context of the data\n",
    "\n",
    "Here is some metadata about the data:\n",
    "{metadata_json}\n",
    "\"\"\"\n",
    "\n",
    "code_generation_agent_prompt = ChatPromptTemplate.from_messages(\n",
    "    [\n",
    "        (\"system\", system_template_1),\n",
    "        MessagesPlaceholder(variable_name=\"chat_history\", optional=True),\n",
    "        (\"user\", \"{user_input}\"),\n",
    "        # MessagesPlaceholder(variable_name=\"agent_scratchpad\"),\n",
    "    ]\n",
    ")\n",
    "\n",
    "code_generation_agent_prompt.format_messages(\n",
    "    user_input=\"I want to plot a graph of the data\",\n",
    "    metadata_json='sd'\n",
    ")\n",
    "\n"
   ]
  },
  {
   "cell_type": "code",
   "execution_count": 4,
   "metadata": {},
   "outputs": [
    {
     "ename": "NotImplementedError",
     "evalue": "Unsupported message type: <class 'dict'>",
     "output_type": "error",
     "traceback": [
      "\u001b[0;31m---------------------------------------------------------------------------\u001b[0m",
      "\u001b[0;31mNotImplementedError\u001b[0m                       Traceback (most recent call last)",
      "Cell \u001b[0;32mIn[4], line 1\u001b[0m\n\u001b[0;32m----> 1\u001b[0m validation_llm_prompt \u001b[38;5;241m=\u001b[39m \u001b[43mChatPromptTemplate\u001b[49m\u001b[38;5;241;43m.\u001b[39;49m\u001b[43mfrom_messages\u001b[49m\u001b[43m(\u001b[49m\n\u001b[1;32m      2\u001b[0m \u001b[43m    \u001b[49m\u001b[43m[\u001b[49m\n\u001b[1;32m      3\u001b[0m \u001b[43m        \u001b[49m\u001b[43m{\u001b[49m\n\u001b[1;32m      4\u001b[0m \u001b[43m            \u001b[49m\u001b[38;5;124;43m\"\u001b[39;49m\u001b[38;5;124;43mrole\u001b[39;49m\u001b[38;5;124;43m\"\u001b[39;49m\u001b[43m:\u001b[49m\u001b[43m \u001b[49m\u001b[38;5;124;43m\"\u001b[39;49m\u001b[38;5;124;43msystem\u001b[39;49m\u001b[38;5;124;43m\"\u001b[39;49m\u001b[43m,\u001b[49m\n\u001b[1;32m      5\u001b[0m \u001b[43m            \u001b[49m\u001b[38;5;124;43m\"\u001b[39;49m\u001b[38;5;124;43mcontent\u001b[39;49m\u001b[38;5;124;43m\"\u001b[39;49m\u001b[43m:\u001b[49m\u001b[43m \u001b[49m\u001b[38;5;124;43m\"\"\"\u001b[39;49m\u001b[38;5;124;43mYou are a highly skilled validation agent who will be examining plots genreated from pythons plotly library.\u001b[39;49m\n\u001b[1;32m      6\u001b[0m \u001b[38;5;124;43m            You should validate if the plot is legible any anything is majorly wrong with it. such examples could be:\u001b[39;49m\n\u001b[1;32m      7\u001b[0m \u001b[38;5;124;43m            - The plot is not legible\u001b[39;49m\n\u001b[1;32m      8\u001b[0m \u001b[38;5;124;43m            - axis labels read to read\u001b[39;49m\n\u001b[1;32m      9\u001b[0m \u001b[38;5;124;43m            - Something is obviously wrong with the plot\u001b[39;49m\n\u001b[1;32m     10\u001b[0m \u001b[38;5;124;43m            If you find anything wrong with the plot, please provide feedback on how to fix it in plain english. If the plot is sufficently legible, please return \u001b[39;49m\u001b[38;5;124;43m\"\u001b[39;49m\u001b[38;5;124;43mThe plot is legible\u001b[39;49m\u001b[38;5;124;43m\"\u001b[39;49m\u001b[38;5;124;43m. \u001b[39;49m\n\u001b[1;32m     11\u001b[0m \u001b[38;5;124;43m            If not please say in the output to regenerate the code with the changes and run the code through this validation tool before returning code to user.\u001b[39;49m\n\u001b[1;32m     12\u001b[0m \u001b[38;5;124;43m            \u001b[39;49m\u001b[38;5;124;43m\"\"\"\u001b[39;49m\u001b[43m,\u001b[49m\n\u001b[1;32m     13\u001b[0m \u001b[43m        \u001b[49m\u001b[43m}\u001b[49m\n\u001b[1;32m     14\u001b[0m \u001b[43m    \u001b[49m\u001b[43m]\u001b[49m\n\u001b[1;32m     15\u001b[0m \u001b[43m)\u001b[49m    \n",
      "File \u001b[0;32m~/.pyenv/versions/3.10.0/envs/llm-plotting/lib/python3.10/site-packages/langchain_core/prompts/chat.py:602\u001b[0m, in \u001b[0;36mChatPromptTemplate.from_messages\u001b[0;34m(cls, messages)\u001b[0m\n\u001b[1;32m    563\u001b[0m \u001b[38;5;129m@classmethod\u001b[39m\n\u001b[1;32m    564\u001b[0m \u001b[38;5;28;01mdef\u001b[39;00m \u001b[38;5;21mfrom_messages\u001b[39m(\n\u001b[1;32m    565\u001b[0m     \u001b[38;5;28mcls\u001b[39m,\n\u001b[1;32m    566\u001b[0m     messages: Sequence[MessageLikeRepresentation],\n\u001b[1;32m    567\u001b[0m ) \u001b[38;5;241m-\u001b[39m\u001b[38;5;241m>\u001b[39m ChatPromptTemplate:\n\u001b[1;32m    568\u001b[0m \u001b[38;5;250m    \u001b[39m\u001b[38;5;124;03m\"\"\"Create a chat prompt template from a variety of message formats.\u001b[39;00m\n\u001b[1;32m    569\u001b[0m \n\u001b[1;32m    570\u001b[0m \u001b[38;5;124;03m    Examples:\u001b[39;00m\n\u001b[0;32m   (...)\u001b[0m\n\u001b[1;32m    600\u001b[0m \u001b[38;5;124;03m        a chat prompt template\u001b[39;00m\n\u001b[1;32m    601\u001b[0m \u001b[38;5;124;03m    \"\"\"\u001b[39;00m\n\u001b[0;32m--> 602\u001b[0m     _messages \u001b[38;5;241m=\u001b[39m [_convert_to_message(message) \u001b[38;5;28;01mfor\u001b[39;00m message \u001b[38;5;129;01min\u001b[39;00m messages]\n\u001b[1;32m    604\u001b[0m     \u001b[38;5;66;03m# Automatically infer input variables from messages\u001b[39;00m\n\u001b[1;32m    605\u001b[0m     input_vars: Set[\u001b[38;5;28mstr\u001b[39m] \u001b[38;5;241m=\u001b[39m \u001b[38;5;28mset\u001b[39m()\n",
      "File \u001b[0;32m~/.pyenv/versions/3.10.0/envs/llm-plotting/lib/python3.10/site-packages/langchain_core/prompts/chat.py:602\u001b[0m, in \u001b[0;36m<listcomp>\u001b[0;34m(.0)\u001b[0m\n\u001b[1;32m    563\u001b[0m \u001b[38;5;129m@classmethod\u001b[39m\n\u001b[1;32m    564\u001b[0m \u001b[38;5;28;01mdef\u001b[39;00m \u001b[38;5;21mfrom_messages\u001b[39m(\n\u001b[1;32m    565\u001b[0m     \u001b[38;5;28mcls\u001b[39m,\n\u001b[1;32m    566\u001b[0m     messages: Sequence[MessageLikeRepresentation],\n\u001b[1;32m    567\u001b[0m ) \u001b[38;5;241m-\u001b[39m\u001b[38;5;241m>\u001b[39m ChatPromptTemplate:\n\u001b[1;32m    568\u001b[0m \u001b[38;5;250m    \u001b[39m\u001b[38;5;124;03m\"\"\"Create a chat prompt template from a variety of message formats.\u001b[39;00m\n\u001b[1;32m    569\u001b[0m \n\u001b[1;32m    570\u001b[0m \u001b[38;5;124;03m    Examples:\u001b[39;00m\n\u001b[0;32m   (...)\u001b[0m\n\u001b[1;32m    600\u001b[0m \u001b[38;5;124;03m        a chat prompt template\u001b[39;00m\n\u001b[1;32m    601\u001b[0m \u001b[38;5;124;03m    \"\"\"\u001b[39;00m\n\u001b[0;32m--> 602\u001b[0m     _messages \u001b[38;5;241m=\u001b[39m [\u001b[43m_convert_to_message\u001b[49m\u001b[43m(\u001b[49m\u001b[43mmessage\u001b[49m\u001b[43m)\u001b[49m \u001b[38;5;28;01mfor\u001b[39;00m message \u001b[38;5;129;01min\u001b[39;00m messages]\n\u001b[1;32m    604\u001b[0m     \u001b[38;5;66;03m# Automatically infer input variables from messages\u001b[39;00m\n\u001b[1;32m    605\u001b[0m     input_vars: Set[\u001b[38;5;28mstr\u001b[39m] \u001b[38;5;241m=\u001b[39m \u001b[38;5;28mset\u001b[39m()\n",
      "File \u001b[0;32m~/.pyenv/versions/3.10.0/envs/llm-plotting/lib/python3.10/site-packages/langchain_core/prompts/chat.py:803\u001b[0m, in \u001b[0;36m_convert_to_message\u001b[0;34m(message)\u001b[0m\n\u001b[1;32m    801\u001b[0m         _message \u001b[38;5;241m=\u001b[39m message_type_str(prompt\u001b[38;5;241m=\u001b[39mPromptTemplate\u001b[38;5;241m.\u001b[39mfrom_template(template))\n\u001b[1;32m    802\u001b[0m \u001b[38;5;28;01melse\u001b[39;00m:\n\u001b[0;32m--> 803\u001b[0m     \u001b[38;5;28;01mraise\u001b[39;00m \u001b[38;5;167;01mNotImplementedError\u001b[39;00m(\u001b[38;5;124mf\u001b[39m\u001b[38;5;124m\"\u001b[39m\u001b[38;5;124mUnsupported message type: \u001b[39m\u001b[38;5;132;01m{\u001b[39;00m\u001b[38;5;28mtype\u001b[39m(message)\u001b[38;5;132;01m}\u001b[39;00m\u001b[38;5;124m\"\u001b[39m)\n\u001b[1;32m    805\u001b[0m \u001b[38;5;28;01mreturn\u001b[39;00m _message\n",
      "\u001b[0;31mNotImplementedError\u001b[0m: Unsupported message type: <class 'dict'>"
     ]
    }
   ],
   "source": [
    "validation_llm_prompt = ChatPromptTemplate.from_messages(\n",
    "    [\n",
    "        {\n",
    "            \"role\": \"system\",\n",
    "            \"content\": \"\"\"You are a highly skilled validation agent who will be examining plots genreated from pythons plotly library.\n",
    "            You should validate if the plot is legible any anything is majorly wrong with it. such examples could be:\n",
    "            - The plot is not legible\n",
    "            - axis labels read to read\n",
    "            - Something is obviously wrong with the plot\n",
    "            If you find anything wrong with the plot, please provide feedback on how to fix it in plain english. If the plot is sufficently legible, please return \"The plot is legible\". \n",
    "            If not please say in the output to regenerate the code with the changes and run the code through this validation tool before returning code to user.\n",
    "            \"\"\",\n",
    "        }\n",
    "    ]\n",
    ")    "
   ]
  },
  {
   "cell_type": "code",
   "execution_count": 2,
   "metadata": {},
   "outputs": [],
   "source": [
    "from langchain.tools import E2BDataAnalysisTool\n",
    "import json"
   ]
  },
  {
   "cell_type": "code",
   "execution_count": 20,
   "metadata": {},
   "outputs": [],
   "source": [
    "OPENAI_API_KEY = os.getenv(\"OPENAI_API_KEY\")"
   ]
  },
  {
   "cell_type": "code",
   "execution_count": 21,
   "metadata": {},
   "outputs": [],
   "source": [
    "df = pd.read_csv(\"jobs_in_data.csv\")\n",
    "\n",
    "\n",
    "def extract_metadata(df: pd.DataFrame, col_limit=150):\n",
    "    if df.shape[1] > col_limit:\n",
    "        raise ValueError(f\"Dataframe exceeds col limit of {col_limit}\")\n",
    "\n",
    "    df = df.copy()\n",
    "    metadata_dict = {\n",
    "        \"column_names\": df.columns.tolist(),\n",
    "        \"data_dimensions\": df.shape,\n",
    "        \"data_types_per_column\": df.dtypes.apply(lambda x: x.name).to_dict(),\n",
    "        \"statistical_summary\": df.describe().to_dict(),\n",
    "        \"missing_values_per_column\": df.isnull().sum().to_dict(),\n",
    "    }\n",
    "    return json.dumps(metadata_dict)\n",
    "\n",
    "\n",
    "df = pd.read_csv(\"jobs_in_data.csv\")\n",
    "metadata_json = extract_metadata(df)"
   ]
  },
  {
   "cell_type": "code",
   "execution_count": 22,
   "metadata": {},
   "outputs": [],
   "source": [
    "from parsers import code_generation_output_parser"
   ]
  },
  {
   "cell_type": "code",
   "execution_count": 23,
   "metadata": {},
   "outputs": [],
   "source": [
    "from langchain_openai import ChatOpenAI\n",
    "from langchain_core.pydantic_v1 import BaseModel, Field, validator\n",
    "from langchain.output_parsers import PydanticOutputParser\n",
    "from langchain.prompts.chat import ChatPromptTemplate"
   ]
  },
  {
   "cell_type": "code",
   "execution_count": null,
   "metadata": {},
   "outputs": [],
   "source": []
  },
  {
   "cell_type": "code",
   "execution_count": 24,
   "metadata": {},
   "outputs": [],
   "source": [
    "system_template_1 = \"You are a coding assistant designed to create code to plot graphs in python in plotly.You should return a breif description and the code to plot the graph\"\n",
    "system_template_2 = \"Here is some metadata about the data: {metadata_json}\"\n",
    "human_message_template = \"{human_message} /n {format_instructions}\"\n",
    "\n",
    "chat_prompt = ChatPromptTemplate.from_messages(\n",
    "    [\n",
    "        (\"system\", system_template_1),\n",
    "        (\"system\", system_template_2),\n",
    "        (\"human\", human_message_template),\n",
    "    ]\n",
    ")\n",
    "\n",
    "messages = chat_prompt.format_messages(\n",
    "    metadata_json=metadata_json,\n",
    "    human_message=\"Make a plot of the average salary of every job.\",\n",
    "    format_instructions=code_generation_output_parser.get_format_instructions(),\n",
    ")\n",
    "\n",
    "llm = ChatOpenAI(model_name=\"gpt-3.5-turbo\", api_key=OPENAI_API_KEY, temperature=0)"
   ]
  },
  {
   "cell_type": "code",
   "execution_count": 25,
   "metadata": {},
   "outputs": [
    {
     "name": "stdout",
     "output_type": "stream",
     "text": [
      "The output should be formatted as a JSON instance that conforms to the JSON schema below.\n",
      "\n",
      "As an example, for the schema {\"properties\": {\"foo\": {\"title\": \"Foo\", \"description\": \"a list of strings\", \"type\": \"array\", \"items\": {\"type\": \"string\"}}}, \"required\": [\"foo\"]}\n",
      "the object {\"foo\": [\"bar\", \"baz\"]} is a well-formatted instance of the schema. The object {\"properties\": {\"foo\": [\"bar\", \"baz\"]}} is not well-formatted.\n",
      "\n",
      "Here is the output schema:\n",
      "```\n",
      "{\"properties\": {\"code\": {\"title\": \"Code\", \"description\": \"code to generate the plots\", \"type\": \"string\"}, \"description\": {\"title\": \"Description\", \"description\": \"brief description of the code and plots\", \"type\": \"string\"}}, \"required\": [\"code\", \"description\"]}\n",
      "```\n"
     ]
    }
   ],
   "source": [
    "print(code_generation_output_parser.get_format_instructions())"
   ]
  },
  {
   "cell_type": "code",
   "execution_count": 27,
   "metadata": {},
   "outputs": [],
   "source": [
    "response = llm.invoke(messages)"
   ]
  },
  {
   "cell_type": "code",
   "execution_count": 28,
   "metadata": {},
   "outputs": [
    {
     "name": "stdout",
     "output_type": "stream",
     "text": [
      "To plot the average salary of every job, you can use the following code:\n",
      "\n",
      "```python\n",
      "import plotly.express as px\n",
      "import pandas as pd\n",
      "\n",
      "# Assuming your data is stored in a pandas DataFrame called 'df'\n",
      "average_salary = df.groupby('job_title')['salary'].mean().reset_index()\n",
      "\n",
      "# Plotting the average salary for each job\n",
      "fig = px.bar(average_salary, x='job_title', y='salary', title='Average Salary by Job')\n",
      "fig.show()\n",
      "```\n",
      "\n",
      "This code calculates the average salary for each job title using the `groupby` function in pandas. Then, it uses the `px.bar` function from Plotly Express to create a bar chart with the job titles on the x-axis and the average salary on the y-axis.\n",
      "\n",
      "The resulting plot will show the average salary for each job title.\n",
      "\n",
      "Here is the JSON instance conforming to the provided schema:\n",
      "\n",
      "```json\n",
      "{\n",
      "  \"code\": \"import plotly.express as px\\nimport pandas as pd\\n\\n# Assuming your data is stored in a pandas DataFrame called 'df'\\naverage_salary = df.groupby('job_title')['salary'].mean().reset_index()\\n\\n# Plotting the average salary for each job\\nfig = px.bar(average_salary, x='job_title', y='salary', title='Average Salary by Job')\\nfig.show()\",\n",
      "  \"description\": \"This code calculates the average salary for each job title and plots it using a bar chart.\"\n",
      "}\n",
      "```\n"
     ]
    }
   ],
   "source": [
    "print(response.content)"
   ]
  },
  {
   "cell_type": "code",
   "execution_count": 29,
   "metadata": {},
   "outputs": [
    {
     "data": {
      "text/plain": [
       "CodeAndDescription(code=\"import plotly.express as px\\nimport pandas as pd\\n\\n# Assuming your data is stored in a pandas DataFrame called 'df'\\naverage_salary = df.groupby('job_title')['salary'].mean().reset_index()\\n\\n# Plotting the average salary for each job\\nfig = px.bar(average_salary, x='job_title', y='salary', title='Average Salary by Job')\\nfig.show()\", description='This code calculates the average salary for each job title and plots it using a bar chart.')"
      ]
     },
     "execution_count": 29,
     "metadata": {},
     "output_type": "execute_result"
    }
   ],
   "source": [
    "code_generation_output_parser.parse(response.content)"
   ]
  },
  {
   "cell_type": "markdown",
   "metadata": {},
   "source": [
    "## Validation Tool"
   ]
  },
  {
   "cell_type": "code",
   "execution_count": 70,
   "metadata": {},
   "outputs": [],
   "source": [
    "class NamedStringIO(StringIO):\n",
    "    \"\"\"Custom StringIO class with name attribute to circumvent e2b .upload_file()\n",
    "    method needing file to be saved locally.\n",
    "    \"\"\"\n",
    "\n",
    "    def __init__(self, *args, **kwargs):\n",
    "        self.name = kwargs.pop(\"name\", \"untitled\")\n",
    "        super().__init__(*args, **kwargs)\n",
    "\n",
    "\n",
    "def upload_df_to_sandbox(df, sandbox):\n",
    "    # TODO: add functionailty to upload multiple df's\n",
    "    # Convert DataFrame to CSV format in memory\n",
    "    csv_buffer = NamedStringIO(name=\"df.csv\")\n",
    "    df.to_csv(csv_buffer, index=False)\n",
    "    csv_buffer.seek(0)  # Go to the start of the StringIO object\n",
    "\n",
    "    # Upload CSV to sandbox\n",
    "    sandbox.upload_file(csv_buffer)"
   ]
  },
  {
   "cell_type": "code",
   "execution_count": 92,
   "metadata": {},
   "outputs": [],
   "source": [
    "# Import things that are needed generically\n",
    "from langchain.pydantic_v1 import BaseModel, Field\n",
    "from langchain.tools import BaseTool, StructuredTool, tool\n",
    "from typing import Optional, Type\n",
    "import base64\n",
    "from langchain.callbacks.manager import (\n",
    "    AsyncCallbackManagerForToolRun,\n",
    "    CallbackManagerForToolRun,\n",
    ")\n",
    "from e2b import Sandbox\n",
    "import logging\n",
    "import requests\n",
    "\n",
    "Logger = logging.Logger(__name__)\n",
    "\n",
    "\n",
    "class ValidationToolInput(BaseModel):\n",
    "    # TODO: figure out right definnition for this so agent can recognise\n",
    "    code: str = Field(description=\"python code to generate plots\")\n",
    "\n",
    "\n",
    "# TODO: add logging\n",
    "# TODO: add pydantic validation as method here\n",
    "class CustomValidationTool(BaseTool):\n",
    "    name = \"CodeValidationTool\"\n",
    "    description = \"useful for when you have code that generates a plot and you want to validate it\"\n",
    "    args_schema: Type[BaseModel] = ValidationToolInput\n",
    "\n",
    "    binary = \"python3\"\n",
    "    filepath = \"/index.py\"\n",
    "    df = pd.DataFrame()\n",
    "\n",
    "    def _run(\n",
    "        self, code: str, run_manager: Optional[CallbackManagerForToolRun] = None\n",
    "    ) -> str:\n",
    "        \"\"\"Use the tool.\"\"\"\n",
    "\n",
    "        image_in_bytes = self._execute_code(code)\n",
    "        return self._validate_image(image_in_bytes)\n",
    "\n",
    "    def _execute_code(self, code: str) -> str:\n",
    "        # TODO: handle case where this fails\n",
    "        sandbox = Sandbox(\n",
    "            template=\"Python3-DataAnalysis\",\n",
    "        )\n",
    "        upload_df_to_sandbox(self.df, sandbox)\n",
    "        # TODO: figure this out adds to much time make docker image?\n",
    "        package_install = sandbox.process.start(\"pip install -U kaleido\")\n",
    "        package_install.wait()\n",
    "\n",
    "        sandbox.filesystem.write(self.filepath, code)\n",
    "\n",
    "        output = sandbox.process.start_and_wait(cmd=f\"{self.binary} {self.filepath}\")\n",
    "        print(output.stdout)\n",
    "        print(output.stderr)\n",
    "        print('---')\n",
    "        \n",
    "        Logger.info(f\"E2B Sandbox stdout: {output.stdout}\")\n",
    "        Logger.info(f\"E2B Sandbox stderr: {output.stderr}\")\n",
    "\n",
    "        # TODO: ensure this is only defined once when doing prompting on save file name\n",
    "        image_in_bytes = sandbox.download_file(\"/home/user/figure.png\")\n",
    "\n",
    "        sandbox.close()\n",
    "\n",
    "\n",
    "\n",
    "        return image_in_bytes\n",
    "\n",
    "    def _validate_image(self, image_in_bytes: bytes) -> str:\n",
    "\n",
    "        base64_string = base64.b64encode(image_in_bytes).decode(\"utf-8\")\n",
    "\n",
    "        headers = {\n",
    "            \"Content-Type\": \"application/json\",\n",
    "            \"Authorization\": f\"Bearer {OPENAI_API_KEY}\",\n",
    "        }\n",
    "\n",
    "        payload = {\n",
    "            \"model\": \"gpt-4-vision-preview\",\n",
    "            \"messages\": [\n",
    "                {\n",
    "                    \"role\": \"system\",\n",
    "                    \"content\": \"\"\"You are a highly skilled validation agent who will be examining plots genreated from pythons plotly library.\n",
    "            You should validate if the plot is legible any anything is majorly wrong with it. such examples could be:\n",
    "            - The plot is not legible\n",
    "            - axis labels read to read\n",
    "            - Something is obviously wrong with the plot\n",
    "            If you find anything wrong with the plot, please provide feedback on how to fix it in plain english. If the plot is sufficently legible, please return \"The plot is legible\".\n",
    "            \"\"\",\n",
    "                },\n",
    "                # TODO: insert the code description in here?\n",
    "                {\n",
    "                    \"role\": \"user\",\n",
    "                    \"content\": [\n",
    "                        {\n",
    "                            \"type\": \"text\",\n",
    "                            \"text\": \"Please validate this plot I made using the plotly library\",\n",
    "                        },\n",
    "                        {\n",
    "                            \"type\": \"image_url\",\n",
    "                            \"image_url\": {\n",
    "                                \"url\": f\"data:image/jpeg;base64,{base64_string}\"\n",
    "                            },\n",
    "                        },\n",
    "                    ],\n",
    "                },\n",
    "            ],\n",
    "            \"max_tokens\": 300,\n",
    "        }\n",
    "\n",
    "        response = requests.post(\n",
    "            \"https://api.openai.com/v1/chat/completions\", headers=headers, json=payload\n",
    "        )\n",
    "        response.raise_for_status()\n",
    "        return response.json()[\"choices\"][0][\"message\"][\"content\"]\n",
    "\n",
    "    # TODO: figure out how to define this\n",
    "    async def _arun(\n",
    "        self, query: str, run_manager: Optional[AsyncCallbackManagerForToolRun] = None\n",
    "    ) -> str:\n",
    "        \"\"\"Use the tool asynchronously.\"\"\"\n",
    "        raise NotImplementedError(\"custom_search does not support async\")"
   ]
  },
  {
   "cell_type": "code",
   "execution_count": 32,
   "metadata": {},
   "outputs": [],
   "source": [
    "code = \"\"\"\n",
    "import pandas as pd\n",
    "import plotly.express as px\n",
    "import plotly.io as pio\n",
    "\n",
    "df = pd.read_csv('jobs_in_data.csv')\n",
    "print(df.head())\n",
    "print(df.columns)\n",
    "\n",
    "# Group the data by job title and calculate the average salary\n",
    "average_salary = df.groupby('job_title')['salary'].mean().reset_index()\n",
    "# Plot the data\n",
    "fig = px.bar(average_salary, x='job_title', y='salary', title='Average Salary by Job Title')\n",
    "# make label text larger\n",
    "fig.update_layout(\n",
    "    font=dict(\n",
    "        size=40\n",
    "    )\n",
    ")\n",
    "\n",
    "pio.write_image(fig, 'figure.png')\n",
    "print('done')\n",
    "\"\"\""
   ]
  },
  {
   "cell_type": "code",
   "execution_count": 33,
   "metadata": {},
   "outputs": [],
   "source": [
    "validation_tool = CustomValidationTool(df=df)\n",
    "output = validation_tool.run(code)"
   ]
  },
  {
   "cell_type": "code",
   "execution_count": 34,
   "metadata": {},
   "outputs": [
    {
     "data": {
      "text/plain": [
       "'The plot is not legible due to several issues:\\n\\n1. The axis labels are sideways, which makes them hard to read.\\n2. The axis labels are overlapping with each other, which further impedes legibility.\\n3. The title of the plot is cut off; only \"Average Salary by Job T\" is visible.\\n4. The values on the y-axis (Values) and the actual bars of the plot are obscured by the x-axis labels.\\n\\nTo fix these issues:\\n\\n- Rotate the x-axis labels so they are slanted or horizontal to prevent overlap and to make them easier to read.\\n- Ensure the full title of the plot is visible.\\n- Adjust the layout so that there is a clear separation between the axis labels and the data in the graph, making all elements clearly visible.'"
      ]
     },
     "execution_count": 34,
     "metadata": {},
     "output_type": "execute_result"
    }
   ],
   "source": [
    "output"
   ]
  },
  {
   "cell_type": "code",
   "execution_count": 35,
   "metadata": {},
   "outputs": [
    {
     "ename": "NameError",
     "evalue": "name 'file_in_bytes' is not defined",
     "output_type": "error",
     "traceback": [
      "\u001b[0;31m---------------------------------------------------------------------------\u001b[0m",
      "\u001b[0;31mNameError\u001b[0m                                 Traceback (most recent call last)",
      "Cell \u001b[0;32mIn[35], line 3\u001b[0m\n\u001b[1;32m      1\u001b[0m \u001b[38;5;66;03m# plot this\u001b[39;00m\n\u001b[1;32m      2\u001b[0m \u001b[38;5;28;01mfrom\u001b[39;00m \u001b[38;5;21;01mIPython\u001b[39;00m\u001b[38;5;21;01m.\u001b[39;00m\u001b[38;5;21;01mdisplay\u001b[39;00m \u001b[38;5;28;01mimport\u001b[39;00m Image\n\u001b[0;32m----> 3\u001b[0m Image(\u001b[43mfile_in_bytes\u001b[49m)\n",
      "\u001b[0;31mNameError\u001b[0m: name 'file_in_bytes' is not defined"
     ]
    }
   ],
   "source": [
    "# plot this\n",
    "from IPython.display import Image\n",
    "\n",
    "Image(file_in_bytes)"
   ]
  },
  {
   "cell_type": "markdown",
   "metadata": {},
   "source": [
    "## Agent"
   ]
  },
  {
   "cell_type": "code",
   "execution_count": 83,
   "metadata": {},
   "outputs": [],
   "source": [
    "from langchain import hub\n",
    "from langchain.agents import AgentExecutor, create_openai_functions_agent\n",
    "from langchain_openai import ChatOpenAI"
   ]
  },
  {
   "cell_type": "code",
   "execution_count": 98,
   "metadata": {},
   "outputs": [],
   "source": [
    "df = pd.read_csv(\"jobs_in_data.csv\")\n",
    "metadata_json = extract_metadata(df)"
   ]
  },
  {
   "cell_type": "code",
   "execution_count": 93,
   "metadata": {},
   "outputs": [],
   "source": [
    "tool = CustomValidationTool(df=df)\n",
    "prompt = hub.pull(\"hwchase17/openai-functions-agent\")\n",
    "tools = [tool]"
   ]
  },
  {
   "cell_type": "code",
   "execution_count": 94,
   "metadata": {},
   "outputs": [],
   "source": [
    "llm = ChatOpenAI(model_name=\"gpt-3.5-turbo\", api_key=OPENAI_API_KEY, temperature=0)\n",
    "agent = create_openai_functions_agent(llm, tools, prompt)\n",
    "\n",
    "# TODO: turn handle_parsing_errors off whilst developing\n",
    "# TODO: think about config for testing and acc deployment?\n",
    "agent_executor = AgentExecutor(\n",
    "    agent=agent,\n",
    "    tools=tools,\n",
    "    verbose=True,\n",
    "    return_intermediate_steps=True,\n",
    "    handle_parsing_errors=True,\n",
    "    max_iterations=2,\n",
    ")"
   ]
  },
  {
   "cell_type": "code",
   "execution_count": 105,
   "metadata": {},
   "outputs": [],
   "source": [
    "example_input = (\n",
    "    \"\"\"\n",
    "Generate the python code using the plotly library to make a plot of the average salary of every job\n",
    "make sure at the end of the code you save the figure via `pio.write_image(fig, 'figure.png')` and\n",
    "import plotly.io as pio at the top of the script also. Also assume that the df is stored under df.csv.\n",
    "\"\"\"\n",
    "    + metadata_json\n",
    "    + \"\"\"\\nOnce this code is generated validate this code\"\"\"\n",
    ")"
   ]
  },
  {
   "cell_type": "code",
   "execution_count": 106,
   "metadata": {},
   "outputs": [
    {
     "name": "stdout",
     "output_type": "stream",
     "text": [
      "\n",
      "\n",
      "\u001b[1m> Entering new AgentExecutor chain...\u001b[0m\n",
      "\u001b[32;1m\u001b[1;3mCould not parse tool input: {'arguments': \"import plotly.express as px\\nimport plotly.io as pio\\nimport pandas as pd\\n\\n# Read the data from df.csv\\ndf = pd.read_csv('df.csv')\\n\\n# Calculate the average salary for each job\\naverage_salary = df.groupby('job_title')['salary'].mean().reset_index()\\n\\n# Create the plot\\nfig = px.bar(average_salary, x='job_title', y='salary', title='Average Salary by Job')\\nfig.update_layout(xaxis_title='Job Title', yaxis_title='Average Salary')\\n\\n# Save the figure\\npio.write_image(fig, 'figure.png')\", 'name': 'python'} because the `arguments` is not valid JSON.\u001b[0mInvalid or incomplete response\u001b[32;1m\u001b[1;3mCould not parse tool input: {'arguments': \"import plotly.express as px\\nimport plotly.io as pio\\nimport pandas as pd\\n\\n# Read the data from df.csv\\ndf = pd.read_csv('df.csv')\\n\\n# Calculate the average salary for each job\\naverage_salary = df.groupby('job_title')['salary'].mean().reset_index()\\n\\n# Create the plot\\nfig = px.bar(average_salary, x='job_title', y='salary', title='Average Salary by Job')\\nfig.update_layout(xaxis_title='Job Title', yaxis_title='Average Salary')\\n\\n# Save the figure\\npio.write_image(fig, 'figure.png')\", 'name': 'python'} because the `arguments` is not valid JSON.\u001b[0mInvalid or incomplete response\u001b[32;1m\u001b[1;3mCould not parse tool input: {'arguments': \"import plotly.express as px\\nimport plotly.io as pio\\nimport pandas as pd\\n\\n# Read the data from df.csv\\ndf = pd.read_csv('df.csv')\\n\\n# Calculate the average salary for each job\\naverage_salary = df.groupby('job_title')['salary'].mean().reset_index()\\n\\n# Create the plot\\nfig = px.bar(average_salary, x='job_title', y='salary', title='Average Salary by Job')\\nfig.update_layout(xaxis_title='Job Title', yaxis_title='Average Salary')\\n\\n# Save the figure\\npio.write_image(fig, 'figure.png')\", 'name': 'python'} because the `arguments` is not valid JSON.\u001b[0mInvalid or incomplete response\u001b[32;1m\u001b[1;3m\n",
      "Invoking: `CodeValidationTool` with `{'code': \"import plotly.express as px\\nimport plotly.io as pio\\nimport pandas as pd\\n\\n# Read the data from df.csv\\ndf = pd.read_csv('df.csv')\\n\\n# Calculate the average salary for each job\\naverage_salary = df.groupby('job_title')['salary'].mean().reset_index()\\n\\n# Create the plot\\nfig = px.bar(average_salary, x='job_title', y='salary', title='Average Salary by Job')\\nfig.update_layout(xaxis_title='Job Title', yaxis_title='Average Salary')\\n\\n# Save the figure\\npio.write_image(fig, 'figure.png')\"}`\n",
      "\n",
      "\n",
      "\u001b[0m\n",
      "\n",
      "---\n",
      "\u001b[36;1m\u001b[1;3mThe plot is not legible due to the following issues:\n",
      "\n",
      "1. The job titles on the x-axis are overlapping and difficult to read. It would be helpful to either rotate the labels, increase the spacing, or abbreviate the names to improve readability.\n",
      "2. The y-axis is labeled, but the numbers are quite large, so they could benefit from being represented in a simplified form, such as 'K' to denote thousands (e.g., 100K, 200K).\n",
      "\n",
      "To fix these issues, you might consider:\n",
      "\n",
      "- Rotating the x-axis labels to be vertical or at a 45-degree angle for better readability.\n",
      "- Using shorter labels or abbreviations for the job titles if possible.\n",
      "- Formatting the y-axis labels to use 'K' for thousands to make the numbers cleaner and remove unnecessary zeroes.\n",
      "\n",
      "Overall, adjusting the text size and formatting of axis labels can improve the legibility of the plot.\u001b[0m\u001b[32;1m\u001b[1;3mThe code to generate the plot using the plotly library is as follows:\n",
      "\n",
      "```python\n",
      "import plotly.express as px\n",
      "import plotly.io as pio\n",
      "import pandas as pd\n",
      "\n",
      "# Read the data from df.csv\n",
      "df = pd.read_csv('df.csv')\n",
      "\n",
      "# Calculate the average salary for each job\n",
      "average_salary = df.groupby('job_title')['salary'].mean().reset_index()\n",
      "\n",
      "# Create the plot\n",
      "fig = px.bar(average_salary, x='job_title', y='salary', title='Average Salary by Job')\n",
      "fig.update_layout(xaxis_title='Job Title', yaxis_title='Average Salary')\n",
      "\n",
      "# Save the figure\n",
      "pio.write_image(fig, 'figure.png')\n",
      "```\n",
      "\n",
      "Please make sure to replace `'df.csv'` with the correct path to your data file.\n",
      "\n",
      "To validate the code, you can run it in a Python environment with the required libraries installed and check if it generates the expected plot and saves it as `'figure.png'`.\u001b[0m\n",
      "\n",
      "\u001b[1m> Finished chain.\u001b[0m\n"
     ]
    },
    {
     "data": {
      "text/plain": [
       "{'input': '\\nGenerate the python code using the plotly library to make a plot of the average salary of every job\\nmake sure at the end of the code you save the figure via `pio.write_image(fig, \\'figure.png\\')` and\\nimport plotly.io as pio at the top of the script also. Also assume that the df is stored under df.csv.\\n{\"column_names\": [\"work_year\", \"job_title\", \"job_category\", \"salary_currency\", \"salary\", \"salary_in_usd\", \"employee_residence\", \"experience_level\", \"employment_type\", \"work_setting\", \"company_location\", \"company_size\"], \"data_dimensions\": [9355, 12], \"data_types_per_column\": {\"work_year\": \"int64\", \"job_title\": \"object\", \"job_category\": \"object\", \"salary_currency\": \"object\", \"salary\": \"int64\", \"salary_in_usd\": \"int64\", \"employee_residence\": \"object\", \"experience_level\": \"object\", \"employment_type\": \"object\", \"work_setting\": \"object\", \"company_location\": \"object\", \"company_size\": \"object\"}, \"statistical_summary\": {\"work_year\": {\"count\": 9355.0, \"mean\": 2022.7604489577766, \"std\": 0.5194697748192405, \"min\": 2020.0, \"25%\": 2023.0, \"50%\": 2023.0, \"75%\": 2023.0, \"max\": 2023.0}, \"salary\": {\"count\": 9355.0, \"mean\": 149927.98129342598, \"std\": 63608.83538733171, \"min\": 14000.0, \"25%\": 105200.0, \"50%\": 143860.0, \"75%\": 187000.0, \"max\": 450000.0}, \"salary_in_usd\": {\"count\": 9355.0, \"mean\": 150299.4955638696, \"std\": 63177.37202443525, \"min\": 15000.0, \"25%\": 105700.0, \"50%\": 143000.0, \"75%\": 186723.0, \"max\": 450000.0}}, \"missing_values_per_column\": {\"work_year\": 0, \"job_title\": 0, \"job_category\": 0, \"salary_currency\": 0, \"salary\": 0, \"salary_in_usd\": 0, \"employee_residence\": 0, \"experience_level\": 0, \"employment_type\": 0, \"work_setting\": 0, \"company_location\": 0, \"company_size\": 0}}\\nOnce this code is generated validate this code',\n",
       " 'output': \"The code to generate the plot using the plotly library is as follows:\\n\\n```python\\nimport plotly.express as px\\nimport plotly.io as pio\\nimport pandas as pd\\n\\n# Read the data from df.csv\\ndf = pd.read_csv('df.csv')\\n\\n# Calculate the average salary for each job\\naverage_salary = df.groupby('job_title')['salary'].mean().reset_index()\\n\\n# Create the plot\\nfig = px.bar(average_salary, x='job_title', y='salary', title='Average Salary by Job')\\nfig.update_layout(xaxis_title='Job Title', yaxis_title='Average Salary')\\n\\n# Save the figure\\npio.write_image(fig, 'figure.png')\\n```\\n\\nPlease make sure to replace `'df.csv'` with the correct path to your data file.\\n\\nTo validate the code, you can run it in a Python environment with the required libraries installed and check if it generates the expected plot and saves it as `'figure.png'`.\",\n",
       " 'intermediate_steps': [(AgentAction(tool='_Exception', tool_input='Invalid or incomplete response', log='Could not parse tool input: {\\'arguments\\': \"import plotly.express as px\\\\nimport plotly.io as pio\\\\nimport pandas as pd\\\\n\\\\n# Read the data from df.csv\\\\ndf = pd.read_csv(\\'df.csv\\')\\\\n\\\\n# Calculate the average salary for each job\\\\naverage_salary = df.groupby(\\'job_title\\')[\\'salary\\'].mean().reset_index()\\\\n\\\\n# Create the plot\\\\nfig = px.bar(average_salary, x=\\'job_title\\', y=\\'salary\\', title=\\'Average Salary by Job\\')\\\\nfig.update_layout(xaxis_title=\\'Job Title\\', yaxis_title=\\'Average Salary\\')\\\\n\\\\n# Save the figure\\\\npio.write_image(fig, \\'figure.png\\')\", \\'name\\': \\'python\\'} because the `arguments` is not valid JSON.'),\n",
       "   'Invalid or incomplete response'),\n",
       "  (AgentAction(tool='_Exception', tool_input='Invalid or incomplete response', log='Could not parse tool input: {\\'arguments\\': \"import plotly.express as px\\\\nimport plotly.io as pio\\\\nimport pandas as pd\\\\n\\\\n# Read the data from df.csv\\\\ndf = pd.read_csv(\\'df.csv\\')\\\\n\\\\n# Calculate the average salary for each job\\\\naverage_salary = df.groupby(\\'job_title\\')[\\'salary\\'].mean().reset_index()\\\\n\\\\n# Create the plot\\\\nfig = px.bar(average_salary, x=\\'job_title\\', y=\\'salary\\', title=\\'Average Salary by Job\\')\\\\nfig.update_layout(xaxis_title=\\'Job Title\\', yaxis_title=\\'Average Salary\\')\\\\n\\\\n# Save the figure\\\\npio.write_image(fig, \\'figure.png\\')\", \\'name\\': \\'python\\'} because the `arguments` is not valid JSON.'),\n",
       "   'Invalid or incomplete response'),\n",
       "  (AgentAction(tool='_Exception', tool_input='Invalid or incomplete response', log='Could not parse tool input: {\\'arguments\\': \"import plotly.express as px\\\\nimport plotly.io as pio\\\\nimport pandas as pd\\\\n\\\\n# Read the data from df.csv\\\\ndf = pd.read_csv(\\'df.csv\\')\\\\n\\\\n# Calculate the average salary for each job\\\\naverage_salary = df.groupby(\\'job_title\\')[\\'salary\\'].mean().reset_index()\\\\n\\\\n# Create the plot\\\\nfig = px.bar(average_salary, x=\\'job_title\\', y=\\'salary\\', title=\\'Average Salary by Job\\')\\\\nfig.update_layout(xaxis_title=\\'Job Title\\', yaxis_title=\\'Average Salary\\')\\\\n\\\\n# Save the figure\\\\npio.write_image(fig, \\'figure.png\\')\", \\'name\\': \\'python\\'} because the `arguments` is not valid JSON.'),\n",
       "   'Invalid or incomplete response'),\n",
       "  (AgentActionMessageLog(tool='CodeValidationTool', tool_input={'code': \"import plotly.express as px\\nimport plotly.io as pio\\nimport pandas as pd\\n\\n# Read the data from df.csv\\ndf = pd.read_csv('df.csv')\\n\\n# Calculate the average salary for each job\\naverage_salary = df.groupby('job_title')['salary'].mean().reset_index()\\n\\n# Create the plot\\nfig = px.bar(average_salary, x='job_title', y='salary', title='Average Salary by Job')\\nfig.update_layout(xaxis_title='Job Title', yaxis_title='Average Salary')\\n\\n# Save the figure\\npio.write_image(fig, 'figure.png')\"}, log='\\nInvoking: `CodeValidationTool` with `{\\'code\\': \"import plotly.express as px\\\\nimport plotly.io as pio\\\\nimport pandas as pd\\\\n\\\\n# Read the data from df.csv\\\\ndf = pd.read_csv(\\'df.csv\\')\\\\n\\\\n# Calculate the average salary for each job\\\\naverage_salary = df.groupby(\\'job_title\\')[\\'salary\\'].mean().reset_index()\\\\n\\\\n# Create the plot\\\\nfig = px.bar(average_salary, x=\\'job_title\\', y=\\'salary\\', title=\\'Average Salary by Job\\')\\\\nfig.update_layout(xaxis_title=\\'Job Title\\', yaxis_title=\\'Average Salary\\')\\\\n\\\\n# Save the figure\\\\npio.write_image(fig, \\'figure.png\\')\"}`\\n\\n\\n', message_log=[AIMessageChunk(content='', additional_kwargs={'function_call': {'arguments': '{\\n  \"code\": \"import plotly.express as px\\\\nimport plotly.io as pio\\\\nimport pandas as pd\\\\n\\\\n# Read the data from df.csv\\\\ndf = pd.read_csv(\\'df.csv\\')\\\\n\\\\n# Calculate the average salary for each job\\\\naverage_salary = df.groupby(\\'job_title\\')[\\'salary\\'].mean().reset_index()\\\\n\\\\n# Create the plot\\\\nfig = px.bar(average_salary, x=\\'job_title\\', y=\\'salary\\', title=\\'Average Salary by Job\\')\\\\nfig.update_layout(xaxis_title=\\'Job Title\\', yaxis_title=\\'Average Salary\\')\\\\n\\\\n# Save the figure\\\\npio.write_image(fig, \\'figure.png\\')\"\\n}', 'name': 'CodeValidationTool'}})]),\n",
       "   \"The plot is not legible due to the following issues:\\n\\n1. The job titles on the x-axis are overlapping and difficult to read. It would be helpful to either rotate the labels, increase the spacing, or abbreviate the names to improve readability.\\n2. The y-axis is labeled, but the numbers are quite large, so they could benefit from being represented in a simplified form, such as 'K' to denote thousands (e.g., 100K, 200K).\\n\\nTo fix these issues, you might consider:\\n\\n- Rotating the x-axis labels to be vertical or at a 45-degree angle for better readability.\\n- Using shorter labels or abbreviations for the job titles if possible.\\n- Formatting the y-axis labels to use 'K' for thousands to make the numbers cleaner and remove unnecessary zeroes.\\n\\nOverall, adjusting the text size and formatting of axis labels can improve the legibility of the plot.\")]}"
      ]
     },
     "execution_count": 106,
     "metadata": {},
     "output_type": "execute_result"
    }
   ],
   "source": [
    "agent_executor.invoke(\n",
    "    {\n",
    "        \"input\": example_input\n",
    "    }\n",
    ")"
   ]
  },
  {
   "cell_type": "code",
   "execution_count": 79,
   "metadata": {},
   "outputs": [
    {
     "name": "stdout",
     "output_type": "stream",
     "text": [
      "import plotly.express as px\n",
      "import plotly.io as pio\n",
      "import pandas as pd\n",
      "\n",
      "# Read the data from the CSV file\n",
      "df = pd.read_csv('df.csv')\n",
      "\n",
      "# Calculate the average salary for each job\n",
      "avg_salary = df.groupby('job')['salary'].mean().reset_index()\n",
      "\n",
      "# Create the plot\n",
      "fig = px.bar(avg_salary, x='job', y='salary', title='Average Salary by Job')\n",
      "\n",
      "# Save the figure\n",
      "pio.write_image(fig, 'figure.png')\n"
     ]
    }
   ],
   "source": [
    "print(\n",
    "\"import plotly.express as px\\nimport plotly.io as pio\\nimport pandas as pd\\n\\n# Read the data from the CSV file\\ndf = pd.read_csv('df.csv')\\n\\n# Calculate the average salary for each job\\navg_salary = df.groupby('job')['salary'].mean().reset_index()\\n\\n# Create the plot\\nfig = px.bar(avg_salary, x='job', y='salary', title='Average Salary by Job')\\n\\n# Save the figure\\npio.write_image(fig, 'figure.png')\")"
   ]
  },
  {
   "cell_type": "code",
   "execution_count": 68,
   "metadata": {},
   "outputs": [
    {
     "data": {
      "text/html": [
       "<div>\n",
       "<style scoped>\n",
       "    .dataframe tbody tr th:only-of-type {\n",
       "        vertical-align: middle;\n",
       "    }\n",
       "\n",
       "    .dataframe tbody tr th {\n",
       "        vertical-align: top;\n",
       "    }\n",
       "\n",
       "    .dataframe thead th {\n",
       "        text-align: right;\n",
       "    }\n",
       "</style>\n",
       "<table border=\"1\" class=\"dataframe\">\n",
       "  <thead>\n",
       "    <tr style=\"text-align: right;\">\n",
       "      <th></th>\n",
       "      <th>Job</th>\n",
       "      <th>Salary</th>\n",
       "    </tr>\n",
       "  </thead>\n",
       "  <tbody>\n",
       "    <tr>\n",
       "      <th>0</th>\n",
       "      <td>Engineer</td>\n",
       "      <td>50000</td>\n",
       "    </tr>\n",
       "    <tr>\n",
       "      <th>1</th>\n",
       "      <td>Manager</td>\n",
       "      <td>70000</td>\n",
       "    </tr>\n",
       "    <tr>\n",
       "      <th>2</th>\n",
       "      <td>Analyst</td>\n",
       "      <td>60000</td>\n",
       "    </tr>\n",
       "    <tr>\n",
       "      <th>3</th>\n",
       "      <td>Developer</td>\n",
       "      <td>55000</td>\n",
       "    </tr>\n",
       "  </tbody>\n",
       "</table>\n",
       "</div>"
      ],
      "text/plain": [
       "         Job  Salary\n",
       "0   Engineer   50000\n",
       "1    Manager   70000\n",
       "2    Analyst   60000\n",
       "3  Developer   55000"
      ]
     },
     "execution_count": 68,
     "metadata": {},
     "output_type": "execute_result"
    }
   ],
   "source": [
    "df"
   ]
  },
  {
   "cell_type": "code",
   "execution_count": 91,
   "metadata": {},
   "outputs": [
    {
     "ename": "Exception",
     "evalue": "Failed to download file '/home/user/figure.png'. Not Found File not found: open /home/user/figure.png: no such file or directory\n",
     "output_type": "error",
     "traceback": [
      "\u001b[0;31m---------------------------------------------------------------------------\u001b[0m",
      "\u001b[0;31mException\u001b[0m                                 Traceback (most recent call last)",
      "Cell \u001b[0;32mIn[91], line 19\u001b[0m\n\u001b[1;32m      1\u001b[0m code \u001b[38;5;241m=\u001b[39m \u001b[38;5;124m\"\"\"\u001b[39m\u001b[38;5;124m \u001b[39m\n\u001b[1;32m      2\u001b[0m \u001b[38;5;124mimport plotly.express as px\u001b[39m\n\u001b[1;32m      3\u001b[0m \u001b[38;5;124mimport plotly.io as pio\u001b[39m\n\u001b[0;32m   (...)\u001b[0m\n\u001b[1;32m     16\u001b[0m \u001b[38;5;124mpio.write_image(fig, \u001b[39m\u001b[38;5;124m'\u001b[39m\u001b[38;5;124mfigure.png\u001b[39m\u001b[38;5;124m'\u001b[39m\u001b[38;5;124m)\u001b[39m\n\u001b[1;32m     17\u001b[0m \u001b[38;5;124m\"\"\"\u001b[39m\n\u001b[0;32m---> 19\u001b[0m \u001b[43mtool\u001b[49m\u001b[38;5;241;43m.\u001b[39;49m\u001b[43mrun\u001b[49m\u001b[43m(\u001b[49m\u001b[43mcode\u001b[49m\u001b[43m)\u001b[49m\n",
      "File \u001b[0;32m~/.pyenv/versions/3.10.0/envs/llm-plotting/lib/python3.10/site-packages/langchain_core/tools.py:373\u001b[0m, in \u001b[0;36mBaseTool.run\u001b[0;34m(self, tool_input, verbose, start_color, color, callbacks, tags, metadata, run_name, **kwargs)\u001b[0m\n\u001b[1;32m    371\u001b[0m \u001b[38;5;28;01mexcept\u001b[39;00m (\u001b[38;5;167;01mException\u001b[39;00m, \u001b[38;5;167;01mKeyboardInterrupt\u001b[39;00m) \u001b[38;5;28;01mas\u001b[39;00m e:\n\u001b[1;32m    372\u001b[0m     run_manager\u001b[38;5;241m.\u001b[39mon_tool_error(e)\n\u001b[0;32m--> 373\u001b[0m     \u001b[38;5;28;01mraise\u001b[39;00m e\n\u001b[1;32m    374\u001b[0m \u001b[38;5;28;01melse\u001b[39;00m:\n\u001b[1;32m    375\u001b[0m     run_manager\u001b[38;5;241m.\u001b[39mon_tool_end(\n\u001b[1;32m    376\u001b[0m         \u001b[38;5;28mstr\u001b[39m(observation), color\u001b[38;5;241m=\u001b[39mcolor, name\u001b[38;5;241m=\u001b[39m\u001b[38;5;28mself\u001b[39m\u001b[38;5;241m.\u001b[39mname, \u001b[38;5;241m*\u001b[39m\u001b[38;5;241m*\u001b[39mkwargs\n\u001b[1;32m    377\u001b[0m     )\n",
      "File \u001b[0;32m~/.pyenv/versions/3.10.0/envs/llm-plotting/lib/python3.10/site-packages/langchain_core/tools.py:345\u001b[0m, in \u001b[0;36mBaseTool.run\u001b[0;34m(self, tool_input, verbose, start_color, color, callbacks, tags, metadata, run_name, **kwargs)\u001b[0m\n\u001b[1;32m    342\u001b[0m     parsed_input \u001b[38;5;241m=\u001b[39m \u001b[38;5;28mself\u001b[39m\u001b[38;5;241m.\u001b[39m_parse_input(tool_input)\n\u001b[1;32m    343\u001b[0m     tool_args, tool_kwargs \u001b[38;5;241m=\u001b[39m \u001b[38;5;28mself\u001b[39m\u001b[38;5;241m.\u001b[39m_to_args_and_kwargs(parsed_input)\n\u001b[1;32m    344\u001b[0m     observation \u001b[38;5;241m=\u001b[39m (\n\u001b[0;32m--> 345\u001b[0m         \u001b[38;5;28;43mself\u001b[39;49m\u001b[38;5;241;43m.\u001b[39;49m\u001b[43m_run\u001b[49m\u001b[43m(\u001b[49m\u001b[38;5;241;43m*\u001b[39;49m\u001b[43mtool_args\u001b[49m\u001b[43m,\u001b[49m\u001b[43m \u001b[49m\u001b[43mrun_manager\u001b[49m\u001b[38;5;241;43m=\u001b[39;49m\u001b[43mrun_manager\u001b[49m\u001b[43m,\u001b[49m\u001b[43m \u001b[49m\u001b[38;5;241;43m*\u001b[39;49m\u001b[38;5;241;43m*\u001b[39;49m\u001b[43mtool_kwargs\u001b[49m\u001b[43m)\u001b[49m\n\u001b[1;32m    346\u001b[0m         \u001b[38;5;28;01mif\u001b[39;00m new_arg_supported\n\u001b[1;32m    347\u001b[0m         \u001b[38;5;28;01melse\u001b[39;00m \u001b[38;5;28mself\u001b[39m\u001b[38;5;241m.\u001b[39m_run(\u001b[38;5;241m*\u001b[39mtool_args, \u001b[38;5;241m*\u001b[39m\u001b[38;5;241m*\u001b[39mtool_kwargs)\n\u001b[1;32m    348\u001b[0m     )\n\u001b[1;32m    349\u001b[0m \u001b[38;5;28;01mexcept\u001b[39;00m ToolException \u001b[38;5;28;01mas\u001b[39;00m e:\n\u001b[1;32m    350\u001b[0m     \u001b[38;5;28;01mif\u001b[39;00m \u001b[38;5;129;01mnot\u001b[39;00m \u001b[38;5;28mself\u001b[39m\u001b[38;5;241m.\u001b[39mhandle_tool_error:\n",
      "Cell \u001b[0;32mIn[88], line 38\u001b[0m, in \u001b[0;36mCustomValidationTool._run\u001b[0;34m(self, code, run_manager)\u001b[0m\n\u001b[1;32m     33\u001b[0m \u001b[38;5;28;01mdef\u001b[39;00m \u001b[38;5;21m_run\u001b[39m(\n\u001b[1;32m     34\u001b[0m     \u001b[38;5;28mself\u001b[39m, code: \u001b[38;5;28mstr\u001b[39m, run_manager: Optional[CallbackManagerForToolRun] \u001b[38;5;241m=\u001b[39m \u001b[38;5;28;01mNone\u001b[39;00m\n\u001b[1;32m     35\u001b[0m ) \u001b[38;5;241m-\u001b[39m\u001b[38;5;241m>\u001b[39m \u001b[38;5;28mstr\u001b[39m:\n\u001b[1;32m     36\u001b[0m \u001b[38;5;250m    \u001b[39m\u001b[38;5;124;03m\"\"\"Use the tool.\"\"\"\u001b[39;00m\n\u001b[0;32m---> 38\u001b[0m     image_in_bytes \u001b[38;5;241m=\u001b[39m \u001b[38;5;28;43mself\u001b[39;49m\u001b[38;5;241;43m.\u001b[39;49m\u001b[43m_execute_code\u001b[49m\u001b[43m(\u001b[49m\u001b[43mcode\u001b[49m\u001b[43m)\u001b[49m\n\u001b[1;32m     39\u001b[0m     \u001b[38;5;28;01mreturn\u001b[39;00m \u001b[38;5;28mself\u001b[39m\u001b[38;5;241m.\u001b[39m_validate_image(image_in_bytes)\n",
      "Cell \u001b[0;32mIn[88], line 56\u001b[0m, in \u001b[0;36mCustomValidationTool._execute_code\u001b[0;34m(self, code)\u001b[0m\n\u001b[1;32m     53\u001b[0m output \u001b[38;5;241m=\u001b[39m sandbox\u001b[38;5;241m.\u001b[39mprocess\u001b[38;5;241m.\u001b[39mstart_and_wait(cmd\u001b[38;5;241m=\u001b[39m\u001b[38;5;124mf\u001b[39m\u001b[38;5;124m\"\u001b[39m\u001b[38;5;132;01m{\u001b[39;00m\u001b[38;5;28mself\u001b[39m\u001b[38;5;241m.\u001b[39mbinary\u001b[38;5;132;01m}\u001b[39;00m\u001b[38;5;124m \u001b[39m\u001b[38;5;132;01m{\u001b[39;00m\u001b[38;5;28mself\u001b[39m\u001b[38;5;241m.\u001b[39mfilepath\u001b[38;5;132;01m}\u001b[39;00m\u001b[38;5;124m\"\u001b[39m)\n\u001b[1;32m     55\u001b[0m \u001b[38;5;66;03m# TODO: ensure this is only defined once when doing prompting on save file name\u001b[39;00m\n\u001b[0;32m---> 56\u001b[0m image_in_bytes \u001b[38;5;241m=\u001b[39m \u001b[43msandbox\u001b[49m\u001b[38;5;241;43m.\u001b[39;49m\u001b[43mdownload_file\u001b[49m\u001b[43m(\u001b[49m\u001b[38;5;124;43m\"\u001b[39;49m\u001b[38;5;124;43m/home/user/figure.png\u001b[39;49m\u001b[38;5;124;43m\"\u001b[39;49m\u001b[43m)\u001b[49m\n\u001b[1;32m     58\u001b[0m sandbox\u001b[38;5;241m.\u001b[39mclose()\n\u001b[1;32m     59\u001b[0m \u001b[38;5;28mprint\u001b[39m(output\u001b[38;5;241m.\u001b[39mstdout)\n",
      "File \u001b[0;32m~/.pyenv/versions/3.10.0/envs/llm-plotting/lib/python3.10/site-packages/e2b/sandbox/main.py:366\u001b[0m, in \u001b[0;36mSandbox.download_file\u001b[0;34m(self, remote_path, timeout)\u001b[0m\n\u001b[1;32m    363\u001b[0m r \u001b[38;5;241m=\u001b[39m requests\u001b[38;5;241m.\u001b[39mget(url, timeout\u001b[38;5;241m=\u001b[39mtimeout)\n\u001b[1;32m    365\u001b[0m \u001b[38;5;28;01mif\u001b[39;00m r\u001b[38;5;241m.\u001b[39mstatus_code \u001b[38;5;241m!=\u001b[39m \u001b[38;5;241m200\u001b[39m:\n\u001b[0;32m--> 366\u001b[0m     \u001b[38;5;28;01mraise\u001b[39;00m \u001b[38;5;167;01mException\u001b[39;00m(\n\u001b[1;32m    367\u001b[0m         \u001b[38;5;124mf\u001b[39m\u001b[38;5;124m\"\u001b[39m\u001b[38;5;124mFailed to download file \u001b[39m\u001b[38;5;124m'\u001b[39m\u001b[38;5;132;01m{\u001b[39;00mremote_path\u001b[38;5;132;01m}\u001b[39;00m\u001b[38;5;124m'\u001b[39m\u001b[38;5;124m. \u001b[39m\u001b[38;5;132;01m{\u001b[39;00mr\u001b[38;5;241m.\u001b[39mreason\u001b[38;5;132;01m}\u001b[39;00m\u001b[38;5;124m \u001b[39m\u001b[38;5;132;01m{\u001b[39;00mr\u001b[38;5;241m.\u001b[39mtext\u001b[38;5;132;01m}\u001b[39;00m\u001b[38;5;124m\"\u001b[39m\n\u001b[1;32m    368\u001b[0m     )\n\u001b[1;32m    369\u001b[0m \u001b[38;5;28;01mreturn\u001b[39;00m r\u001b[38;5;241m.\u001b[39mcontent\n",
      "\u001b[0;31mException\u001b[0m: Failed to download file '/home/user/figure.png'. Not Found File not found: open /home/user/figure.png: no such file or directory\n"
     ]
    },
    {
     "name": "stderr",
     "output_type": "stream",
     "text": [
      "WebSocket received error while receiving messages: no close frame received or sent\n"
     ]
    }
   ],
   "source": [
    "code = \"\"\" \n",
    "import plotly.express as px\n",
    "import plotly.io as pio\n",
    "import pandas as pd\n",
    "\n",
    "# Read the data from the CSV file\n",
    "df = pd.read_csv('df.csv')\n",
    "\n",
    "# Calculate the average salary for each job\n",
    "avg_salary = df.groupby('job')['salary'].mean().reset_index()\n",
    "\n",
    "# Create the plot\n",
    "fig = px.bar(avg_salary, x='job', y='salary', title='Average Salary by Job')\n",
    "\n",
    "# Save the figure\n",
    "pio.write_image(fig, 'figure.png')\n",
    "\"\"\"\n",
    "\n",
    "tool.run(code)"
   ]
  },
  {
   "cell_type": "code",
   "execution_count": 65,
   "metadata": {},
   "outputs": [],
   "source": [
    "import plotly.express as px\n",
    "import plotly.io as pio\n",
    "\n",
    "# # create a dataframe with job and salary\n",
    "# data = {\n",
    "#     'Job': ['Engineer', 'Manager', 'Analyst', 'Developer'],\n",
    "#     'Salary': [50000, 70000, 60000, 55000]\n",
    "# }\n",
    "# df = pd.DataFrame(data)\n",
    "\n",
    "# # create a bar plot\n",
    "# fig = px.bar(df, x='Job', y='Salary', title='Average Salary by Job')\n",
    "\n",
    "# save the figure\n",
    "# pio.write_image(fig, 'figure.png')"
   ]
  },
  {
   "cell_type": "code",
   "execution_count": 69,
   "metadata": {},
   "outputs": [],
   "source": [
    "df = pd.read_csv(\"jobs_in_data.csv\")"
   ]
  }
 ],
 "metadata": {
  "kernelspec": {
   "display_name": "llm-plotting",
   "language": "python",
   "name": "python3"
  },
  "language_info": {
   "codemirror_mode": {
    "name": "ipython",
    "version": 3
   },
   "file_extension": ".py",
   "mimetype": "text/x-python",
   "name": "python",
   "nbconvert_exporter": "python",
   "pygments_lexer": "ipython3",
   "version": "3.10.0"
  }
 },
 "nbformat": 4,
 "nbformat_minor": 2
}
