{
 "cells": [
  {
   "cell_type": "code",
   "execution_count": 1,
   "metadata": {},
   "outputs": [],
   "source": [
    "import json\n",
    "import logging\n",
    "import asyncio\n",
    "import pprint\n",
    "\n",
    "import pandas as pd\n",
    "\n",
    "from llm_plotting.settings import Settings\n",
    "from llm_plotting.prompt_helper import extract_metadata, setup_agent_executor, pull_image_in_base64_history\n",
    "\n",
    "if __name__ == \"__main__\":\n",
    "    logging.basicConfig(level=logging.INFO)\n",
    "\n",
    "    # ==================== User setup/input ====================\n",
    "    settings = Settings()\n",
    "    user_input = \"make a plot of the average salary of every job, and validate it\"\n",
    "\n",
    "    df = pd.read_csv(\"jobs_in_data.csv\")\n",
    "    metadata_json = extract_metadata(df)\n",
    "\n",
    "    # ==================== Agent setup ====================\n",
    "\n",
    "    agent_executor = setup_agent_executor(settings, df)\n",
    "\n"
   ]
  },
  {
   "cell_type": "code",
   "execution_count": 13,
   "metadata": {},
   "outputs": [],
   "source": [
    "a = \"\"\"\n",
    "You are a powerful code generation assistant who specializes in generating code \\\n",
    "to visualize graphs. You can also generate code to answer questions about user \\\n",
    "DataFrames (always stored under df.csv). When answering questions about the data, \\\n",
    "you must always send your answer in a print statement.\"\"\""
   ]
  },
  {
   "cell_type": "code",
   "execution_count": 14,
   "metadata": {},
   "outputs": [
    {
     "name": "stdout",
     "output_type": "stream",
     "text": [
      "\n",
      "You are a powerful code generation assistant who specializes in generating code to visualize graphs. You can also generate code to answer questions about user DataFrames (always stored under df.csv). When answering questions about the data, you must always send your answer in a print statement.\n"
     ]
    }
   ],
   "source": [
    "print(a)"
   ]
  },
  {
   "cell_type": "code",
   "execution_count": 3,
   "metadata": {},
   "outputs": [],
   "source": [
    "import pandas as pd"
   ]
  },
  {
   "cell_type": "code",
   "execution_count": 4,
   "metadata": {},
   "outputs": [],
   "source": [
    "df = pd.read_csv(\"jobs_in_data.csv\")"
   ]
  },
  {
   "cell_type": "code",
   "execution_count": 11,
   "metadata": {},
   "outputs": [
    {
     "name": "stderr",
     "output_type": "stream",
     "text": [
      "/tmp/ipykernel_7738/3389270308.py:1: FutureWarning:\n",
      "\n",
      "Setting an item of incompatible dtype is deprecated and will raise an error in a future version of pandas. Value 'a' has dtype incompatible with int64, please explicitly cast to a compatible dtype first.\n",
      "\n"
     ]
    }
   ],
   "source": [
    "df.loc[0,'salary'] = 'a'"
   ]
  },
  {
   "cell_type": "code",
   "execution_count": 12,
   "metadata": {},
   "outputs": [
    {
     "ename": "TypeError",
     "evalue": "agg function failed [how->mean,dtype->object]",
     "output_type": "error",
     "traceback": [
      "\u001b[0;31m---------------------------------------------------------------------------\u001b[0m",
      "\u001b[0;31mTypeError\u001b[0m                                 Traceback (most recent call last)",
      "File \u001b[0;32m~/.pyenv/versions/3.10.0/envs/llm-plotting/lib/python3.10/site-packages/pandas/core/groupby/groupby.py:1942\u001b[0m, in \u001b[0;36mGroupBy._agg_py_fallback\u001b[0;34m(self, how, values, ndim, alt)\u001b[0m\n\u001b[1;32m   1941\u001b[0m \u001b[38;5;28;01mtry\u001b[39;00m:\n\u001b[0;32m-> 1942\u001b[0m     res_values \u001b[38;5;241m=\u001b[39m \u001b[38;5;28;43mself\u001b[39;49m\u001b[38;5;241;43m.\u001b[39;49m\u001b[43m_grouper\u001b[49m\u001b[38;5;241;43m.\u001b[39;49m\u001b[43magg_series\u001b[49m\u001b[43m(\u001b[49m\u001b[43mser\u001b[49m\u001b[43m,\u001b[49m\u001b[43m \u001b[49m\u001b[43malt\u001b[49m\u001b[43m,\u001b[49m\u001b[43m \u001b[49m\u001b[43mpreserve_dtype\u001b[49m\u001b[38;5;241;43m=\u001b[39;49m\u001b[38;5;28;43;01mTrue\u001b[39;49;00m\u001b[43m)\u001b[49m\n\u001b[1;32m   1943\u001b[0m \u001b[38;5;28;01mexcept\u001b[39;00m \u001b[38;5;167;01mException\u001b[39;00m \u001b[38;5;28;01mas\u001b[39;00m err:\n",
      "File \u001b[0;32m~/.pyenv/versions/3.10.0/envs/llm-plotting/lib/python3.10/site-packages/pandas/core/groupby/ops.py:863\u001b[0m, in \u001b[0;36mBaseGrouper.agg_series\u001b[0;34m(self, obj, func, preserve_dtype)\u001b[0m\n\u001b[1;32m    861\u001b[0m     preserve_dtype \u001b[38;5;241m=\u001b[39m \u001b[38;5;28;01mTrue\u001b[39;00m\n\u001b[0;32m--> 863\u001b[0m result \u001b[38;5;241m=\u001b[39m \u001b[38;5;28;43mself\u001b[39;49m\u001b[38;5;241;43m.\u001b[39;49m\u001b[43m_aggregate_series_pure_python\u001b[49m\u001b[43m(\u001b[49m\u001b[43mobj\u001b[49m\u001b[43m,\u001b[49m\u001b[43m \u001b[49m\u001b[43mfunc\u001b[49m\u001b[43m)\u001b[49m\n\u001b[1;32m    865\u001b[0m npvalues \u001b[38;5;241m=\u001b[39m lib\u001b[38;5;241m.\u001b[39mmaybe_convert_objects(result, try_float\u001b[38;5;241m=\u001b[39m\u001b[38;5;28;01mFalse\u001b[39;00m)\n",
      "File \u001b[0;32m~/.pyenv/versions/3.10.0/envs/llm-plotting/lib/python3.10/site-packages/pandas/core/groupby/ops.py:884\u001b[0m, in \u001b[0;36mBaseGrouper._aggregate_series_pure_python\u001b[0;34m(self, obj, func)\u001b[0m\n\u001b[1;32m    883\u001b[0m \u001b[38;5;28;01mfor\u001b[39;00m i, group \u001b[38;5;129;01min\u001b[39;00m \u001b[38;5;28menumerate\u001b[39m(splitter):\n\u001b[0;32m--> 884\u001b[0m     res \u001b[38;5;241m=\u001b[39m \u001b[43mfunc\u001b[49m\u001b[43m(\u001b[49m\u001b[43mgroup\u001b[49m\u001b[43m)\u001b[49m\n\u001b[1;32m    885\u001b[0m     res \u001b[38;5;241m=\u001b[39m extract_result(res)\n",
      "File \u001b[0;32m~/.pyenv/versions/3.10.0/envs/llm-plotting/lib/python3.10/site-packages/pandas/core/groupby/groupby.py:2454\u001b[0m, in \u001b[0;36mGroupBy.mean.<locals>.<lambda>\u001b[0;34m(x)\u001b[0m\n\u001b[1;32m   2451\u001b[0m \u001b[38;5;28;01melse\u001b[39;00m:\n\u001b[1;32m   2452\u001b[0m     result \u001b[38;5;241m=\u001b[39m \u001b[38;5;28mself\u001b[39m\u001b[38;5;241m.\u001b[39m_cython_agg_general(\n\u001b[1;32m   2453\u001b[0m         \u001b[38;5;124m\"\u001b[39m\u001b[38;5;124mmean\u001b[39m\u001b[38;5;124m\"\u001b[39m,\n\u001b[0;32m-> 2454\u001b[0m         alt\u001b[38;5;241m=\u001b[39m\u001b[38;5;28;01mlambda\u001b[39;00m x: \u001b[43mSeries\u001b[49m\u001b[43m(\u001b[49m\u001b[43mx\u001b[49m\u001b[43m,\u001b[49m\u001b[43m \u001b[49m\u001b[43mcopy\u001b[49m\u001b[38;5;241;43m=\u001b[39;49m\u001b[38;5;28;43;01mFalse\u001b[39;49;00m\u001b[43m)\u001b[49m\u001b[38;5;241;43m.\u001b[39;49m\u001b[43mmean\u001b[49m\u001b[43m(\u001b[49m\u001b[43mnumeric_only\u001b[49m\u001b[38;5;241;43m=\u001b[39;49m\u001b[43mnumeric_only\u001b[49m\u001b[43m)\u001b[49m,\n\u001b[1;32m   2455\u001b[0m         numeric_only\u001b[38;5;241m=\u001b[39mnumeric_only,\n\u001b[1;32m   2456\u001b[0m     )\n\u001b[1;32m   2457\u001b[0m     \u001b[38;5;28;01mreturn\u001b[39;00m result\u001b[38;5;241m.\u001b[39m__finalize__(\u001b[38;5;28mself\u001b[39m\u001b[38;5;241m.\u001b[39mobj, method\u001b[38;5;241m=\u001b[39m\u001b[38;5;124m\"\u001b[39m\u001b[38;5;124mgroupby\u001b[39m\u001b[38;5;124m\"\u001b[39m)\n",
      "File \u001b[0;32m~/.pyenv/versions/3.10.0/envs/llm-plotting/lib/python3.10/site-packages/pandas/core/series.py:6529\u001b[0m, in \u001b[0;36mSeries.mean\u001b[0;34m(self, axis, skipna, numeric_only, **kwargs)\u001b[0m\n\u001b[1;32m   6521\u001b[0m \u001b[38;5;129m@doc\u001b[39m(make_doc(\u001b[38;5;124m\"\u001b[39m\u001b[38;5;124mmean\u001b[39m\u001b[38;5;124m\"\u001b[39m, ndim\u001b[38;5;241m=\u001b[39m\u001b[38;5;241m1\u001b[39m))\n\u001b[1;32m   6522\u001b[0m \u001b[38;5;28;01mdef\u001b[39;00m \u001b[38;5;21mmean\u001b[39m(\n\u001b[1;32m   6523\u001b[0m     \u001b[38;5;28mself\u001b[39m,\n\u001b[0;32m   (...)\u001b[0m\n\u001b[1;32m   6527\u001b[0m     \u001b[38;5;241m*\u001b[39m\u001b[38;5;241m*\u001b[39mkwargs,\n\u001b[1;32m   6528\u001b[0m ):\n\u001b[0;32m-> 6529\u001b[0m     \u001b[38;5;28;01mreturn\u001b[39;00m \u001b[43mNDFrame\u001b[49m\u001b[38;5;241;43m.\u001b[39;49m\u001b[43mmean\u001b[49m\u001b[43m(\u001b[49m\u001b[38;5;28;43mself\u001b[39;49m\u001b[43m,\u001b[49m\u001b[43m \u001b[49m\u001b[43maxis\u001b[49m\u001b[43m,\u001b[49m\u001b[43m \u001b[49m\u001b[43mskipna\u001b[49m\u001b[43m,\u001b[49m\u001b[43m \u001b[49m\u001b[43mnumeric_only\u001b[49m\u001b[43m,\u001b[49m\u001b[43m \u001b[49m\u001b[38;5;241;43m*\u001b[39;49m\u001b[38;5;241;43m*\u001b[39;49m\u001b[43mkwargs\u001b[49m\u001b[43m)\u001b[49m\n",
      "File \u001b[0;32m~/.pyenv/versions/3.10.0/envs/llm-plotting/lib/python3.10/site-packages/pandas/core/generic.py:12413\u001b[0m, in \u001b[0;36mNDFrame.mean\u001b[0;34m(self, axis, skipna, numeric_only, **kwargs)\u001b[0m\n\u001b[1;32m  12406\u001b[0m \u001b[38;5;28;01mdef\u001b[39;00m \u001b[38;5;21mmean\u001b[39m(\n\u001b[1;32m  12407\u001b[0m     \u001b[38;5;28mself\u001b[39m,\n\u001b[1;32m  12408\u001b[0m     axis: Axis \u001b[38;5;241m|\u001b[39m \u001b[38;5;28;01mNone\u001b[39;00m \u001b[38;5;241m=\u001b[39m \u001b[38;5;241m0\u001b[39m,\n\u001b[0;32m   (...)\u001b[0m\n\u001b[1;32m  12411\u001b[0m     \u001b[38;5;241m*\u001b[39m\u001b[38;5;241m*\u001b[39mkwargs,\n\u001b[1;32m  12412\u001b[0m ) \u001b[38;5;241m-\u001b[39m\u001b[38;5;241m>\u001b[39m Series \u001b[38;5;241m|\u001b[39m \u001b[38;5;28mfloat\u001b[39m:\n\u001b[0;32m> 12413\u001b[0m     \u001b[38;5;28;01mreturn\u001b[39;00m \u001b[38;5;28;43mself\u001b[39;49m\u001b[38;5;241;43m.\u001b[39;49m\u001b[43m_stat_function\u001b[49m\u001b[43m(\u001b[49m\n\u001b[1;32m  12414\u001b[0m \u001b[43m        \u001b[49m\u001b[38;5;124;43m\"\u001b[39;49m\u001b[38;5;124;43mmean\u001b[39;49m\u001b[38;5;124;43m\"\u001b[39;49m\u001b[43m,\u001b[49m\u001b[43m \u001b[49m\u001b[43mnanops\u001b[49m\u001b[38;5;241;43m.\u001b[39;49m\u001b[43mnanmean\u001b[49m\u001b[43m,\u001b[49m\u001b[43m \u001b[49m\u001b[43maxis\u001b[49m\u001b[43m,\u001b[49m\u001b[43m \u001b[49m\u001b[43mskipna\u001b[49m\u001b[43m,\u001b[49m\u001b[43m \u001b[49m\u001b[43mnumeric_only\u001b[49m\u001b[43m,\u001b[49m\u001b[43m \u001b[49m\u001b[38;5;241;43m*\u001b[39;49m\u001b[38;5;241;43m*\u001b[39;49m\u001b[43mkwargs\u001b[49m\n\u001b[1;32m  12415\u001b[0m \u001b[43m    \u001b[49m\u001b[43m)\u001b[49m\n",
      "File \u001b[0;32m~/.pyenv/versions/3.10.0/envs/llm-plotting/lib/python3.10/site-packages/pandas/core/generic.py:12370\u001b[0m, in \u001b[0;36mNDFrame._stat_function\u001b[0;34m(self, name, func, axis, skipna, numeric_only, **kwargs)\u001b[0m\n\u001b[1;32m  12368\u001b[0m validate_bool_kwarg(skipna, \u001b[38;5;124m\"\u001b[39m\u001b[38;5;124mskipna\u001b[39m\u001b[38;5;124m\"\u001b[39m, none_allowed\u001b[38;5;241m=\u001b[39m\u001b[38;5;28;01mFalse\u001b[39;00m)\n\u001b[0;32m> 12370\u001b[0m \u001b[38;5;28;01mreturn\u001b[39;00m \u001b[38;5;28;43mself\u001b[39;49m\u001b[38;5;241;43m.\u001b[39;49m\u001b[43m_reduce\u001b[49m\u001b[43m(\u001b[49m\n\u001b[1;32m  12371\u001b[0m \u001b[43m    \u001b[49m\u001b[43mfunc\u001b[49m\u001b[43m,\u001b[49m\u001b[43m \u001b[49m\u001b[43mname\u001b[49m\u001b[38;5;241;43m=\u001b[39;49m\u001b[43mname\u001b[49m\u001b[43m,\u001b[49m\u001b[43m \u001b[49m\u001b[43maxis\u001b[49m\u001b[38;5;241;43m=\u001b[39;49m\u001b[43maxis\u001b[49m\u001b[43m,\u001b[49m\u001b[43m \u001b[49m\u001b[43mskipna\u001b[49m\u001b[38;5;241;43m=\u001b[39;49m\u001b[43mskipna\u001b[49m\u001b[43m,\u001b[49m\u001b[43m \u001b[49m\u001b[43mnumeric_only\u001b[49m\u001b[38;5;241;43m=\u001b[39;49m\u001b[43mnumeric_only\u001b[49m\n\u001b[1;32m  12372\u001b[0m \u001b[43m\u001b[49m\u001b[43m)\u001b[49m\n",
      "File \u001b[0;32m~/.pyenv/versions/3.10.0/envs/llm-plotting/lib/python3.10/site-packages/pandas/core/series.py:6437\u001b[0m, in \u001b[0;36mSeries._reduce\u001b[0;34m(self, op, name, axis, skipna, numeric_only, filter_type, **kwds)\u001b[0m\n\u001b[1;32m   6433\u001b[0m     \u001b[38;5;28;01mraise\u001b[39;00m \u001b[38;5;167;01mTypeError\u001b[39;00m(\n\u001b[1;32m   6434\u001b[0m         \u001b[38;5;124mf\u001b[39m\u001b[38;5;124m\"\u001b[39m\u001b[38;5;124mSeries.\u001b[39m\u001b[38;5;132;01m{\u001b[39;00mname\u001b[38;5;132;01m}\u001b[39;00m\u001b[38;5;124m does not allow \u001b[39m\u001b[38;5;132;01m{\u001b[39;00mkwd_name\u001b[38;5;132;01m}\u001b[39;00m\u001b[38;5;124m=\u001b[39m\u001b[38;5;132;01m{\u001b[39;00mnumeric_only\u001b[38;5;132;01m}\u001b[39;00m\u001b[38;5;124m \u001b[39m\u001b[38;5;124m\"\u001b[39m\n\u001b[1;32m   6435\u001b[0m         \u001b[38;5;124m\"\u001b[39m\u001b[38;5;124mwith non-numeric dtypes.\u001b[39m\u001b[38;5;124m\"\u001b[39m\n\u001b[1;32m   6436\u001b[0m     )\n\u001b[0;32m-> 6437\u001b[0m \u001b[38;5;28;01mreturn\u001b[39;00m \u001b[43mop\u001b[49m\u001b[43m(\u001b[49m\u001b[43mdelegate\u001b[49m\u001b[43m,\u001b[49m\u001b[43m \u001b[49m\u001b[43mskipna\u001b[49m\u001b[38;5;241;43m=\u001b[39;49m\u001b[43mskipna\u001b[49m\u001b[43m,\u001b[49m\u001b[43m \u001b[49m\u001b[38;5;241;43m*\u001b[39;49m\u001b[38;5;241;43m*\u001b[39;49m\u001b[43mkwds\u001b[49m\u001b[43m)\u001b[49m\n",
      "File \u001b[0;32m~/.pyenv/versions/3.10.0/envs/llm-plotting/lib/python3.10/site-packages/pandas/core/nanops.py:147\u001b[0m, in \u001b[0;36mbottleneck_switch.__call__.<locals>.f\u001b[0;34m(values, axis, skipna, **kwds)\u001b[0m\n\u001b[1;32m    146\u001b[0m \u001b[38;5;28;01melse\u001b[39;00m:\n\u001b[0;32m--> 147\u001b[0m     result \u001b[38;5;241m=\u001b[39m \u001b[43malt\u001b[49m\u001b[43m(\u001b[49m\u001b[43mvalues\u001b[49m\u001b[43m,\u001b[49m\u001b[43m \u001b[49m\u001b[43maxis\u001b[49m\u001b[38;5;241;43m=\u001b[39;49m\u001b[43maxis\u001b[49m\u001b[43m,\u001b[49m\u001b[43m \u001b[49m\u001b[43mskipna\u001b[49m\u001b[38;5;241;43m=\u001b[39;49m\u001b[43mskipna\u001b[49m\u001b[43m,\u001b[49m\u001b[43m \u001b[49m\u001b[38;5;241;43m*\u001b[39;49m\u001b[38;5;241;43m*\u001b[39;49m\u001b[43mkwds\u001b[49m\u001b[43m)\u001b[49m\n\u001b[1;32m    149\u001b[0m \u001b[38;5;28;01mreturn\u001b[39;00m result\n",
      "File \u001b[0;32m~/.pyenv/versions/3.10.0/envs/llm-plotting/lib/python3.10/site-packages/pandas/core/nanops.py:404\u001b[0m, in \u001b[0;36m_datetimelike_compat.<locals>.new_func\u001b[0;34m(values, axis, skipna, mask, **kwargs)\u001b[0m\n\u001b[1;32m    402\u001b[0m     mask \u001b[38;5;241m=\u001b[39m isna(values)\n\u001b[0;32m--> 404\u001b[0m result \u001b[38;5;241m=\u001b[39m \u001b[43mfunc\u001b[49m\u001b[43m(\u001b[49m\u001b[43mvalues\u001b[49m\u001b[43m,\u001b[49m\u001b[43m \u001b[49m\u001b[43maxis\u001b[49m\u001b[38;5;241;43m=\u001b[39;49m\u001b[43maxis\u001b[49m\u001b[43m,\u001b[49m\u001b[43m \u001b[49m\u001b[43mskipna\u001b[49m\u001b[38;5;241;43m=\u001b[39;49m\u001b[43mskipna\u001b[49m\u001b[43m,\u001b[49m\u001b[43m \u001b[49m\u001b[43mmask\u001b[49m\u001b[38;5;241;43m=\u001b[39;49m\u001b[43mmask\u001b[49m\u001b[43m,\u001b[49m\u001b[43m \u001b[49m\u001b[38;5;241;43m*\u001b[39;49m\u001b[38;5;241;43m*\u001b[39;49m\u001b[43mkwargs\u001b[49m\u001b[43m)\u001b[49m\n\u001b[1;32m    406\u001b[0m \u001b[38;5;28;01mif\u001b[39;00m datetimelike:\n",
      "File \u001b[0;32m~/.pyenv/versions/3.10.0/envs/llm-plotting/lib/python3.10/site-packages/pandas/core/nanops.py:719\u001b[0m, in \u001b[0;36mnanmean\u001b[0;34m(values, axis, skipna, mask)\u001b[0m\n\u001b[1;32m    718\u001b[0m count \u001b[38;5;241m=\u001b[39m _get_counts(values\u001b[38;5;241m.\u001b[39mshape, mask, axis, dtype\u001b[38;5;241m=\u001b[39mdtype_count)\n\u001b[0;32m--> 719\u001b[0m the_sum \u001b[38;5;241m=\u001b[39m \u001b[43mvalues\u001b[49m\u001b[38;5;241;43m.\u001b[39;49m\u001b[43msum\u001b[49m\u001b[43m(\u001b[49m\u001b[43maxis\u001b[49m\u001b[43m,\u001b[49m\u001b[43m \u001b[49m\u001b[43mdtype\u001b[49m\u001b[38;5;241;43m=\u001b[39;49m\u001b[43mdtype_sum\u001b[49m\u001b[43m)\u001b[49m\n\u001b[1;32m    720\u001b[0m the_sum \u001b[38;5;241m=\u001b[39m _ensure_numeric(the_sum)\n",
      "File \u001b[0;32m~/.pyenv/versions/3.10.0/envs/llm-plotting/lib/python3.10/site-packages/numpy/core/_methods.py:49\u001b[0m, in \u001b[0;36m_sum\u001b[0;34m(a, axis, dtype, out, keepdims, initial, where)\u001b[0m\n\u001b[1;32m     47\u001b[0m \u001b[38;5;28;01mdef\u001b[39;00m \u001b[38;5;21m_sum\u001b[39m(a, axis\u001b[38;5;241m=\u001b[39m\u001b[38;5;28;01mNone\u001b[39;00m, dtype\u001b[38;5;241m=\u001b[39m\u001b[38;5;28;01mNone\u001b[39;00m, out\u001b[38;5;241m=\u001b[39m\u001b[38;5;28;01mNone\u001b[39;00m, keepdims\u001b[38;5;241m=\u001b[39m\u001b[38;5;28;01mFalse\u001b[39;00m,\n\u001b[1;32m     48\u001b[0m          initial\u001b[38;5;241m=\u001b[39m_NoValue, where\u001b[38;5;241m=\u001b[39m\u001b[38;5;28;01mTrue\u001b[39;00m):\n\u001b[0;32m---> 49\u001b[0m     \u001b[38;5;28;01mreturn\u001b[39;00m \u001b[43mumr_sum\u001b[49m\u001b[43m(\u001b[49m\u001b[43ma\u001b[49m\u001b[43m,\u001b[49m\u001b[43m \u001b[49m\u001b[43maxis\u001b[49m\u001b[43m,\u001b[49m\u001b[43m \u001b[49m\u001b[43mdtype\u001b[49m\u001b[43m,\u001b[49m\u001b[43m \u001b[49m\u001b[43mout\u001b[49m\u001b[43m,\u001b[49m\u001b[43m \u001b[49m\u001b[43mkeepdims\u001b[49m\u001b[43m,\u001b[49m\u001b[43m \u001b[49m\u001b[43minitial\u001b[49m\u001b[43m,\u001b[49m\u001b[43m \u001b[49m\u001b[43mwhere\u001b[49m\u001b[43m)\u001b[49m\n",
      "\u001b[0;31mTypeError\u001b[0m: can only concatenate str (not \"int\") to str",
      "\nThe above exception was the direct cause of the following exception:\n",
      "\u001b[0;31mTypeError\u001b[0m                                 Traceback (most recent call last)",
      "Cell \u001b[0;32mIn[12], line 4\u001b[0m\n\u001b[1;32m      1\u001b[0m \u001b[38;5;28;01mimport\u001b[39;00m \u001b[38;5;21;01mpandas\u001b[39;00m \u001b[38;5;28;01mas\u001b[39;00m \u001b[38;5;21;01mpd\u001b[39;00m\n\u001b[1;32m      2\u001b[0m \u001b[38;5;28;01mimport\u001b[39;00m \u001b[38;5;21;01mplotly\u001b[39;00m\u001b[38;5;21;01m.\u001b[39;00m\u001b[38;5;21;01mexpress\u001b[39;00m \u001b[38;5;28;01mas\u001b[39;00m \u001b[38;5;21;01mpx\u001b[39;00m\n\u001b[0;32m----> 4\u001b[0m avg_salary_per_job \u001b[38;5;241m=\u001b[39m \u001b[43mdf\u001b[49m\u001b[38;5;241;43m.\u001b[39;49m\u001b[43mgroupby\u001b[49m\u001b[43m(\u001b[49m\u001b[38;5;124;43m'\u001b[39;49m\u001b[38;5;124;43mjob_title\u001b[39;49m\u001b[38;5;124;43m'\u001b[39;49m\u001b[43m)\u001b[49m\u001b[43m[\u001b[49m\u001b[38;5;124;43m'\u001b[39;49m\u001b[38;5;124;43msalary\u001b[39;49m\u001b[38;5;124;43m'\u001b[39;49m\u001b[43m]\u001b[49m\u001b[38;5;241;43m.\u001b[39;49m\u001b[43mmean\u001b[49m\u001b[43m(\u001b[49m\u001b[43m)\u001b[49m\u001b[38;5;241m.\u001b[39mreset_index()\n\u001b[1;32m      6\u001b[0m \u001b[38;5;66;03m# Selecting top 20 job titles by average salary for better legibility\u001b[39;00m\n\u001b[1;32m      7\u001b[0m avg_salary_per_job \u001b[38;5;241m=\u001b[39m avg_salary_per_job\u001b[38;5;241m.\u001b[39msort_values(by\u001b[38;5;241m=\u001b[39m\u001b[38;5;124m'\u001b[39m\u001b[38;5;124msalary\u001b[39m\u001b[38;5;124m'\u001b[39m, ascending\u001b[38;5;241m=\u001b[39m\u001b[38;5;28;01mFalse\u001b[39;00m)\u001b[38;5;241m.\u001b[39mhead(\u001b[38;5;241m20\u001b[39m)\n",
      "File \u001b[0;32m~/.pyenv/versions/3.10.0/envs/llm-plotting/lib/python3.10/site-packages/pandas/core/groupby/groupby.py:2452\u001b[0m, in \u001b[0;36mGroupBy.mean\u001b[0;34m(self, numeric_only, engine, engine_kwargs)\u001b[0m\n\u001b[1;32m   2445\u001b[0m     \u001b[38;5;28;01mreturn\u001b[39;00m \u001b[38;5;28mself\u001b[39m\u001b[38;5;241m.\u001b[39m_numba_agg_general(\n\u001b[1;32m   2446\u001b[0m         grouped_mean,\n\u001b[1;32m   2447\u001b[0m         executor\u001b[38;5;241m.\u001b[39mfloat_dtype_mapping,\n\u001b[1;32m   2448\u001b[0m         engine_kwargs,\n\u001b[1;32m   2449\u001b[0m         min_periods\u001b[38;5;241m=\u001b[39m\u001b[38;5;241m0\u001b[39m,\n\u001b[1;32m   2450\u001b[0m     )\n\u001b[1;32m   2451\u001b[0m \u001b[38;5;28;01melse\u001b[39;00m:\n\u001b[0;32m-> 2452\u001b[0m     result \u001b[38;5;241m=\u001b[39m \u001b[38;5;28;43mself\u001b[39;49m\u001b[38;5;241;43m.\u001b[39;49m\u001b[43m_cython_agg_general\u001b[49m\u001b[43m(\u001b[49m\n\u001b[1;32m   2453\u001b[0m \u001b[43m        \u001b[49m\u001b[38;5;124;43m\"\u001b[39;49m\u001b[38;5;124;43mmean\u001b[39;49m\u001b[38;5;124;43m\"\u001b[39;49m\u001b[43m,\u001b[49m\n\u001b[1;32m   2454\u001b[0m \u001b[43m        \u001b[49m\u001b[43malt\u001b[49m\u001b[38;5;241;43m=\u001b[39;49m\u001b[38;5;28;43;01mlambda\u001b[39;49;00m\u001b[43m \u001b[49m\u001b[43mx\u001b[49m\u001b[43m:\u001b[49m\u001b[43m \u001b[49m\u001b[43mSeries\u001b[49m\u001b[43m(\u001b[49m\u001b[43mx\u001b[49m\u001b[43m,\u001b[49m\u001b[43m \u001b[49m\u001b[43mcopy\u001b[49m\u001b[38;5;241;43m=\u001b[39;49m\u001b[38;5;28;43;01mFalse\u001b[39;49;00m\u001b[43m)\u001b[49m\u001b[38;5;241;43m.\u001b[39;49m\u001b[43mmean\u001b[49m\u001b[43m(\u001b[49m\u001b[43mnumeric_only\u001b[49m\u001b[38;5;241;43m=\u001b[39;49m\u001b[43mnumeric_only\u001b[49m\u001b[43m)\u001b[49m\u001b[43m,\u001b[49m\n\u001b[1;32m   2455\u001b[0m \u001b[43m        \u001b[49m\u001b[43mnumeric_only\u001b[49m\u001b[38;5;241;43m=\u001b[39;49m\u001b[43mnumeric_only\u001b[49m\u001b[43m,\u001b[49m\n\u001b[1;32m   2456\u001b[0m \u001b[43m    \u001b[49m\u001b[43m)\u001b[49m\n\u001b[1;32m   2457\u001b[0m     \u001b[38;5;28;01mreturn\u001b[39;00m result\u001b[38;5;241m.\u001b[39m__finalize__(\u001b[38;5;28mself\u001b[39m\u001b[38;5;241m.\u001b[39mobj, method\u001b[38;5;241m=\u001b[39m\u001b[38;5;124m\"\u001b[39m\u001b[38;5;124mgroupby\u001b[39m\u001b[38;5;124m\"\u001b[39m)\n",
      "File \u001b[0;32m~/.pyenv/versions/3.10.0/envs/llm-plotting/lib/python3.10/site-packages/pandas/core/groupby/groupby.py:1998\u001b[0m, in \u001b[0;36mGroupBy._cython_agg_general\u001b[0;34m(self, how, alt, numeric_only, min_count, **kwargs)\u001b[0m\n\u001b[1;32m   1995\u001b[0m     result \u001b[38;5;241m=\u001b[39m \u001b[38;5;28mself\u001b[39m\u001b[38;5;241m.\u001b[39m_agg_py_fallback(how, values, ndim\u001b[38;5;241m=\u001b[39mdata\u001b[38;5;241m.\u001b[39mndim, alt\u001b[38;5;241m=\u001b[39malt)\n\u001b[1;32m   1996\u001b[0m     \u001b[38;5;28;01mreturn\u001b[39;00m result\n\u001b[0;32m-> 1998\u001b[0m new_mgr \u001b[38;5;241m=\u001b[39m \u001b[43mdata\u001b[49m\u001b[38;5;241;43m.\u001b[39;49m\u001b[43mgrouped_reduce\u001b[49m\u001b[43m(\u001b[49m\u001b[43marray_func\u001b[49m\u001b[43m)\u001b[49m\n\u001b[1;32m   1999\u001b[0m res \u001b[38;5;241m=\u001b[39m \u001b[38;5;28mself\u001b[39m\u001b[38;5;241m.\u001b[39m_wrap_agged_manager(new_mgr)\n\u001b[1;32m   2000\u001b[0m \u001b[38;5;28;01mif\u001b[39;00m how \u001b[38;5;129;01min\u001b[39;00m [\u001b[38;5;124m\"\u001b[39m\u001b[38;5;124midxmin\u001b[39m\u001b[38;5;124m\"\u001b[39m, \u001b[38;5;124m\"\u001b[39m\u001b[38;5;124midxmax\u001b[39m\u001b[38;5;124m\"\u001b[39m]:\n",
      "File \u001b[0;32m~/.pyenv/versions/3.10.0/envs/llm-plotting/lib/python3.10/site-packages/pandas/core/internals/base.py:367\u001b[0m, in \u001b[0;36mSingleDataManager.grouped_reduce\u001b[0;34m(self, func)\u001b[0m\n\u001b[1;32m    365\u001b[0m \u001b[38;5;28;01mdef\u001b[39;00m \u001b[38;5;21mgrouped_reduce\u001b[39m(\u001b[38;5;28mself\u001b[39m, func):\n\u001b[1;32m    366\u001b[0m     arr \u001b[38;5;241m=\u001b[39m \u001b[38;5;28mself\u001b[39m\u001b[38;5;241m.\u001b[39marray\n\u001b[0;32m--> 367\u001b[0m     res \u001b[38;5;241m=\u001b[39m \u001b[43mfunc\u001b[49m\u001b[43m(\u001b[49m\u001b[43marr\u001b[49m\u001b[43m)\u001b[49m\n\u001b[1;32m    368\u001b[0m     index \u001b[38;5;241m=\u001b[39m default_index(\u001b[38;5;28mlen\u001b[39m(res))\n\u001b[1;32m    370\u001b[0m     mgr \u001b[38;5;241m=\u001b[39m \u001b[38;5;28mtype\u001b[39m(\u001b[38;5;28mself\u001b[39m)\u001b[38;5;241m.\u001b[39mfrom_array(res, index)\n",
      "File \u001b[0;32m~/.pyenv/versions/3.10.0/envs/llm-plotting/lib/python3.10/site-packages/pandas/core/groupby/groupby.py:1995\u001b[0m, in \u001b[0;36mGroupBy._cython_agg_general.<locals>.array_func\u001b[0;34m(values)\u001b[0m\n\u001b[1;32m   1992\u001b[0m     \u001b[38;5;28;01mreturn\u001b[39;00m result\n\u001b[1;32m   1994\u001b[0m \u001b[38;5;28;01massert\u001b[39;00m alt \u001b[38;5;129;01mis\u001b[39;00m \u001b[38;5;129;01mnot\u001b[39;00m \u001b[38;5;28;01mNone\u001b[39;00m\n\u001b[0;32m-> 1995\u001b[0m result \u001b[38;5;241m=\u001b[39m \u001b[38;5;28;43mself\u001b[39;49m\u001b[38;5;241;43m.\u001b[39;49m\u001b[43m_agg_py_fallback\u001b[49m\u001b[43m(\u001b[49m\u001b[43mhow\u001b[49m\u001b[43m,\u001b[49m\u001b[43m \u001b[49m\u001b[43mvalues\u001b[49m\u001b[43m,\u001b[49m\u001b[43m \u001b[49m\u001b[43mndim\u001b[49m\u001b[38;5;241;43m=\u001b[39;49m\u001b[43mdata\u001b[49m\u001b[38;5;241;43m.\u001b[39;49m\u001b[43mndim\u001b[49m\u001b[43m,\u001b[49m\u001b[43m \u001b[49m\u001b[43malt\u001b[49m\u001b[38;5;241;43m=\u001b[39;49m\u001b[43malt\u001b[49m\u001b[43m)\u001b[49m\n\u001b[1;32m   1996\u001b[0m \u001b[38;5;28;01mreturn\u001b[39;00m result\n",
      "File \u001b[0;32m~/.pyenv/versions/3.10.0/envs/llm-plotting/lib/python3.10/site-packages/pandas/core/groupby/groupby.py:1946\u001b[0m, in \u001b[0;36mGroupBy._agg_py_fallback\u001b[0;34m(self, how, values, ndim, alt)\u001b[0m\n\u001b[1;32m   1944\u001b[0m     msg \u001b[38;5;241m=\u001b[39m \u001b[38;5;124mf\u001b[39m\u001b[38;5;124m\"\u001b[39m\u001b[38;5;124magg function failed [how->\u001b[39m\u001b[38;5;132;01m{\u001b[39;00mhow\u001b[38;5;132;01m}\u001b[39;00m\u001b[38;5;124m,dtype->\u001b[39m\u001b[38;5;132;01m{\u001b[39;00mser\u001b[38;5;241m.\u001b[39mdtype\u001b[38;5;132;01m}\u001b[39;00m\u001b[38;5;124m]\u001b[39m\u001b[38;5;124m\"\u001b[39m\n\u001b[1;32m   1945\u001b[0m     \u001b[38;5;66;03m# preserve the kind of exception that raised\u001b[39;00m\n\u001b[0;32m-> 1946\u001b[0m     \u001b[38;5;28;01mraise\u001b[39;00m \u001b[38;5;28mtype\u001b[39m(err)(msg) \u001b[38;5;28;01mfrom\u001b[39;00m \u001b[38;5;21;01merr\u001b[39;00m\n\u001b[1;32m   1948\u001b[0m \u001b[38;5;28;01mif\u001b[39;00m ser\u001b[38;5;241m.\u001b[39mdtype \u001b[38;5;241m==\u001b[39m \u001b[38;5;28mobject\u001b[39m:\n\u001b[1;32m   1949\u001b[0m     res_values \u001b[38;5;241m=\u001b[39m res_values\u001b[38;5;241m.\u001b[39mastype(\u001b[38;5;28mobject\u001b[39m, copy\u001b[38;5;241m=\u001b[39m\u001b[38;5;28;01mFalse\u001b[39;00m)\n",
      "\u001b[0;31mTypeError\u001b[0m: agg function failed [how->mean,dtype->object]"
     ]
    }
   ],
   "source": [
    "import pandas as pd\n",
    "import plotly.express as px\n",
    "\n",
    "avg_salary_per_job = df.groupby('job_title')['salary'].mean().reset_index()\n",
    "\n",
    "# Selecting top 20 job titles by average salary for better legibility\n",
    "avg_salary_per_job = avg_salary_per_job.sort_values(by='salary', ascending=False).head(20)\n",
    "\n",
    "fig = px.bar(avg_salary_per_job, x='job_title', y='salary', title='Top 20 Job Titles by Average Salary')\n",
    "fig.update_layout(xaxis_tickangle=-45, xaxis_title='Job Title', yaxis_title='Average Salary (USD)',\n",
    "                  title={'x':0.5, 'xanchor': 'center'}, uniformtext_minsize=8, uniformtext_mode='hide')\n",
    "fig.update_traces(marker_color='rgb(158,202,225)', marker_line_color='rgb(8,48,107)',\n",
    "                  marker_line_width=1.5, opacity=0.6)\n",
    "fig.show()"
   ]
  },
  {
   "cell_type": "code",
   "execution_count": null,
   "metadata": {},
   "outputs": [],
   "source": []
  },
  {
   "cell_type": "code",
   "execution_count": 1,
   "metadata": {},
   "outputs": [
    {
     "name": "stdout",
     "output_type": "stream",
     "text": [
      "[1]\n",
      "[1, 2]\n",
      "[1, 2, 3]\n"
     ]
    }
   ],
   "source": [
    "def append_to(num, target=[]):\n",
    "    target.append(num)\n",
    "    return target\n",
    "\n",
    "print(append_to(1))  # prints: [1]\n",
    "print(append_to(2))  # prints: [1, 2]\n",
    "print(append_to(3))  # prints: [1, 2, 3]"
   ]
  },
  {
   "cell_type": "code",
   "execution_count": 8,
   "metadata": {},
   "outputs": [
    {
     "name": "stdout",
     "output_type": "stream",
     "text": [
      "plotly = \"^5.18\"\n",
      "pandas = \"^2.2\"\n",
      "numpy = \"^1.26\"\n",
      "kaleido = \"0.2.1\"\n",
      "\n"
     ]
    }
   ],
   "source": [
    "def parse_requirements(filename, names_only=False):\n",
    "    with open(filename, 'r') as file:\n",
    "        lines = file.readlines()\n",
    "\n",
    "    result = \"\"\n",
    "    for line in lines:\n",
    "        line = line.strip()\n",
    "        if not line:  # skip empty lines\n",
    "            continue\n",
    "        if \"==\" in line:\n",
    "            package, version = line.split(\"==\")\n",
    "            if names_only:\n",
    "                result += f\"{package}, \"\n",
    "            else:\n",
    "                result += f\"{package} = \\\"{version}\\\"\\n\"\n",
    "        elif \">=\" in line:\n",
    "            package, version = line.split(\">=\")\n",
    "            if names_only:\n",
    "                result += f\"{package}, \"\n",
    "            else:\n",
    "                result += f\"{package} = \\\"^{version}.0\\\"\\n\"\n",
    "        elif \"~=\" in line:\n",
    "            package, version = line.split(\"~=\")\n",
    "            if names_only:\n",
    "                result += f\"{package}, \"\n",
    "            else:\n",
    "                result += f\"{package} = \\\"^{version}\\\"\\n\"\n",
    "        else:\n",
    "            if names_only:\n",
    "                result += f\"{line}, \"\n",
    "            else:\n",
    "                result += f\"{line} = \\\"^\\\"\\n\"\n",
    "\n",
    "    return result.rstrip(', ') if names_only else result\n",
    "\n",
    "print(parse_requirements(\"llm_plotting/e2b/requirments.txt\"))"
   ]
  },
  {
   "cell_type": "code",
   "execution_count": 1,
   "metadata": {},
   "outputs": [],
   "source": [
    "from llm_plotting.settings import Settings\n",
    "settings = Settings()"
   ]
  },
  {
   "cell_type": "code",
   "execution_count": 1,
   "metadata": {},
   "outputs": [],
   "source": [
    "from llm_plotting.parsers import CodeAndDescription\n",
    "from langchain.output_parsers import PydanticOutputParser\n",
    "\n",
    "code_generation_output_parser = PydanticOutputParser(pydantic_object=CodeAndDescription)"
   ]
  },
  {
   "cell_type": "code",
   "execution_count": 2,
   "metadata": {},
   "outputs": [
    {
     "data": {
      "text/plain": [
       "'The output should be formatted as a JSON instance that conforms to the JSON schema below.\\n\\nAs an example, for the schema {\"properties\": {\"foo\": {\"title\": \"Foo\", \"description\": \"a list of strings\", \"type\": \"array\", \"items\": {\"type\": \"string\"}}}, \"required\": [\"foo\"]}\\nthe object {\"foo\": [\"bar\", \"baz\"]} is a well-formatted instance of the schema. The object {\"properties\": {\"foo\": [\"bar\", \"baz\"]}} is not well-formatted.\\n\\nHere is the output schema:\\n```\\n{\"properties\": {\"code\": {\"title\": \"Code\", \"description\": \"code to generate the plots\", \"type\": \"string\"}, \"description\": {\"title\": \"Description\", \"description\": \"brief description of the code and plots\", \"type\": \"string\"}}, \"required\": [\"code\", \"description\"]}\\n```'"
      ]
     },
     "execution_count": 2,
     "metadata": {},
     "output_type": "execute_result"
    }
   ],
   "source": [
    "code_generation_output_parser.get_format_instructions()"
   ]
  },
  {
   "cell_type": "code",
   "execution_count": 2,
   "metadata": {},
   "outputs": [],
   "source": [
    "from e2b import Sandbox\n"
   ]
  },
  {
   "cell_type": "code",
   "execution_count": 3,
   "metadata": {},
   "outputs": [],
   "source": [
    "sandbox = Sandbox(template=\"my-agent-sandbox-test\", api_key=settings.e2b_api_key)"
   ]
  },
  {
   "cell_type": "code",
   "execution_count": 9,
   "metadata": {},
   "outputs": [
    {
     "name": "stdout",
     "output_type": "stream",
     "text": [
      "Filesystem     1M-blocks  Used Available Use% Mounted on\n",
      "/dev/root           2001   997       988  51% /\n",
      "devtmpfs             237     0       237   0% /dev\n",
      "tmpfs                239     0       239   0% /dev/shm\n",
      "tmpfs                 96     1        96   1% /run\n",
      "tmpfs                  5     0         5   0% /run/lock\n",
      "\n"
     ]
    }
   ],
   "source": [
    "process = sandbox.process.start_and_wait('df -m')\n",
    "print(process.stdout)\n",
    "print(process.stderr)"
   ]
  },
  {
   "cell_type": "code",
   "execution_count": 3,
   "metadata": {},
   "outputs": [
    {
     "ename": "RuntimeError",
     "evalue": "asyncio.run() cannot be called from a running event loop",
     "output_type": "error",
     "traceback": [
      "\u001b[0;31m---------------------------------------------------------------------------\u001b[0m",
      "\u001b[0;31mRuntimeError\u001b[0m                              Traceback (most recent call last)",
      "Cell \u001b[0;32mIn[3], line 12\u001b[0m\n\u001b[1;32m      9\u001b[0m         pprint\u001b[38;5;241m.\u001b[39mpprint(chunk, depth\u001b[38;5;241m=\u001b[39m\u001b[38;5;241m1\u001b[39m)\n\u001b[1;32m     11\u001b[0m     \u001b[38;5;28;01mreturn\u001b[39;00m chunks \n\u001b[0;32m---> 12\u001b[0m chunks \u001b[38;5;241m=\u001b[39m \u001b[43masyncio\u001b[49m\u001b[38;5;241;43m.\u001b[39;49m\u001b[43mrun\u001b[49m\u001b[43m(\u001b[49m\u001b[43mrun_agent\u001b[49m\u001b[43m(\u001b[49m\u001b[43m)\u001b[49m\u001b[43m)\u001b[49m\n",
      "File \u001b[0;32m~/.pyenv/versions/3.10.0/lib/python3.10/asyncio/runners.py:33\u001b[0m, in \u001b[0;36mrun\u001b[0;34m(main, debug)\u001b[0m\n\u001b[1;32m      9\u001b[0m \u001b[38;5;250m\u001b[39m\u001b[38;5;124;03m\"\"\"Execute the coroutine and return the result.\u001b[39;00m\n\u001b[1;32m     10\u001b[0m \n\u001b[1;32m     11\u001b[0m \u001b[38;5;124;03mThis function runs the passed coroutine, taking care of\u001b[39;00m\n\u001b[0;32m   (...)\u001b[0m\n\u001b[1;32m     30\u001b[0m \u001b[38;5;124;03m    asyncio.run(main())\u001b[39;00m\n\u001b[1;32m     31\u001b[0m \u001b[38;5;124;03m\"\"\"\u001b[39;00m\n\u001b[1;32m     32\u001b[0m \u001b[38;5;28;01mif\u001b[39;00m events\u001b[38;5;241m.\u001b[39m_get_running_loop() \u001b[38;5;129;01mis\u001b[39;00m \u001b[38;5;129;01mnot\u001b[39;00m \u001b[38;5;28;01mNone\u001b[39;00m:\n\u001b[0;32m---> 33\u001b[0m     \u001b[38;5;28;01mraise\u001b[39;00m \u001b[38;5;167;01mRuntimeError\u001b[39;00m(\n\u001b[1;32m     34\u001b[0m         \u001b[38;5;124m\"\u001b[39m\u001b[38;5;124masyncio.run() cannot be called from a running event loop\u001b[39m\u001b[38;5;124m\"\u001b[39m)\n\u001b[1;32m     36\u001b[0m \u001b[38;5;28;01mif\u001b[39;00m \u001b[38;5;129;01mnot\u001b[39;00m coroutines\u001b[38;5;241m.\u001b[39miscoroutine(main):\n\u001b[1;32m     37\u001b[0m     \u001b[38;5;28;01mraise\u001b[39;00m \u001b[38;5;167;01mValueError\u001b[39;00m(\u001b[38;5;124m\"\u001b[39m\u001b[38;5;124ma coroutine was expected, got \u001b[39m\u001b[38;5;132;01m{!r}\u001b[39;00m\u001b[38;5;124m\"\u001b[39m\u001b[38;5;241m.\u001b[39mformat(main))\n",
      "\u001b[0;31mRuntimeError\u001b[0m: asyncio.run() cannot be called from a running event loop"
     ]
    }
   ],
   "source": [
    "async def run_agent():\n",
    "    chunks = []\n",
    "\n",
    "    async for chunk in agent_executor.astream(\n",
    "        {\"user_input\": user_input, \"metadata_json\": metadata_json}\n",
    "    ):\n",
    "        chunks.append(chunk)\n",
    "        print(\"------\")\n",
    "        pprint.pprint(chunk, depth=1)\n",
    "\n",
    "    return chunks \n",
    "chunks = asyncio.run(run_agent())"
   ]
  },
  {
   "cell_type": "code",
   "execution_count": 4,
   "metadata": {},
   "outputs": [
    {
     "ename": "RuntimeError",
     "evalue": "asyncio.run() cannot be called from a running event loop",
     "output_type": "error",
     "traceback": [
      "\u001b[0;31m---------------------------------------------------------------------------\u001b[0m",
      "\u001b[0;31mRuntimeError\u001b[0m                              Traceback (most recent call last)",
      "Cell \u001b[0;32mIn[4], line 1\u001b[0m\n\u001b[0;32m----> 1\u001b[0m chuncks \u001b[38;5;241m=\u001b[39m \u001b[43masyncio\u001b[49m\u001b[38;5;241;43m.\u001b[39;49m\u001b[43mrun\u001b[49m\u001b[43m(\u001b[49m\u001b[43mrun_agent\u001b[49m\u001b[43m(\u001b[49m\u001b[43m)\u001b[49m\u001b[43m)\u001b[49m\n",
      "File \u001b[0;32m~/.pyenv/versions/3.10.0/lib/python3.10/asyncio/runners.py:33\u001b[0m, in \u001b[0;36mrun\u001b[0;34m(main, debug)\u001b[0m\n\u001b[1;32m      9\u001b[0m \u001b[38;5;250m\u001b[39m\u001b[38;5;124;03m\"\"\"Execute the coroutine and return the result.\u001b[39;00m\n\u001b[1;32m     10\u001b[0m \n\u001b[1;32m     11\u001b[0m \u001b[38;5;124;03mThis function runs the passed coroutine, taking care of\u001b[39;00m\n\u001b[0;32m   (...)\u001b[0m\n\u001b[1;32m     30\u001b[0m \u001b[38;5;124;03m    asyncio.run(main())\u001b[39;00m\n\u001b[1;32m     31\u001b[0m \u001b[38;5;124;03m\"\"\"\u001b[39;00m\n\u001b[1;32m     32\u001b[0m \u001b[38;5;28;01mif\u001b[39;00m events\u001b[38;5;241m.\u001b[39m_get_running_loop() \u001b[38;5;129;01mis\u001b[39;00m \u001b[38;5;129;01mnot\u001b[39;00m \u001b[38;5;28;01mNone\u001b[39;00m:\n\u001b[0;32m---> 33\u001b[0m     \u001b[38;5;28;01mraise\u001b[39;00m \u001b[38;5;167;01mRuntimeError\u001b[39;00m(\n\u001b[1;32m     34\u001b[0m         \u001b[38;5;124m\"\u001b[39m\u001b[38;5;124masyncio.run() cannot be called from a running event loop\u001b[39m\u001b[38;5;124m\"\u001b[39m)\n\u001b[1;32m     36\u001b[0m \u001b[38;5;28;01mif\u001b[39;00m \u001b[38;5;129;01mnot\u001b[39;00m coroutines\u001b[38;5;241m.\u001b[39miscoroutine(main):\n\u001b[1;32m     37\u001b[0m     \u001b[38;5;28;01mraise\u001b[39;00m \u001b[38;5;167;01mValueError\u001b[39;00m(\u001b[38;5;124m\"\u001b[39m\u001b[38;5;124ma coroutine was expected, got \u001b[39m\u001b[38;5;132;01m{!r}\u001b[39;00m\u001b[38;5;124m\"\u001b[39m\u001b[38;5;241m.\u001b[39mformat(main))\n",
      "\u001b[0;31mRuntimeError\u001b[0m: asyncio.run() cannot be called from a running event loop"
     ]
    }
   ],
   "source": [
    "chuncks = asyncio.run(run_agent())"
   ]
  },
  {
   "cell_type": "code",
   "execution_count": 11,
   "metadata": {},
   "outputs": [
    {
     "name": "stdout",
     "output_type": "stream",
     "text": [
      "import pandas as pd\n",
      "import plotly.express as px\n",
      "import plotly.io as pio\n",
      "\n",
      "# Load the data\n",
      "df = pd.read_csv('df.csv')\n",
      "\n",
      "# Calculate the average salary for each job\n",
      "avg_salary = df.groupby('job_title')['salary'].mean().reset_index()\n",
      "\n",
      "# Create the plot\n",
      "fig = px.bar(avg_salary, x='job_title', y='salary', title='Average Salary by Job')\n",
      "\n",
      "# Save the figure\n",
      "pio.write_image(fig, 'figure.png')\n"
     ]
    }
   ],
   "source": [
    "a = (\n",
    "    \"import pandas as pd\\n\"\n",
    "    \"import plotly.express as px\\n\"\n",
    "    \"import plotly.io as pio\\n\\n\"\n",
    "    \"# Load the data\\n\"\n",
    "    \"df = pd.read_csv('df.csv')\\n\\n\"\n",
    "    \"# Calculate the average salary for each job\\n\"\n",
    "    \"avg_salary = df.groupby('job_title')['salary'].mean().reset_index()\\n\\n\"\n",
    "    \"# Create the plot\\n\"\n",
    "    \"fig = px.bar(avg_salary, x='job_title', y='salary', title='Average Salary by Job')\\n\\n\"\n",
    "    \"# Save the figure\\n\"\n",
    "    \"pio.write_image(fig, 'figure.png')\"\n",
    ")\n",
    "print(a)"
   ]
  },
  {
   "cell_type": "code",
   "execution_count": 2,
   "metadata": {},
   "outputs": [
    {
     "name": "stdout",
     "output_type": "stream",
     "text": [
      "\n",
      "\n",
      "\u001b[1m> Entering new AgentExecutor chain...\u001b[0m\n"
     ]
    },
    {
     "name": "stderr",
     "output_type": "stream",
     "text": [
      "INFO:httpx:HTTP Request: POST https://api.openai.com/v1/chat/completions \"HTTP/1.1 200 OK\"\n"
     ]
    },
    {
     "name": "stdout",
     "output_type": "stream",
     "text": [
      "\u001b[32;1m\u001b[1;3mCould not parse tool input: {'arguments': \"import pandas as pd\\nimport plotly.express as px\\nimport plotly.io as pio\\n\\n# Load the data\\ndf = pd.read_csv('df.csv')\\n\\n# Calculate the average salary for each job\\navg_salary = df.groupby('job_title')['salary'].mean().reset_index()\\n\\n# Create the plot\\nfig = px.bar(avg_salary, x='job_title', y='salary', title='Average Salary by Job')\\n\\n# Save the figure\\npio.write_image(fig, 'figure.png')\", 'name': 'python'} because the `arguments` is not valid JSON.\u001b[0mInvalid or incomplete response"
     ]
    },
    {
     "name": "stderr",
     "output_type": "stream",
     "text": [
      "INFO:httpx:HTTP Request: POST https://api.openai.com/v1/chat/completions \"HTTP/1.1 200 OK\"\n",
      "INFO:e2b.sandbox.main:Creating sandbox my-agent-sandbox-test\n",
      "INFO:e2b.sandbox.sandbox_connection:Sandbox for template my-agent-sandbox-test initialized\n",
      "INFO:e2b.sandbox.main:Opening sandbox my-agent-sandbox-test\n"
     ]
    },
    {
     "name": "stdout",
     "output_type": "stream",
     "text": [
      "\u001b[32;1m\u001b[1;3m\n",
      "Invoking: `CodeValidationTool` with `{'code': \"import pandas as pd\\nimport plotly.express as px\\nimport plotly.io as pio\\n\\n# Load the data\\ndf = pd.read_csv('df.csv')\\n\\n# Calculate the average salary for each job\\navg_salary = df.groupby('job_title')['salary'].mean().reset_index()\\n\\n# Create the plot\\nfig = px.bar(avg_salary, x='job_title', y='salary', title='Average Salary by Job')\\n\\n# Save the figure\\npio.write_image(fig, 'figure.png')\", 'description': 'Plot of the average salary of every job'}`\n",
      "\n",
      "\n",
      "\u001b[0m"
     ]
    },
    {
     "name": "stderr",
     "output_type": "stream",
     "text": [
      "INFO:e2b.sandbox.sandbox_connection:Sandbox tn3bvfw713dxzl0l798c created (id:izfcawjeq6tdgyki6n81n)\n",
      "INFO:e2b.sandbox.sandbox_connection:Started refreshing sandbox tn3bvfw713dxzl0l798c (id: izfcawjeq6tdgyki6n81n)\n",
      "INFO:e2b.sandbox.sandbox_rpc:WebSocket waiting to start\n",
      "INFO:e2b.sandbox.websocket_client:WebSocket connected to wss://49982-izfcawjeq6tdgyki6n81n-e645bfea.e2b.dev/ws\n",
      "INFO:e2b.sandbox.sandbox_rpc:WebSocket started\n",
      "INFO:e2b.sandbox.main:Sandbox my-agent-sandbox-test opened\n",
      "INFO:e2b.sandbox.process:Starting process: python3 /index.py\n",
      "INFO:e2b.sandbox.process:Started process (id: iuKp59UZB6cG)\n",
      "INFO:e2b.sandbox.process:Process iuKp59UZB6cG exited with exit code 0\n",
      "INFO:e2b.sandbox.process:Handling process exit (id: iuKp59UZB6cG)\n",
      "INFO:e2b.sandbox.sandbox_connection:Closing sandbox tn3bvfw713dxzl0l798c (id: izfcawjeq6tdgyki6n81n)\n",
      "INFO:e2b.sandbox.sandbox_connection:Sandbox closed\n",
      "INFO:e2b.sandbox.websocket_client:WebSocket stopped\n",
      "INFO:e2b.sandbox.sandbox_connection:Stopped refreshing sandbox (id: izfcawjeq6tdgyki6n81n)\n"
     ]
    },
    {
     "name": "stdout",
     "output_type": "stream",
     "text": [
      "\u001b[36;1m\u001b[1;3mThe plot is not legible for the following reasons:\n",
      "\n",
      "1. The job titles on the x-axis are overlapping and unreadable. This makes it impossible to determine which bar corresponds to which job title.\n",
      "2. The color choice for the bars and the background does not provide enough contrast, which may further impede readability for users with visual impairments or when the plot is printed in black and white.\n",
      "\n",
      "To improve the plot:\n",
      "\n",
      "- Rotate the job title labels on the x-axis to a vertical position or apply an angle that makes them readable without overlapping.\n",
      "- Increase the font size of the axis labels if possible.\n",
      "- Consider using a color scheme with higher contrast between the bars and the background.\n",
      "- You could also consider using a different type of chart, such as a horizontal bar chart, which tends to handle long category names better.\n",
      "\n",
      "Please regenerate the code with these changes and run the code through this validation tool before returning code to the user.\u001b[0m"
     ]
    },
    {
     "name": "stderr",
     "output_type": "stream",
     "text": [
      "INFO:httpx:HTTP Request: POST https://api.openai.com/v1/chat/completions \"HTTP/1.1 200 OK\"\n",
      "INFO:e2b.sandbox.main:Creating sandbox my-agent-sandbox-test\n",
      "INFO:e2b.sandbox.sandbox_connection:Sandbox for template my-agent-sandbox-test initialized\n",
      "INFO:e2b.sandbox.main:Opening sandbox my-agent-sandbox-test\n"
     ]
    },
    {
     "name": "stdout",
     "output_type": "stream",
     "text": [
      "\u001b[32;1m\u001b[1;3m\n",
      "Invoking: `CodeValidationTool` with `{'code': \"import pandas as pd\\nimport plotly.express as px\\nimport plotly.io as pio\\n\\n# Load the data\\ndf = pd.read_csv('df.csv')\\n\\n# Calculate the average salary for each job\\navg_salary = df.groupby('job_title')['salary'].mean().reset_index()\\n\\n# Create the plot\\nfig = px.bar(avg_salary, x='job_title', y='salary', title='Average Salary by Job')\\n\\n# Customize the plot\\nfig.update_layout(xaxis_tickangle=-45, xaxis_tickfont=dict(size=10), plot_bgcolor='white', paper_bgcolor='white')\\n\\n# Save the figure\\npio.write_image(fig, 'figure.png')\", 'description': 'Plot of the average salary of every job'}`\n",
      "\n",
      "\n",
      "\u001b[0m"
     ]
    },
    {
     "name": "stderr",
     "output_type": "stream",
     "text": [
      "INFO:e2b.sandbox.sandbox_connection:Sandbox tn3bvfw713dxzl0l798c created (id:i8yhdjkdllpwj9688b78z)\n",
      "INFO:e2b.sandbox.sandbox_connection:Started refreshing sandbox tn3bvfw713dxzl0l798c (id: i8yhdjkdllpwj9688b78z)\n",
      "INFO:e2b.sandbox.sandbox_rpc:WebSocket waiting to start\n",
      "INFO:e2b.sandbox.websocket_client:WebSocket connected to wss://49982-i8yhdjkdllpwj9688b78z-e645bfea.e2b.dev/ws\n",
      "INFO:e2b.sandbox.sandbox_rpc:WebSocket started\n",
      "INFO:e2b.sandbox.main:Sandbox my-agent-sandbox-test opened\n",
      "INFO:e2b.sandbox.process:Starting process: python3 /index.py\n",
      "INFO:e2b.sandbox.process:Started process (id: p6U6WUxOIuCD)\n",
      "INFO:e2b.sandbox.process:Process p6U6WUxOIuCD exited with exit code 0\n",
      "INFO:e2b.sandbox.process:Handling process exit (id: p6U6WUxOIuCD)\n",
      "INFO:e2b.sandbox.sandbox_connection:Closing sandbox tn3bvfw713dxzl0l798c (id: i8yhdjkdllpwj9688b78z)\n",
      "INFO:e2b.sandbox.sandbox_connection:Sandbox closed\n",
      "INFO:e2b.sandbox.websocket_client:WebSocket stopped\n",
      "INFO:e2b.sandbox.sandbox_connection:Stopped refreshing sandbox (id: i8yhdjkdllpwj9688b78z)\n"
     ]
    },
    {
     "name": "stdout",
     "output_type": "stream",
     "text": [
      "\u001b[36;1m\u001b[1;3mThe plot is not legible due to the following issues:\n",
      "\n",
      "1. The x-axis labels (job titles) overlap and are unreadable.\n",
      "2. The plot might benefit from having a larger variety of colors or differentiating aspects to make it easier to distinguish between different job titles, especially since there are many categories.\n",
      "\n",
      "To improve the plot, consider the following changes:\n",
      "\n",
      "- Rotate the job title labels on the x-axis to a 45-degree angle or make them vertical to prevent overlap and improve readability.\n",
      "- Increase the spacing between the x-axis labels if possible.\n",
      "- If there are too many job titles, consider showing a subset or aggregating similar jobs under a single category.\n",
      "- Employ different colors for bars or additional visual elements to help differentiate between job titles.\n",
      "\n",
      "Please adjust the plot with these changes and run the code through this validation tool before returning the code to the user.\u001b[0m"
     ]
    },
    {
     "name": "stderr",
     "output_type": "stream",
     "text": [
      "INFO:httpx:HTTP Request: POST https://api.openai.com/v1/chat/completions \"HTTP/1.1 200 OK\"\n",
      "INFO:e2b.sandbox.main:Creating sandbox my-agent-sandbox-test\n",
      "INFO:e2b.sandbox.sandbox_connection:Sandbox for template my-agent-sandbox-test initialized\n",
      "INFO:e2b.sandbox.main:Opening sandbox my-agent-sandbox-test\n"
     ]
    },
    {
     "name": "stdout",
     "output_type": "stream",
     "text": [
      "\u001b[32;1m\u001b[1;3m\n",
      "Invoking: `CodeValidationTool` with `{'code': \"import pandas as pd\\nimport plotly.express as px\\nimport plotly.io as pio\\n\\n# Load the data\\ndf = pd.read_csv('df.csv')\\n\\n# Calculate the average salary for each job\\navg_salary = df.groupby('job_title')['salary'].mean().reset_index()\\n\\n# Create the plot\\nfig = px.bar(avg_salary, x='job_title', y='salary', title='Average Salary by Job', color='job_title')\\n\\n# Customize the plot\\nfig.update_layout(xaxis_tickangle=-45, xaxis_tickfont=dict(size=10), plot_bgcolor='white', paper_bgcolor='white')\\n\\n# Save the figure\\npio.write_image(fig, 'figure.png')\", 'description': 'Plot of the average salary of every job'}`\n",
      "\n",
      "\n",
      "\u001b[0m"
     ]
    },
    {
     "name": "stderr",
     "output_type": "stream",
     "text": [
      "INFO:e2b.sandbox.sandbox_connection:Sandbox tn3bvfw713dxzl0l798c created (id:ixxzd2z2ekz3kvkru3gvz)\n",
      "INFO:e2b.sandbox.sandbox_connection:Started refreshing sandbox tn3bvfw713dxzl0l798c (id: ixxzd2z2ekz3kvkru3gvz)\n",
      "INFO:e2b.sandbox.sandbox_rpc:WebSocket waiting to start\n",
      "INFO:e2b.sandbox.websocket_client:WebSocket connected to wss://49982-ixxzd2z2ekz3kvkru3gvz-e645bfea.e2b.dev/ws\n",
      "INFO:e2b.sandbox.sandbox_rpc:WebSocket started\n",
      "INFO:e2b.sandbox.main:Sandbox my-agent-sandbox-test opened\n",
      "INFO:e2b.sandbox.process:Starting process: python3 /index.py\n",
      "INFO:e2b.sandbox.process:Started process (id: AJWhDqb8ZYcG)\n",
      "INFO:e2b.sandbox.process:Process AJWhDqb8ZYcG exited with exit code 0\n",
      "INFO:e2b.sandbox.process:Handling process exit (id: AJWhDqb8ZYcG)\n",
      "INFO:e2b.sandbox.sandbox_connection:Closing sandbox tn3bvfw713dxzl0l798c (id: ixxzd2z2ekz3kvkru3gvz)\n",
      "INFO:e2b.sandbox.sandbox_connection:Sandbox closed\n",
      "INFO:e2b.sandbox.websocket_client:WebSocket stopped\n",
      "INFO:e2b.sandbox.sandbox_connection:Stopped refreshing sandbox (id: ixxzd2z2ekz3kvkru3gvz)\n"
     ]
    },
    {
     "name": "stdout",
     "output_type": "stream",
     "text": [
      "\u001b[36;1m\u001b[1;3mThere is an issue with the plot provided: the x-axis labels (job titles) are overlapping and unreadable. This makes it difficult to associate the individual salary values with their corresponding job titles accurately.\n",
      "\n",
      "To fix this issue, you can try one or more of the following:\n",
      "1. Rotate the x-axis labels to make them vertical or at a 45-degree angle to prevent overlap.\n",
      "2. Increase the width of the plot to spread out the labels.\n",
      "3. Decrease the font size slightly for the axis labels.\n",
      "4. If the number of categories (job titles) is too high, consider using an interactive plot that allows users to zoom in on the axis or hover over bars for detailed information.\n",
      "\n",
      "Please regenerate the code with the suggested changes and run the code through this validation tool before returning the code to the user.\u001b[0m"
     ]
    },
    {
     "name": "stderr",
     "output_type": "stream",
     "text": [
      "INFO:httpx:HTTP Request: POST https://api.openai.com/v1/chat/completions \"HTTP/1.1 200 OK\"\n",
      "INFO:e2b.sandbox.main:Creating sandbox my-agent-sandbox-test\n",
      "INFO:e2b.sandbox.sandbox_connection:Sandbox for template my-agent-sandbox-test initialized\n",
      "INFO:e2b.sandbox.main:Opening sandbox my-agent-sandbox-test\n"
     ]
    },
    {
     "name": "stdout",
     "output_type": "stream",
     "text": [
      "\u001b[32;1m\u001b[1;3m\n",
      "Invoking: `CodeValidationTool` with `{'code': \"import pandas as pd\\nimport plotly.express as px\\nimport plotly.io as pio\\n\\n# Load the data\\ndf = pd.read_csv('df.csv')\\n\\n# Calculate the average salary for each job\\navg_salary = df.groupby('job_title')['salary'].mean().reset_index()\\n\\n# Create the plot\\nfig = px.bar(avg_salary, x='job_title', y='salary', title='Average Salary by Job', color='job_title')\\n\\n# Customize the plot\\nfig.update_layout(xaxis_tickangle=-45, xaxis_tickfont=dict(size=10), width=800, height=500, plot_bgcolor='white', paper_bgcolor='white')\\n\\n# Save the figure\\npio.write_image(fig, 'figure.png')\", 'description': 'Plot of the average salary of every job'}`\n",
      "\n",
      "\n",
      "\u001b[0m"
     ]
    },
    {
     "name": "stderr",
     "output_type": "stream",
     "text": [
      "INFO:e2b.sandbox.sandbox_connection:Sandbox tn3bvfw713dxzl0l798c created (id:ivj7kg1q8b7xd7erxwwb5)\n",
      "INFO:e2b.sandbox.sandbox_connection:Started refreshing sandbox tn3bvfw713dxzl0l798c (id: ivj7kg1q8b7xd7erxwwb5)\n",
      "INFO:e2b.sandbox.sandbox_rpc:WebSocket waiting to start\n",
      "INFO:e2b.sandbox.websocket_client:WebSocket connected to wss://49982-ivj7kg1q8b7xd7erxwwb5-e645bfea.e2b.dev/ws\n",
      "INFO:e2b.sandbox.sandbox_rpc:WebSocket started\n",
      "INFO:e2b.sandbox.main:Sandbox my-agent-sandbox-test opened\n",
      "INFO:e2b.sandbox.process:Starting process: python3 /index.py\n",
      "INFO:e2b.sandbox.process:Started process (id: OsPkpXIbg3dO)\n",
      "INFO:e2b.sandbox.process:Process OsPkpXIbg3dO exited with exit code 0\n",
      "INFO:e2b.sandbox.process:Handling process exit (id: OsPkpXIbg3dO)\n",
      "INFO:e2b.sandbox.sandbox_connection:Closing sandbox tn3bvfw713dxzl0l798c (id: ivj7kg1q8b7xd7erxwwb5)\n",
      "INFO:e2b.sandbox.sandbox_connection:Sandbox closed\n",
      "INFO:e2b.sandbox.websocket_client:WebSocket stopped\n",
      "INFO:e2b.sandbox.sandbox_connection:Stopped refreshing sandbox (id: ivj7kg1q8b7xd7erxwwb5)\n"
     ]
    },
    {
     "name": "stdout",
     "output_type": "stream",
     "text": [
      "\u001b[36;1m\u001b[1;3mThe plot is not legible due to the following issues:\n",
      "\n",
      "1. The x-axis labels (job titles) are overlapping and unreadable. This makes it impossible to distinguish between the different job titles.\n",
      "2. The plot has too many categories close together, which makes it difficult to see individual bars clearly and to compare between them.\n",
      "\n",
      "Here are some suggestions to improve the plot:\n",
      "\n",
      "- Consider using a larger plot size or smaller font for the job titles to avoid overlapping.\n",
      "- A more effective visualization could be to select a subset of the data, such as the top 10 highest-paid jobs or grouping similar job titles.\n",
      "- Another solution is to rotate the job title text or utilize interactive hovering features that display the job title when hovering over a specific bar.\n",
      "- If there's a need to show all the data, then an interactive plot where users can zoom in and scroll could be beneficial.\n",
      "- Use different types of charts, such as a horizontal bar chart, which might accommodate the job titles better.\n",
      "- Reduce the number of job titles by grouping them into broader categories, if possible.\n",
      "\n",
      "Please regenerate the code with these changes and run the code through this validation tool before returning code to the user.\u001b[0m\u001b[32;1m\u001b[1;3m\u001b[0m\n",
      "\n",
      "\u001b[1m> Finished chain.\u001b[0m\n"
     ]
    }
   ],
   "source": [
    "#==================== Run agent ====================\n",
    "output = agent_executor.invoke(\n",
    "    {\"user_input\": user_input, \"metadata_json\": metadata_json}\n",
    ")\n"
   ]
  }
 ],
 "metadata": {
  "kernelspec": {
   "display_name": "llm-plotting",
   "language": "python",
   "name": "python3"
  },
  "language_info": {
   "codemirror_mode": {
    "name": "ipython",
    "version": 3
   },
   "file_extension": ".py",
   "mimetype": "text/x-python",
   "name": "python",
   "nbconvert_exporter": "python",
   "pygments_lexer": "ipython3",
   "version": "3.10.0"
  }
 },
 "nbformat": 4,
 "nbformat_minor": 2
}
