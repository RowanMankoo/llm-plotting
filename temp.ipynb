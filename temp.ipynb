{
 "cells": [
  {
   "cell_type": "code",
   "execution_count": 1,
   "metadata": {},
   "outputs": [],
   "source": [
    "import json\n",
    "import logging\n",
    "import asyncio\n",
    "import pprint\n",
    "\n",
    "import pandas as pd\n",
    "\n",
    "from llm_plotting.settings import Settings\n",
    "from llm_plotting.utils import extract_metadata, setup_agent_executor, pull_image_in_base64_history\n",
    "\n",
    "if __name__ == \"__main__\":\n",
    "    logging.basicConfig(level=logging.INFO)\n",
    "\n",
    "    # ==================== User setup/input ====================\n",
    "    settings = Settings()\n",
    "    user_input = \"make a plot of the average salary of every job, and validate it\"\n",
    "\n",
    "    df = pd.read_csv(\"jobs_in_data.csv\")\n",
    "    metadata_json = extract_metadata(df)\n",
    "\n",
    "    # ==================== Agent setup ====================\n",
    "\n",
    "    agent_executor = setup_agent_executor(settings, df)\n",
    "\n"
   ]
  },
  {
   "cell_type": "code",
   "execution_count": 1,
   "metadata": {},
   "outputs": [],
   "source": [
    "from llm_plotting.settings import Settings\n",
    "settings = Settings()"
   ]
  },
  {
   "cell_type": "code",
   "execution_count": 2,
   "metadata": {},
   "outputs": [],
   "source": [
    "from e2b import Sandbox\n"
   ]
  },
  {
   "cell_type": "code",
   "execution_count": 3,
   "metadata": {},
   "outputs": [],
   "source": [
    "sandbox = Sandbox(template=\"my-agent-sandbox-test\", api_key=settings.e2b_api_key)"
   ]
  },
  {
   "cell_type": "code",
   "execution_count": 9,
   "metadata": {},
   "outputs": [
    {
     "name": "stdout",
     "output_type": "stream",
     "text": [
      "Filesystem     1M-blocks  Used Available Use% Mounted on\n",
      "/dev/root           2001   997       988  51% /\n",
      "devtmpfs             237     0       237   0% /dev\n",
      "tmpfs                239     0       239   0% /dev/shm\n",
      "tmpfs                 96     1        96   1% /run\n",
      "tmpfs                  5     0         5   0% /run/lock\n",
      "\n"
     ]
    }
   ],
   "source": [
    "process = sandbox.process.start_and_wait('df -m')\n",
    "print(process.stdout)\n",
    "print(process.stderr)"
   ]
  },
  {
   "cell_type": "code",
   "execution_count": 3,
   "metadata": {},
   "outputs": [
    {
     "ename": "RuntimeError",
     "evalue": "asyncio.run() cannot be called from a running event loop",
     "output_type": "error",
     "traceback": [
      "\u001b[0;31m---------------------------------------------------------------------------\u001b[0m",
      "\u001b[0;31mRuntimeError\u001b[0m                              Traceback (most recent call last)",
      "Cell \u001b[0;32mIn[3], line 12\u001b[0m\n\u001b[1;32m      9\u001b[0m         pprint\u001b[38;5;241m.\u001b[39mpprint(chunk, depth\u001b[38;5;241m=\u001b[39m\u001b[38;5;241m1\u001b[39m)\n\u001b[1;32m     11\u001b[0m     \u001b[38;5;28;01mreturn\u001b[39;00m chunks \n\u001b[0;32m---> 12\u001b[0m chunks \u001b[38;5;241m=\u001b[39m \u001b[43masyncio\u001b[49m\u001b[38;5;241;43m.\u001b[39;49m\u001b[43mrun\u001b[49m\u001b[43m(\u001b[49m\u001b[43mrun_agent\u001b[49m\u001b[43m(\u001b[49m\u001b[43m)\u001b[49m\u001b[43m)\u001b[49m\n",
      "File \u001b[0;32m~/.pyenv/versions/3.10.0/lib/python3.10/asyncio/runners.py:33\u001b[0m, in \u001b[0;36mrun\u001b[0;34m(main, debug)\u001b[0m\n\u001b[1;32m      9\u001b[0m \u001b[38;5;250m\u001b[39m\u001b[38;5;124;03m\"\"\"Execute the coroutine and return the result.\u001b[39;00m\n\u001b[1;32m     10\u001b[0m \n\u001b[1;32m     11\u001b[0m \u001b[38;5;124;03mThis function runs the passed coroutine, taking care of\u001b[39;00m\n\u001b[0;32m   (...)\u001b[0m\n\u001b[1;32m     30\u001b[0m \u001b[38;5;124;03m    asyncio.run(main())\u001b[39;00m\n\u001b[1;32m     31\u001b[0m \u001b[38;5;124;03m\"\"\"\u001b[39;00m\n\u001b[1;32m     32\u001b[0m \u001b[38;5;28;01mif\u001b[39;00m events\u001b[38;5;241m.\u001b[39m_get_running_loop() \u001b[38;5;129;01mis\u001b[39;00m \u001b[38;5;129;01mnot\u001b[39;00m \u001b[38;5;28;01mNone\u001b[39;00m:\n\u001b[0;32m---> 33\u001b[0m     \u001b[38;5;28;01mraise\u001b[39;00m \u001b[38;5;167;01mRuntimeError\u001b[39;00m(\n\u001b[1;32m     34\u001b[0m         \u001b[38;5;124m\"\u001b[39m\u001b[38;5;124masyncio.run() cannot be called from a running event loop\u001b[39m\u001b[38;5;124m\"\u001b[39m)\n\u001b[1;32m     36\u001b[0m \u001b[38;5;28;01mif\u001b[39;00m \u001b[38;5;129;01mnot\u001b[39;00m coroutines\u001b[38;5;241m.\u001b[39miscoroutine(main):\n\u001b[1;32m     37\u001b[0m     \u001b[38;5;28;01mraise\u001b[39;00m \u001b[38;5;167;01mValueError\u001b[39;00m(\u001b[38;5;124m\"\u001b[39m\u001b[38;5;124ma coroutine was expected, got \u001b[39m\u001b[38;5;132;01m{!r}\u001b[39;00m\u001b[38;5;124m\"\u001b[39m\u001b[38;5;241m.\u001b[39mformat(main))\n",
      "\u001b[0;31mRuntimeError\u001b[0m: asyncio.run() cannot be called from a running event loop"
     ]
    }
   ],
   "source": [
    "async def run_agent():\n",
    "    chunks = []\n",
    "\n",
    "    async for chunk in agent_executor.astream(\n",
    "        {\"user_input\": user_input, \"metadata_json\": metadata_json}\n",
    "    ):\n",
    "        chunks.append(chunk)\n",
    "        print(\"------\")\n",
    "        pprint.pprint(chunk, depth=1)\n",
    "\n",
    "    return chunks \n",
    "chunks = asyncio.run(run_agent())"
   ]
  },
  {
   "cell_type": "code",
   "execution_count": 4,
   "metadata": {},
   "outputs": [
    {
     "ename": "RuntimeError",
     "evalue": "asyncio.run() cannot be called from a running event loop",
     "output_type": "error",
     "traceback": [
      "\u001b[0;31m---------------------------------------------------------------------------\u001b[0m",
      "\u001b[0;31mRuntimeError\u001b[0m                              Traceback (most recent call last)",
      "Cell \u001b[0;32mIn[4], line 1\u001b[0m\n\u001b[0;32m----> 1\u001b[0m chuncks \u001b[38;5;241m=\u001b[39m \u001b[43masyncio\u001b[49m\u001b[38;5;241;43m.\u001b[39;49m\u001b[43mrun\u001b[49m\u001b[43m(\u001b[49m\u001b[43mrun_agent\u001b[49m\u001b[43m(\u001b[49m\u001b[43m)\u001b[49m\u001b[43m)\u001b[49m\n",
      "File \u001b[0;32m~/.pyenv/versions/3.10.0/lib/python3.10/asyncio/runners.py:33\u001b[0m, in \u001b[0;36mrun\u001b[0;34m(main, debug)\u001b[0m\n\u001b[1;32m      9\u001b[0m \u001b[38;5;250m\u001b[39m\u001b[38;5;124;03m\"\"\"Execute the coroutine and return the result.\u001b[39;00m\n\u001b[1;32m     10\u001b[0m \n\u001b[1;32m     11\u001b[0m \u001b[38;5;124;03mThis function runs the passed coroutine, taking care of\u001b[39;00m\n\u001b[0;32m   (...)\u001b[0m\n\u001b[1;32m     30\u001b[0m \u001b[38;5;124;03m    asyncio.run(main())\u001b[39;00m\n\u001b[1;32m     31\u001b[0m \u001b[38;5;124;03m\"\"\"\u001b[39;00m\n\u001b[1;32m     32\u001b[0m \u001b[38;5;28;01mif\u001b[39;00m events\u001b[38;5;241m.\u001b[39m_get_running_loop() \u001b[38;5;129;01mis\u001b[39;00m \u001b[38;5;129;01mnot\u001b[39;00m \u001b[38;5;28;01mNone\u001b[39;00m:\n\u001b[0;32m---> 33\u001b[0m     \u001b[38;5;28;01mraise\u001b[39;00m \u001b[38;5;167;01mRuntimeError\u001b[39;00m(\n\u001b[1;32m     34\u001b[0m         \u001b[38;5;124m\"\u001b[39m\u001b[38;5;124masyncio.run() cannot be called from a running event loop\u001b[39m\u001b[38;5;124m\"\u001b[39m)\n\u001b[1;32m     36\u001b[0m \u001b[38;5;28;01mif\u001b[39;00m \u001b[38;5;129;01mnot\u001b[39;00m coroutines\u001b[38;5;241m.\u001b[39miscoroutine(main):\n\u001b[1;32m     37\u001b[0m     \u001b[38;5;28;01mraise\u001b[39;00m \u001b[38;5;167;01mValueError\u001b[39;00m(\u001b[38;5;124m\"\u001b[39m\u001b[38;5;124ma coroutine was expected, got \u001b[39m\u001b[38;5;132;01m{!r}\u001b[39;00m\u001b[38;5;124m\"\u001b[39m\u001b[38;5;241m.\u001b[39mformat(main))\n",
      "\u001b[0;31mRuntimeError\u001b[0m: asyncio.run() cannot be called from a running event loop"
     ]
    }
   ],
   "source": [
    "chuncks = asyncio.run(run_agent())"
   ]
  },
  {
   "cell_type": "code",
   "execution_count": 11,
   "metadata": {},
   "outputs": [
    {
     "name": "stdout",
     "output_type": "stream",
     "text": [
      "import pandas as pd\n",
      "import plotly.express as px\n",
      "import plotly.io as pio\n",
      "\n",
      "# Load the data\n",
      "df = pd.read_csv('df.csv')\n",
      "\n",
      "# Calculate the average salary for each job\n",
      "avg_salary = df.groupby('job_title')['salary'].mean().reset_index()\n",
      "\n",
      "# Create the plot\n",
      "fig = px.bar(avg_salary, x='job_title', y='salary', title='Average Salary by Job')\n",
      "\n",
      "# Save the figure\n",
      "pio.write_image(fig, 'figure.png')\n"
     ]
    }
   ],
   "source": [
    "a = (\n",
    "    \"import pandas as pd\\n\"\n",
    "    \"import plotly.express as px\\n\"\n",
    "    \"import plotly.io as pio\\n\\n\"\n",
    "    \"# Load the data\\n\"\n",
    "    \"df = pd.read_csv('df.csv')\\n\\n\"\n",
    "    \"# Calculate the average salary for each job\\n\"\n",
    "    \"avg_salary = df.groupby('job_title')['salary'].mean().reset_index()\\n\\n\"\n",
    "    \"# Create the plot\\n\"\n",
    "    \"fig = px.bar(avg_salary, x='job_title', y='salary', title='Average Salary by Job')\\n\\n\"\n",
    "    \"# Save the figure\\n\"\n",
    "    \"pio.write_image(fig, 'figure.png')\"\n",
    ")\n",
    "print(a)"
   ]
  },
  {
   "cell_type": "code",
   "execution_count": 2,
   "metadata": {},
   "outputs": [
    {
     "name": "stdout",
     "output_type": "stream",
     "text": [
      "\n",
      "\n",
      "\u001b[1m> Entering new AgentExecutor chain...\u001b[0m\n"
     ]
    },
    {
     "name": "stderr",
     "output_type": "stream",
     "text": [
      "INFO:httpx:HTTP Request: POST https://api.openai.com/v1/chat/completions \"HTTP/1.1 200 OK\"\n"
     ]
    },
    {
     "name": "stdout",
     "output_type": "stream",
     "text": [
      "\u001b[32;1m\u001b[1;3mCould not parse tool input: {'arguments': \"import pandas as pd\\nimport plotly.express as px\\nimport plotly.io as pio\\n\\n# Load the data\\ndf = pd.read_csv('df.csv')\\n\\n# Calculate the average salary for each job\\navg_salary = df.groupby('job_title')['salary'].mean().reset_index()\\n\\n# Create the plot\\nfig = px.bar(avg_salary, x='job_title', y='salary', title='Average Salary by Job')\\n\\n# Save the figure\\npio.write_image(fig, 'figure.png')\", 'name': 'python'} because the `arguments` is not valid JSON.\u001b[0mInvalid or incomplete response"
     ]
    },
    {
     "name": "stderr",
     "output_type": "stream",
     "text": [
      "INFO:httpx:HTTP Request: POST https://api.openai.com/v1/chat/completions \"HTTP/1.1 200 OK\"\n",
      "INFO:e2b.sandbox.main:Creating sandbox my-agent-sandbox-test\n",
      "INFO:e2b.sandbox.sandbox_connection:Sandbox for template my-agent-sandbox-test initialized\n",
      "INFO:e2b.sandbox.main:Opening sandbox my-agent-sandbox-test\n"
     ]
    },
    {
     "name": "stdout",
     "output_type": "stream",
     "text": [
      "\u001b[32;1m\u001b[1;3m\n",
      "Invoking: `CodeValidationTool` with `{'code': \"import pandas as pd\\nimport plotly.express as px\\nimport plotly.io as pio\\n\\n# Load the data\\ndf = pd.read_csv('df.csv')\\n\\n# Calculate the average salary for each job\\navg_salary = df.groupby('job_title')['salary'].mean().reset_index()\\n\\n# Create the plot\\nfig = px.bar(avg_salary, x='job_title', y='salary', title='Average Salary by Job')\\n\\n# Save the figure\\npio.write_image(fig, 'figure.png')\", 'description': 'Plot of the average salary of every job'}`\n",
      "\n",
      "\n",
      "\u001b[0m"
     ]
    },
    {
     "name": "stderr",
     "output_type": "stream",
     "text": [
      "INFO:e2b.sandbox.sandbox_connection:Sandbox tn3bvfw713dxzl0l798c created (id:izfcawjeq6tdgyki6n81n)\n",
      "INFO:e2b.sandbox.sandbox_connection:Started refreshing sandbox tn3bvfw713dxzl0l798c (id: izfcawjeq6tdgyki6n81n)\n",
      "INFO:e2b.sandbox.sandbox_rpc:WebSocket waiting to start\n",
      "INFO:e2b.sandbox.websocket_client:WebSocket connected to wss://49982-izfcawjeq6tdgyki6n81n-e645bfea.e2b.dev/ws\n",
      "INFO:e2b.sandbox.sandbox_rpc:WebSocket started\n",
      "INFO:e2b.sandbox.main:Sandbox my-agent-sandbox-test opened\n",
      "INFO:e2b.sandbox.process:Starting process: python3 /index.py\n",
      "INFO:e2b.sandbox.process:Started process (id: iuKp59UZB6cG)\n",
      "INFO:e2b.sandbox.process:Process iuKp59UZB6cG exited with exit code 0\n",
      "INFO:e2b.sandbox.process:Handling process exit (id: iuKp59UZB6cG)\n",
      "INFO:e2b.sandbox.sandbox_connection:Closing sandbox tn3bvfw713dxzl0l798c (id: izfcawjeq6tdgyki6n81n)\n",
      "INFO:e2b.sandbox.sandbox_connection:Sandbox closed\n",
      "INFO:e2b.sandbox.websocket_client:WebSocket stopped\n",
      "INFO:e2b.sandbox.sandbox_connection:Stopped refreshing sandbox (id: izfcawjeq6tdgyki6n81n)\n"
     ]
    },
    {
     "name": "stdout",
     "output_type": "stream",
     "text": [
      "\u001b[36;1m\u001b[1;3mThe plot is not legible for the following reasons:\n",
      "\n",
      "1. The job titles on the x-axis are overlapping and unreadable. This makes it impossible to determine which bar corresponds to which job title.\n",
      "2. The color choice for the bars and the background does not provide enough contrast, which may further impede readability for users with visual impairments or when the plot is printed in black and white.\n",
      "\n",
      "To improve the plot:\n",
      "\n",
      "- Rotate the job title labels on the x-axis to a vertical position or apply an angle that makes them readable without overlapping.\n",
      "- Increase the font size of the axis labels if possible.\n",
      "- Consider using a color scheme with higher contrast between the bars and the background.\n",
      "- You could also consider using a different type of chart, such as a horizontal bar chart, which tends to handle long category names better.\n",
      "\n",
      "Please regenerate the code with these changes and run the code through this validation tool before returning code to the user.\u001b[0m"
     ]
    },
    {
     "name": "stderr",
     "output_type": "stream",
     "text": [
      "INFO:httpx:HTTP Request: POST https://api.openai.com/v1/chat/completions \"HTTP/1.1 200 OK\"\n",
      "INFO:e2b.sandbox.main:Creating sandbox my-agent-sandbox-test\n",
      "INFO:e2b.sandbox.sandbox_connection:Sandbox for template my-agent-sandbox-test initialized\n",
      "INFO:e2b.sandbox.main:Opening sandbox my-agent-sandbox-test\n"
     ]
    },
    {
     "name": "stdout",
     "output_type": "stream",
     "text": [
      "\u001b[32;1m\u001b[1;3m\n",
      "Invoking: `CodeValidationTool` with `{'code': \"import pandas as pd\\nimport plotly.express as px\\nimport plotly.io as pio\\n\\n# Load the data\\ndf = pd.read_csv('df.csv')\\n\\n# Calculate the average salary for each job\\navg_salary = df.groupby('job_title')['salary'].mean().reset_index()\\n\\n# Create the plot\\nfig = px.bar(avg_salary, x='job_title', y='salary', title='Average Salary by Job')\\n\\n# Customize the plot\\nfig.update_layout(xaxis_tickangle=-45, xaxis_tickfont=dict(size=10), plot_bgcolor='white', paper_bgcolor='white')\\n\\n# Save the figure\\npio.write_image(fig, 'figure.png')\", 'description': 'Plot of the average salary of every job'}`\n",
      "\n",
      "\n",
      "\u001b[0m"
     ]
    },
    {
     "name": "stderr",
     "output_type": "stream",
     "text": [
      "INFO:e2b.sandbox.sandbox_connection:Sandbox tn3bvfw713dxzl0l798c created (id:i8yhdjkdllpwj9688b78z)\n",
      "INFO:e2b.sandbox.sandbox_connection:Started refreshing sandbox tn3bvfw713dxzl0l798c (id: i8yhdjkdllpwj9688b78z)\n",
      "INFO:e2b.sandbox.sandbox_rpc:WebSocket waiting to start\n",
      "INFO:e2b.sandbox.websocket_client:WebSocket connected to wss://49982-i8yhdjkdllpwj9688b78z-e645bfea.e2b.dev/ws\n",
      "INFO:e2b.sandbox.sandbox_rpc:WebSocket started\n",
      "INFO:e2b.sandbox.main:Sandbox my-agent-sandbox-test opened\n",
      "INFO:e2b.sandbox.process:Starting process: python3 /index.py\n",
      "INFO:e2b.sandbox.process:Started process (id: p6U6WUxOIuCD)\n",
      "INFO:e2b.sandbox.process:Process p6U6WUxOIuCD exited with exit code 0\n",
      "INFO:e2b.sandbox.process:Handling process exit (id: p6U6WUxOIuCD)\n",
      "INFO:e2b.sandbox.sandbox_connection:Closing sandbox tn3bvfw713dxzl0l798c (id: i8yhdjkdllpwj9688b78z)\n",
      "INFO:e2b.sandbox.sandbox_connection:Sandbox closed\n",
      "INFO:e2b.sandbox.websocket_client:WebSocket stopped\n",
      "INFO:e2b.sandbox.sandbox_connection:Stopped refreshing sandbox (id: i8yhdjkdllpwj9688b78z)\n"
     ]
    },
    {
     "name": "stdout",
     "output_type": "stream",
     "text": [
      "\u001b[36;1m\u001b[1;3mThe plot is not legible due to the following issues:\n",
      "\n",
      "1. The x-axis labels (job titles) overlap and are unreadable.\n",
      "2. The plot might benefit from having a larger variety of colors or differentiating aspects to make it easier to distinguish between different job titles, especially since there are many categories.\n",
      "\n",
      "To improve the plot, consider the following changes:\n",
      "\n",
      "- Rotate the job title labels on the x-axis to a 45-degree angle or make them vertical to prevent overlap and improve readability.\n",
      "- Increase the spacing between the x-axis labels if possible.\n",
      "- If there are too many job titles, consider showing a subset or aggregating similar jobs under a single category.\n",
      "- Employ different colors for bars or additional visual elements to help differentiate between job titles.\n",
      "\n",
      "Please adjust the plot with these changes and run the code through this validation tool before returning the code to the user.\u001b[0m"
     ]
    },
    {
     "name": "stderr",
     "output_type": "stream",
     "text": [
      "INFO:httpx:HTTP Request: POST https://api.openai.com/v1/chat/completions \"HTTP/1.1 200 OK\"\n",
      "INFO:e2b.sandbox.main:Creating sandbox my-agent-sandbox-test\n",
      "INFO:e2b.sandbox.sandbox_connection:Sandbox for template my-agent-sandbox-test initialized\n",
      "INFO:e2b.sandbox.main:Opening sandbox my-agent-sandbox-test\n"
     ]
    },
    {
     "name": "stdout",
     "output_type": "stream",
     "text": [
      "\u001b[32;1m\u001b[1;3m\n",
      "Invoking: `CodeValidationTool` with `{'code': \"import pandas as pd\\nimport plotly.express as px\\nimport plotly.io as pio\\n\\n# Load the data\\ndf = pd.read_csv('df.csv')\\n\\n# Calculate the average salary for each job\\navg_salary = df.groupby('job_title')['salary'].mean().reset_index()\\n\\n# Create the plot\\nfig = px.bar(avg_salary, x='job_title', y='salary', title='Average Salary by Job', color='job_title')\\n\\n# Customize the plot\\nfig.update_layout(xaxis_tickangle=-45, xaxis_tickfont=dict(size=10), plot_bgcolor='white', paper_bgcolor='white')\\n\\n# Save the figure\\npio.write_image(fig, 'figure.png')\", 'description': 'Plot of the average salary of every job'}`\n",
      "\n",
      "\n",
      "\u001b[0m"
     ]
    },
    {
     "name": "stderr",
     "output_type": "stream",
     "text": [
      "INFO:e2b.sandbox.sandbox_connection:Sandbox tn3bvfw713dxzl0l798c created (id:ixxzd2z2ekz3kvkru3gvz)\n",
      "INFO:e2b.sandbox.sandbox_connection:Started refreshing sandbox tn3bvfw713dxzl0l798c (id: ixxzd2z2ekz3kvkru3gvz)\n",
      "INFO:e2b.sandbox.sandbox_rpc:WebSocket waiting to start\n",
      "INFO:e2b.sandbox.websocket_client:WebSocket connected to wss://49982-ixxzd2z2ekz3kvkru3gvz-e645bfea.e2b.dev/ws\n",
      "INFO:e2b.sandbox.sandbox_rpc:WebSocket started\n",
      "INFO:e2b.sandbox.main:Sandbox my-agent-sandbox-test opened\n",
      "INFO:e2b.sandbox.process:Starting process: python3 /index.py\n",
      "INFO:e2b.sandbox.process:Started process (id: AJWhDqb8ZYcG)\n",
      "INFO:e2b.sandbox.process:Process AJWhDqb8ZYcG exited with exit code 0\n",
      "INFO:e2b.sandbox.process:Handling process exit (id: AJWhDqb8ZYcG)\n",
      "INFO:e2b.sandbox.sandbox_connection:Closing sandbox tn3bvfw713dxzl0l798c (id: ixxzd2z2ekz3kvkru3gvz)\n",
      "INFO:e2b.sandbox.sandbox_connection:Sandbox closed\n",
      "INFO:e2b.sandbox.websocket_client:WebSocket stopped\n",
      "INFO:e2b.sandbox.sandbox_connection:Stopped refreshing sandbox (id: ixxzd2z2ekz3kvkru3gvz)\n"
     ]
    },
    {
     "name": "stdout",
     "output_type": "stream",
     "text": [
      "\u001b[36;1m\u001b[1;3mThere is an issue with the plot provided: the x-axis labels (job titles) are overlapping and unreadable. This makes it difficult to associate the individual salary values with their corresponding job titles accurately.\n",
      "\n",
      "To fix this issue, you can try one or more of the following:\n",
      "1. Rotate the x-axis labels to make them vertical or at a 45-degree angle to prevent overlap.\n",
      "2. Increase the width of the plot to spread out the labels.\n",
      "3. Decrease the font size slightly for the axis labels.\n",
      "4. If the number of categories (job titles) is too high, consider using an interactive plot that allows users to zoom in on the axis or hover over bars for detailed information.\n",
      "\n",
      "Please regenerate the code with the suggested changes and run the code through this validation tool before returning the code to the user.\u001b[0m"
     ]
    },
    {
     "name": "stderr",
     "output_type": "stream",
     "text": [
      "INFO:httpx:HTTP Request: POST https://api.openai.com/v1/chat/completions \"HTTP/1.1 200 OK\"\n",
      "INFO:e2b.sandbox.main:Creating sandbox my-agent-sandbox-test\n",
      "INFO:e2b.sandbox.sandbox_connection:Sandbox for template my-agent-sandbox-test initialized\n",
      "INFO:e2b.sandbox.main:Opening sandbox my-agent-sandbox-test\n"
     ]
    },
    {
     "name": "stdout",
     "output_type": "stream",
     "text": [
      "\u001b[32;1m\u001b[1;3m\n",
      "Invoking: `CodeValidationTool` with `{'code': \"import pandas as pd\\nimport plotly.express as px\\nimport plotly.io as pio\\n\\n# Load the data\\ndf = pd.read_csv('df.csv')\\n\\n# Calculate the average salary for each job\\navg_salary = df.groupby('job_title')['salary'].mean().reset_index()\\n\\n# Create the plot\\nfig = px.bar(avg_salary, x='job_title', y='salary', title='Average Salary by Job', color='job_title')\\n\\n# Customize the plot\\nfig.update_layout(xaxis_tickangle=-45, xaxis_tickfont=dict(size=10), width=800, height=500, plot_bgcolor='white', paper_bgcolor='white')\\n\\n# Save the figure\\npio.write_image(fig, 'figure.png')\", 'description': 'Plot of the average salary of every job'}`\n",
      "\n",
      "\n",
      "\u001b[0m"
     ]
    },
    {
     "name": "stderr",
     "output_type": "stream",
     "text": [
      "INFO:e2b.sandbox.sandbox_connection:Sandbox tn3bvfw713dxzl0l798c created (id:ivj7kg1q8b7xd7erxwwb5)\n",
      "INFO:e2b.sandbox.sandbox_connection:Started refreshing sandbox tn3bvfw713dxzl0l798c (id: ivj7kg1q8b7xd7erxwwb5)\n",
      "INFO:e2b.sandbox.sandbox_rpc:WebSocket waiting to start\n",
      "INFO:e2b.sandbox.websocket_client:WebSocket connected to wss://49982-ivj7kg1q8b7xd7erxwwb5-e645bfea.e2b.dev/ws\n",
      "INFO:e2b.sandbox.sandbox_rpc:WebSocket started\n",
      "INFO:e2b.sandbox.main:Sandbox my-agent-sandbox-test opened\n",
      "INFO:e2b.sandbox.process:Starting process: python3 /index.py\n",
      "INFO:e2b.sandbox.process:Started process (id: OsPkpXIbg3dO)\n",
      "INFO:e2b.sandbox.process:Process OsPkpXIbg3dO exited with exit code 0\n",
      "INFO:e2b.sandbox.process:Handling process exit (id: OsPkpXIbg3dO)\n",
      "INFO:e2b.sandbox.sandbox_connection:Closing sandbox tn3bvfw713dxzl0l798c (id: ivj7kg1q8b7xd7erxwwb5)\n",
      "INFO:e2b.sandbox.sandbox_connection:Sandbox closed\n",
      "INFO:e2b.sandbox.websocket_client:WebSocket stopped\n",
      "INFO:e2b.sandbox.sandbox_connection:Stopped refreshing sandbox (id: ivj7kg1q8b7xd7erxwwb5)\n"
     ]
    },
    {
     "name": "stdout",
     "output_type": "stream",
     "text": [
      "\u001b[36;1m\u001b[1;3mThe plot is not legible due to the following issues:\n",
      "\n",
      "1. The x-axis labels (job titles) are overlapping and unreadable. This makes it impossible to distinguish between the different job titles.\n",
      "2. The plot has too many categories close together, which makes it difficult to see individual bars clearly and to compare between them.\n",
      "\n",
      "Here are some suggestions to improve the plot:\n",
      "\n",
      "- Consider using a larger plot size or smaller font for the job titles to avoid overlapping.\n",
      "- A more effective visualization could be to select a subset of the data, such as the top 10 highest-paid jobs or grouping similar job titles.\n",
      "- Another solution is to rotate the job title text or utilize interactive hovering features that display the job title when hovering over a specific bar.\n",
      "- If there's a need to show all the data, then an interactive plot where users can zoom in and scroll could be beneficial.\n",
      "- Use different types of charts, such as a horizontal bar chart, which might accommodate the job titles better.\n",
      "- Reduce the number of job titles by grouping them into broader categories, if possible.\n",
      "\n",
      "Please regenerate the code with these changes and run the code through this validation tool before returning code to the user.\u001b[0m\u001b[32;1m\u001b[1;3m\u001b[0m\n",
      "\n",
      "\u001b[1m> Finished chain.\u001b[0m\n"
     ]
    }
   ],
   "source": [
    "#==================== Run agent ====================\n",
    "output = agent_executor.invoke(\n",
    "    {\"user_input\": user_input, \"metadata_json\": metadata_json}\n",
    ")\n"
   ]
  }
 ],
 "metadata": {
  "kernelspec": {
   "display_name": "llm-plotting",
   "language": "python",
   "name": "python3"
  },
  "language_info": {
   "codemirror_mode": {
    "name": "ipython",
    "version": 3
   },
   "file_extension": ".py",
   "mimetype": "text/x-python",
   "name": "python",
   "nbconvert_exporter": "python",
   "pygments_lexer": "ipython3",
   "version": "3.10.0"
  }
 },
 "nbformat": 4,
 "nbformat_minor": 2
}
